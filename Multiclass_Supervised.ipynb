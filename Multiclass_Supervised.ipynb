{
 "cells": [
  {
   "cell_type": "markdown",
   "metadata": {},
   "source": [
    "\n",
    "# Multiclass Supervised SVM"
   ]
  },
  {
   "cell_type": "code",
   "execution_count": 1,
   "metadata": {
    "ExecuteTime": {
     "end_time": "2020-05-31T14:03:47.147796Z",
     "start_time": "2020-05-31T14:03:44.238182Z"
    }
   },
   "outputs": [],
   "source": [
    "import pandas as pd\n",
    "import numpy as np\n",
    "import string\n",
    "import nltk\n",
    "import spacy\n",
    "import matplotlib"
   ]
  },
  {
   "cell_type": "code",
   "execution_count": 2,
   "metadata": {
    "ExecuteTime": {
     "end_time": "2020-05-31T14:03:47.170531Z",
     "start_time": "2020-05-31T14:03:47.166551Z"
    }
   },
   "outputs": [],
   "source": [
    "np.random.seed(123)"
   ]
  },
  {
   "cell_type": "markdown",
   "metadata": {},
   "source": [
    "- Read the data, check the distribution of sentiment scores and split the dataset in train and test"
   ]
  },
  {
   "cell_type": "code",
   "execution_count": 3,
   "metadata": {
    "ExecuteTime": {
     "end_time": "2020-05-31T14:03:47.691681Z",
     "start_time": "2020-05-31T14:03:47.199454Z"
    }
   },
   "outputs": [
    {
     "data": {
      "text/plain": [
       "ARTICLE      343\n",
       "BODY         343\n",
       "DATE         343\n",
       "HEADLINE     343\n",
       "SENTIMENT    343\n",
       "dtype: int64"
      ]
     },
     "execution_count": 3,
     "metadata": {},
     "output_type": "execute_result"
    }
   ],
   "source": [
    "# df = pd.read_json('Data.json')\n",
    "data = pd.read_json('Data_rescored.json')\n",
    "df = data.loc[~pd.isna(data.SENTIMENT)]\n",
    "df.count()"
   ]
  },
  {
   "cell_type": "code",
   "execution_count": 4,
   "metadata": {
    "ExecuteTime": {
     "end_time": "2020-05-31T14:03:48.708137Z",
     "start_time": "2020-05-31T14:03:48.616353Z"
    }
   },
   "outputs": [
    {
     "name": "stderr",
     "output_type": "stream",
     "text": [
      "C:\\Users\\petro\\Anaconda3\\lib\\site-packages\\pandas\\core\\indexing.py:543: SettingWithCopyWarning: \n",
      "A value is trying to be set on a copy of a slice from a DataFrame.\n",
      "Try using .loc[row_indexer,col_indexer] = value instead\n",
      "\n",
      "See the caveats in the documentation: http://pandas.pydata.org/pandas-docs/stable/indexing.html#indexing-view-versus-copy\n",
      "  self.obj[item] = s\n"
     ]
    }
   ],
   "source": [
    "df.loc[df.SENTIMENT==-0.5,'SENTIMENT']=-1\n",
    "df.loc[df.SENTIMENT==0.5,'SENTIMENT']=1"
   ]
  },
  {
   "cell_type": "code",
   "execution_count": 5,
   "metadata": {
    "ExecuteTime": {
     "end_time": "2020-05-31T14:03:49.844947Z",
     "start_time": "2020-05-31T14:03:49.840958Z"
    }
   },
   "outputs": [],
   "source": [
    "# Run this chunck instead of the previous one in order to have 5 classes \n",
    "\n",
    "# df.loc[df.SENTIMENT==-1,'SENTIMENT']=-2\n",
    "# df.loc[df.SENTIMENT==1,'SENTIMENT']=2\n",
    "# df.loc[df.SENTIMENT==-0.5,'SENTIMENT']=-1\n",
    "# df.loc[df.SENTIMENT==0.5,'SENTIMENT']=1"
   ]
  },
  {
   "cell_type": "code",
   "execution_count": 6,
   "metadata": {
    "ExecuteTime": {
     "end_time": "2020-05-31T14:03:51.243087Z",
     "start_time": "2020-05-31T14:03:50.934969Z"
    }
   },
   "outputs": [
    {
     "data": {
      "text/plain": [
       "<matplotlib.axes._subplots.AxesSubplot at 0x260aabb26d8>"
      ]
     },
     "execution_count": 6,
     "metadata": {},
     "output_type": "execute_result"
    }
   ],
   "source": [
    "df.SENTIMENT.plot.hist()"
   ]
  },
  {
   "cell_type": "code",
   "execution_count": 7,
   "metadata": {
    "ExecuteTime": {
     "end_time": "2020-05-31T14:03:52.544748Z",
     "start_time": "2020-05-31T14:03:52.530786Z"
    }
   },
   "outputs": [
    {
     "data": {
      "text/html": [
       "<div>\n",
       "<style scoped>\n",
       "    .dataframe tbody tr th:only-of-type {\n",
       "        vertical-align: middle;\n",
       "    }\n",
       "\n",
       "    .dataframe tbody tr th {\n",
       "        vertical-align: top;\n",
       "    }\n",
       "\n",
       "    .dataframe thead th {\n",
       "        text-align: right;\n",
       "    }\n",
       "</style>\n",
       "<table border=\"1\" class=\"dataframe\">\n",
       "  <thead>\n",
       "    <tr style=\"text-align: right;\">\n",
       "      <th></th>\n",
       "      <th>ARTICLE</th>\n",
       "      <th>BODY</th>\n",
       "      <th>DATE</th>\n",
       "      <th>HEADLINE</th>\n",
       "    </tr>\n",
       "    <tr>\n",
       "      <th>SENTIMENT</th>\n",
       "      <th></th>\n",
       "      <th></th>\n",
       "      <th></th>\n",
       "      <th></th>\n",
       "    </tr>\n",
       "  </thead>\n",
       "  <tbody>\n",
       "    <tr>\n",
       "      <th>-1.0</th>\n",
       "      <td>52</td>\n",
       "      <td>52</td>\n",
       "      <td>52</td>\n",
       "      <td>52</td>\n",
       "    </tr>\n",
       "    <tr>\n",
       "      <th>0.0</th>\n",
       "      <td>246</td>\n",
       "      <td>246</td>\n",
       "      <td>246</td>\n",
       "      <td>246</td>\n",
       "    </tr>\n",
       "    <tr>\n",
       "      <th>1.0</th>\n",
       "      <td>45</td>\n",
       "      <td>45</td>\n",
       "      <td>45</td>\n",
       "      <td>45</td>\n",
       "    </tr>\n",
       "  </tbody>\n",
       "</table>\n",
       "</div>"
      ],
      "text/plain": [
       "           ARTICLE  BODY  DATE  HEADLINE\n",
       "SENTIMENT                               \n",
       "-1.0            52    52    52        52\n",
       " 0.0           246   246   246       246\n",
       " 1.0            45    45    45        45"
      ]
     },
     "execution_count": 7,
     "metadata": {},
     "output_type": "execute_result"
    }
   ],
   "source": [
    "df.groupby('SENTIMENT').count()"
   ]
  },
  {
   "cell_type": "code",
   "execution_count": 8,
   "metadata": {
    "ExecuteTime": {
     "end_time": "2020-05-31T14:03:54.957384Z",
     "start_time": "2020-05-31T14:03:54.918466Z"
    }
   },
   "outputs": [
    {
     "data": {
      "text/html": [
       "<div>\n",
       "<style scoped>\n",
       "    .dataframe tbody tr th:only-of-type {\n",
       "        vertical-align: middle;\n",
       "    }\n",
       "\n",
       "    .dataframe tbody tr th {\n",
       "        vertical-align: top;\n",
       "    }\n",
       "\n",
       "    .dataframe thead th {\n",
       "        text-align: right;\n",
       "    }\n",
       "</style>\n",
       "<table border=\"1\" class=\"dataframe\">\n",
       "  <thead>\n",
       "    <tr style=\"text-align: right;\">\n",
       "      <th></th>\n",
       "      <th>ARTICLE</th>\n",
       "      <th>BODY</th>\n",
       "      <th>DATE</th>\n",
       "      <th>HEADLINE</th>\n",
       "    </tr>\n",
       "    <tr>\n",
       "      <th>SENTIMENT</th>\n",
       "      <th></th>\n",
       "      <th></th>\n",
       "      <th></th>\n",
       "      <th></th>\n",
       "    </tr>\n",
       "  </thead>\n",
       "  <tbody>\n",
       "    <tr>\n",
       "      <th>-1.0</th>\n",
       "      <td>0.152</td>\n",
       "      <td>0.152</td>\n",
       "      <td>0.152</td>\n",
       "      <td>0.152</td>\n",
       "    </tr>\n",
       "    <tr>\n",
       "      <th>0.0</th>\n",
       "      <td>0.717</td>\n",
       "      <td>0.717</td>\n",
       "      <td>0.717</td>\n",
       "      <td>0.717</td>\n",
       "    </tr>\n",
       "    <tr>\n",
       "      <th>1.0</th>\n",
       "      <td>0.131</td>\n",
       "      <td>0.131</td>\n",
       "      <td>0.131</td>\n",
       "      <td>0.131</td>\n",
       "    </tr>\n",
       "  </tbody>\n",
       "</table>\n",
       "</div>"
      ],
      "text/plain": [
       "           ARTICLE   BODY   DATE  HEADLINE\n",
       "SENTIMENT                                 \n",
       "-1.0         0.152  0.152  0.152     0.152\n",
       " 0.0         0.717  0.717  0.717     0.717\n",
       " 1.0         0.131  0.131  0.131     0.131"
      ]
     },
     "execution_count": 8,
     "metadata": {},
     "output_type": "execute_result"
    }
   ],
   "source": [
    "round(df.groupby('SENTIMENT').count()/df.shape[0], 3)"
   ]
  },
  {
   "cell_type": "markdown",
   "metadata": {},
   "source": [
    "## Train - Test split"
   ]
  },
  {
   "cell_type": "code",
   "execution_count": 9,
   "metadata": {
    "ExecuteTime": {
     "end_time": "2020-05-31T14:03:56.413041Z",
     "start_time": "2020-05-31T14:03:56.409374Z"
    }
   },
   "outputs": [],
   "source": [
    "from sklearn.model_selection import train_test_split"
   ]
  },
  {
   "cell_type": "code",
   "execution_count": 10,
   "metadata": {
    "ExecuteTime": {
     "end_time": "2020-05-31T14:03:57.380403Z",
     "start_time": "2020-05-31T14:03:57.359487Z"
    }
   },
   "outputs": [],
   "source": [
    "train, test = train_test_split(df, test_size=0.203, stratify= df.SENTIMENT, random_state=12345)"
   ]
  },
  {
   "cell_type": "code",
   "execution_count": 11,
   "metadata": {
    "ExecuteTime": {
     "end_time": "2020-05-31T14:03:58.075882Z",
     "start_time": "2020-05-31T14:03:58.069898Z"
    }
   },
   "outputs": [],
   "source": [
    "Y_train = train.SENTIMENT\n",
    "Y_test = test.SENTIMENT"
   ]
  },
  {
   "cell_type": "code",
   "execution_count": 12,
   "metadata": {
    "ExecuteTime": {
     "end_time": "2020-05-31T14:03:58.788702Z",
     "start_time": "2020-05-31T14:03:58.782719Z"
    }
   },
   "outputs": [
    {
     "data": {
      "text/plain": [
       "273"
      ]
     },
     "execution_count": 12,
     "metadata": {},
     "output_type": "execute_result"
    }
   ],
   "source": [
    "Y_train.count()"
   ]
  },
  {
   "cell_type": "code",
   "execution_count": 13,
   "metadata": {
    "ExecuteTime": {
     "end_time": "2020-05-31T14:03:59.612160Z",
     "start_time": "2020-05-31T14:03:59.606176Z"
    }
   },
   "outputs": [
    {
     "data": {
      "text/plain": [
       "70"
      ]
     },
     "execution_count": 13,
     "metadata": {},
     "output_type": "execute_result"
    }
   ],
   "source": [
    "Y_test.count()"
   ]
  },
  {
   "cell_type": "markdown",
   "metadata": {},
   "source": [
    "## Scoring Metrics"
   ]
  },
  {
   "cell_type": "code",
   "execution_count": 14,
   "metadata": {
    "ExecuteTime": {
     "end_time": "2020-05-31T14:04:01.347437Z",
     "start_time": "2020-05-31T14:04:01.343069Z"
    }
   },
   "outputs": [],
   "source": [
    "from sklearn.metrics import accuracy_score, f1_score, balanced_accuracy_score\n",
    "from sklearn.metrics import precision_score, recall_score, classification_report\n",
    "from sklearn.metrics import make_scorer"
   ]
  },
  {
   "cell_type": "code",
   "execution_count": 15,
   "metadata": {
    "ExecuteTime": {
     "end_time": "2020-05-31T14:04:02.089139Z",
     "start_time": "2020-05-31T14:04:02.082632Z"
    }
   },
   "outputs": [],
   "source": [
    "def scores(Y_test, yhat ):\n",
    "    acc = round(accuracy_score(Y_test, yhat) , 4)\n",
    "    f = round(f1_score(Y_test, yhat, pos_label=1, average=\"macro\") , 4)\n",
    "    rec = round(recall_score(Y_test, yhat, pos_label=1, average=\"macro\") , 4)\n",
    "    prec = round(precision_score(Y_test, yhat, pos_label=1, average=\"macro\") , 4)\n",
    "    acc2 = round(balanced_accuracy_score(Y_test, yhat) , 4)\n",
    "    scoring_temp = np.array([[acc, f, rec, prec,acc2]])\n",
    "    cols = ['Accuracy', 'F-Score', 'Recall', 'Precision', 'Balanced Accuracy']\n",
    "    scoring= pd.DataFrame(scoring_temp, columns=cols)\n",
    "    return scoring"
   ]
  },
  {
   "cell_type": "markdown",
   "metadata": {},
   "source": [
    "## BoW Approach"
   ]
  },
  {
   "cell_type": "markdown",
   "metadata": {},
   "source": [
    "- Bag-of-Word approaches create sparse matrices with tokens (words) as columns\n",
    "- Two different weighting procedures: CountVectorizer and TF-IDF"
   ]
  },
  {
   "cell_type": "markdown",
   "metadata": {},
   "source": [
    "### CountVectorizer"
   ]
  },
  {
   "cell_type": "code",
   "execution_count": 19,
   "metadata": {
    "ExecuteTime": {
     "end_time": "2020-05-10T10:44:12.006920Z",
     "start_time": "2020-05-10T10:44:11.995951Z"
    }
   },
   "outputs": [],
   "source": [
    "from sklearn.pipeline import Pipeline\n",
    "from sklearn.model_selection import GridSearchCV\n",
    "from sklearn.model_selection import RandomizedSearchCV\n",
    "from sklearn.feature_extraction.text import CountVectorizer\n",
    "from sklearn import svm\n",
    "from preprocessing import PREPROCESSING"
   ]
  },
  {
   "cell_type": "code",
   "execution_count": 18,
   "metadata": {
    "ExecuteTime": {
     "end_time": "2020-05-03T08:00:00.755853Z",
     "start_time": "2020-05-03T08:00:00.750440Z"
    }
   },
   "outputs": [],
   "source": [
    "count_vect = CountVectorizer()\n",
    "svm_classifier = svm.SVC(class_weight='balanced')\n",
    "\n",
    "pipe = Pipeline(steps=[('vectorizer', count_vect), ('svm', svm_classifier)])"
   ]
  },
  {
   "cell_type": "markdown",
   "metadata": {},
   "source": [
    "#### Linear SVM"
   ]
  },
  {
   "cell_type": "markdown",
   "metadata": {},
   "source": [
    "- Optimization using stratified 5-fold cross validation\n",
    "\n",
    " The class distribution is not homogeneous and we are more interested in the negative and positive labels.\n",
    " \n",
    " Therefore the refrence metric is the average between F1 Scores belonging to the negative and positive classes respectively"
   ]
  },
  {
   "cell_type": "code",
   "execution_count": 20,
   "metadata": {
    "ExecuteTime": {
     "end_time": "2020-05-03T08:05:52.744278Z",
     "start_time": "2020-05-03T08:00:06.751007Z"
    }
   },
   "outputs": [],
   "source": [
    "param_grid =   { 'vectorizer__tokenizer':[PREPROCESSING.process, PREPROCESSING.process_lemmatizer, PREPROCESSING.process_stop,\n",
    "                                          PREPROCESSING.process_lemmatizer_stop],\n",
    "               'vectorizer__max_features': [500, 1000, 2000, 5000],\n",
    "               'vectorizer__ngram_range': [(1,1), (1,2), (1,3)],\n",
    "               'svm__kernel': ['linear'],\n",
    "               'svm__C': [0.01, 0.1, 1, 10, 100]}                \n",
    "    \n",
    "\n",
    "#search_lin = GridSearchCV(pipe, param_grid, cv=5, scoring=\"balanced_accuracy\", verbose=0, n_jobs=-1)\n",
    "search_lin = RandomizedSearchCV(pipe, param_grid, cv=5, scoring='balanced_accuracy', verbose=0, n_jobs=-1, n_iter=50)\n",
    "fit_lin = search_lin.fit(train.ARTICLE, Y_train)\n",
    "yhat_lin_cv = fit_lin.predict(test.ARTICLE)"
   ]
  },
  {
   "cell_type": "markdown",
   "metadata": {},
   "source": [
    "- Results and Confusion Matrix"
   ]
  },
  {
   "cell_type": "code",
   "execution_count": 21,
   "metadata": {
    "ExecuteTime": {
     "end_time": "2020-05-03T08:08:13.206535Z",
     "start_time": "2020-05-03T08:08:13.199305Z"
    }
   },
   "outputs": [],
   "source": [
    "CV_cv_lin = pd.DataFrame(fit_lin.cv_results_)\n",
    "#CV_cv_lin.to_latex()"
   ]
  },
  {
   "cell_type": "code",
   "execution_count": 22,
   "metadata": {
    "ExecuteTime": {
     "end_time": "2020-05-03T08:08:14.663548Z",
     "start_time": "2020-05-03T08:08:14.655443Z"
    }
   },
   "outputs": [
    {
     "name": "stdout",
     "output_type": "stream",
     "text": [
      "{'vectorizer__tokenizer': <function PREPROCESSING.process_lemmatizer at 0x00000263A3664378>, 'vectorizer__ngram_range': (1, 2), 'vectorizer__max_features': 1000, 'svm__kernel': 'linear', 'svm__C': 0.01}\n",
      "0.6099755799755799\n"
     ]
    }
   ],
   "source": [
    "print(fit_lin.best_params_)\n",
    "print(fit_lin.best_score_) "
   ]
  },
  {
   "cell_type": "code",
   "execution_count": 129,
   "metadata": {
    "ExecuteTime": {
     "end_time": "2020-05-03T11:15:16.564684Z",
     "start_time": "2020-05-03T11:15:16.505792Z"
    }
   },
   "outputs": [
    {
     "data": {
      "text/html": [
       "<div>\n",
       "<style scoped>\n",
       "    .dataframe tbody tr th:only-of-type {\n",
       "        vertical-align: middle;\n",
       "    }\n",
       "\n",
       "    .dataframe tbody tr th {\n",
       "        vertical-align: top;\n",
       "    }\n",
       "\n",
       "    .dataframe thead th {\n",
       "        text-align: right;\n",
       "    }\n",
       "</style>\n",
       "<table border=\"1\" class=\"dataframe\">\n",
       "  <thead>\n",
       "    <tr style=\"text-align: right;\">\n",
       "      <th>True</th>\n",
       "      <th>-1.0</th>\n",
       "      <th>0.0</th>\n",
       "      <th>1.0</th>\n",
       "      <th>All</th>\n",
       "    </tr>\n",
       "    <tr>\n",
       "      <th>Predicted</th>\n",
       "      <th></th>\n",
       "      <th></th>\n",
       "      <th></th>\n",
       "      <th></th>\n",
       "    </tr>\n",
       "  </thead>\n",
       "  <tbody>\n",
       "    <tr>\n",
       "      <th>-1.0</th>\n",
       "      <td>6</td>\n",
       "      <td>3</td>\n",
       "      <td>2</td>\n",
       "      <td>11</td>\n",
       "    </tr>\n",
       "    <tr>\n",
       "      <th>0.0</th>\n",
       "      <td>5</td>\n",
       "      <td>45</td>\n",
       "      <td>4</td>\n",
       "      <td>54</td>\n",
       "    </tr>\n",
       "    <tr>\n",
       "      <th>1.0</th>\n",
       "      <td>0</td>\n",
       "      <td>2</td>\n",
       "      <td>3</td>\n",
       "      <td>5</td>\n",
       "    </tr>\n",
       "    <tr>\n",
       "      <th>All</th>\n",
       "      <td>11</td>\n",
       "      <td>50</td>\n",
       "      <td>9</td>\n",
       "      <td>70</td>\n",
       "    </tr>\n",
       "  </tbody>\n",
       "</table>\n",
       "</div>"
      ],
      "text/plain": [
       "True       -1.0  0.0  1.0  All\n",
       "Predicted                     \n",
       "-1.0          6    3    2   11\n",
       "0.0           5   45    4   54\n",
       "1.0           0    2    3    5\n",
       "All          11   50    9   70"
      ]
     },
     "execution_count": 129,
     "metadata": {},
     "output_type": "execute_result"
    }
   ],
   "source": [
    "pd.crosstab(Y_test, yhat_lin_cv, rownames=['True'], colnames=['Predicted'], margins=True)"
   ]
  },
  {
   "cell_type": "code",
   "execution_count": 142,
   "metadata": {
    "ExecuteTime": {
     "end_time": "2020-05-03T14:17:49.307024Z",
     "start_time": "2020-05-03T14:17:49.285081Z"
    }
   },
   "outputs": [
    {
     "name": "stdout",
     "output_type": "stream",
     "text": [
      "              precision    recall  f1-score   support\n",
      "\n",
      "        -1.0      0.545     0.545     0.545        11\n",
      "         0.0      0.833     0.900     0.865        50\n",
      "         1.0      0.600     0.333     0.429         9\n",
      "\n",
      "    accuracy                          0.771        70\n",
      "   macro avg      0.660     0.593     0.613        70\n",
      "weighted avg      0.758     0.771     0.759        70\n",
      "\n",
      "balanced accuracy 0.593\n"
     ]
    }
   ],
   "source": [
    "print(classification_report(Y_test, yhat_lin_cv, digits=3))\n",
    "print('balanced accuracy', round(balanced_accuracy_score(Y_test, yhat_lin_cv),3))"
   ]
  },
  {
   "cell_type": "markdown",
   "metadata": {},
   "source": [
    "#### RBF SVM"
   ]
  },
  {
   "cell_type": "code",
   "execution_count": 28,
   "metadata": {
    "ExecuteTime": {
     "end_time": "2020-05-03T08:15:00.413429Z",
     "start_time": "2020-05-03T08:09:35.459522Z"
    }
   },
   "outputs": [],
   "source": [
    "param_grid = { 'vectorizer__tokenizer':[PREPROCESSING.process, PREPROCESSING.process_lemmatizer, PREPROCESSING.process_stop,\n",
    "                                        PREPROCESSING.process_lemmatizer_stop],\n",
    "               'vectorizer__max_features': [100, 300, 500, 1000, 2000],\n",
    "               'vectorizer__ngram_range': [(1,1), (1,2), (1,3)],\n",
    "               'svm__kernel': ['rbf'],\n",
    "               'svm__C': [ 0.01, 0.1, 1, 10, 100],\n",
    "               'svm__gamma': [2**-4, 2**-3, 2**-2, 2**-1, 2**0, 2**2, 2**3, 2**4] } \n",
    "\n",
    "#search_rbf = GridSearchCV(pipe, param_grid, cv=5, scoring=\"balanced_accuracy\", verbose=0, n_jobs=-1)\n",
    "search_rbf = RandomizedSearchCV(pipe, param_grid, cv=5, scoring='balanced_accuracy', verbose=0, n_jobs=-1, n_iter=50)\n",
    "fit_rbf = search_rbf.fit(train.ARTICLE, Y_train)\n",
    "yhat_rbf_cv = fit_rbf.predict(test.ARTICLE)"
   ]
  },
  {
   "cell_type": "code",
   "execution_count": 29,
   "metadata": {
    "ExecuteTime": {
     "end_time": "2020-05-03T08:18:27.215149Z",
     "start_time": "2020-05-03T08:18:27.199659Z"
    }
   },
   "outputs": [
    {
     "name": "stdout",
     "output_type": "stream",
     "text": [
      "{'vectorizer__tokenizer': <function PREPROCESSING.process_lemmatizer at 0x00000263A3664378>, 'vectorizer__ngram_range': (1, 3), 'vectorizer__max_features': 500, 'svm__kernel': 'rbf', 'svm__gamma': 0.0625, 'svm__C': 1}\n",
      "0.3888888888888889\n"
     ]
    }
   ],
   "source": [
    "CV_cv_rbf = pd.DataFrame(fit_rbf.cv_results_)\n",
    "print(fit_rbf.best_params_)\n",
    "print(fit_rbf.best_score_) "
   ]
  },
  {
   "cell_type": "code",
   "execution_count": 131,
   "metadata": {
    "ExecuteTime": {
     "end_time": "2020-05-03T11:22:35.770400Z",
     "start_time": "2020-05-03T11:22:35.720492Z"
    }
   },
   "outputs": [
    {
     "data": {
      "text/html": [
       "<div>\n",
       "<style scoped>\n",
       "    .dataframe tbody tr th:only-of-type {\n",
       "        vertical-align: middle;\n",
       "    }\n",
       "\n",
       "    .dataframe tbody tr th {\n",
       "        vertical-align: top;\n",
       "    }\n",
       "\n",
       "    .dataframe thead th {\n",
       "        text-align: right;\n",
       "    }\n",
       "</style>\n",
       "<table border=\"1\" class=\"dataframe\">\n",
       "  <thead>\n",
       "    <tr style=\"text-align: right;\">\n",
       "      <th>Predicted</th>\n",
       "      <th>-1.0</th>\n",
       "      <th>0.0</th>\n",
       "      <th>All</th>\n",
       "    </tr>\n",
       "    <tr>\n",
       "      <th>True</th>\n",
       "      <th></th>\n",
       "      <th></th>\n",
       "      <th></th>\n",
       "    </tr>\n",
       "  </thead>\n",
       "  <tbody>\n",
       "    <tr>\n",
       "      <th>-1.0</th>\n",
       "      <td>1</td>\n",
       "      <td>10</td>\n",
       "      <td>11</td>\n",
       "    </tr>\n",
       "    <tr>\n",
       "      <th>0.0</th>\n",
       "      <td>0</td>\n",
       "      <td>50</td>\n",
       "      <td>50</td>\n",
       "    </tr>\n",
       "    <tr>\n",
       "      <th>1.0</th>\n",
       "      <td>0</td>\n",
       "      <td>9</td>\n",
       "      <td>9</td>\n",
       "    </tr>\n",
       "    <tr>\n",
       "      <th>All</th>\n",
       "      <td>1</td>\n",
       "      <td>69</td>\n",
       "      <td>70</td>\n",
       "    </tr>\n",
       "  </tbody>\n",
       "</table>\n",
       "</div>"
      ],
      "text/plain": [
       "Predicted  -1.0  0.0  All\n",
       "True                     \n",
       "-1.0          1   10   11\n",
       "0.0           0   50   50\n",
       "1.0           0    9    9\n",
       "All           1   69   70"
      ]
     },
     "execution_count": 131,
     "metadata": {},
     "output_type": "execute_result"
    }
   ],
   "source": [
    "pd.crosstab(Y_test, yhat_rbf_cv, rownames=['True'], colnames=['Predicted'], margins=True)"
   ]
  },
  {
   "cell_type": "code",
   "execution_count": 147,
   "metadata": {
    "ExecuteTime": {
     "end_time": "2020-05-03T14:29:37.206782Z",
     "start_time": "2020-05-03T14:29:37.190296Z"
    }
   },
   "outputs": [
    {
     "name": "stdout",
     "output_type": "stream",
     "text": [
      "              precision    recall  f1-score   support\n",
      "\n",
      "        -1.0      1.000     0.091     0.167        11\n",
      "         0.0      0.725     1.000     0.840        50\n",
      "         1.0      0.000     0.000     0.000         9\n",
      "\n",
      "    accuracy                          0.729        70\n",
      "   macro avg      0.575     0.364     0.336        70\n",
      "weighted avg      0.675     0.729     0.626        70\n",
      "\n",
      "balanced accuracy 0.364\n"
     ]
    }
   ],
   "source": [
    "print(classification_report(Y_test, yhat_rbf_cv, digits=3))\n",
    "print('balanced accuracy', round(balanced_accuracy_score(Y_test, yhat_rbf_cv),3))"
   ]
  },
  {
   "cell_type": "code",
   "execution_count": 34,
   "metadata": {
    "ExecuteTime": {
     "end_time": "2020-05-03T08:19:02.075057Z",
     "start_time": "2020-05-03T08:19:02.047929Z"
    }
   },
   "outputs": [
    {
     "name": "stderr",
     "output_type": "stream",
     "text": [
      "C:\\Users\\petro\\Anaconda3\\lib\\site-packages\\sklearn\\metrics\\_classification.py:1272: UndefinedMetricWarning: Precision is ill-defined and being set to 0.0 in labels with no predicted samples. Use `zero_division` parameter to control this behavior.\n",
      "  _warn_prf(average, modifier, msg_start, len(result))\n"
     ]
    }
   ],
   "source": [
    "cv_lin = scores(Y_test, yhat_lin_cv)\n",
    "cv_rbf = scores(Y_test, yhat_rbf_cv)"
   ]
  },
  {
   "cell_type": "markdown",
   "metadata": {},
   "source": [
    "### TF-IDF Vectorizer"
   ]
  },
  {
   "cell_type": "code",
   "execution_count": 20,
   "metadata": {
    "ExecuteTime": {
     "end_time": "2020-05-10T10:44:21.377557Z",
     "start_time": "2020-05-10T10:44:21.374564Z"
    }
   },
   "outputs": [],
   "source": [
    "from sklearn.feature_extraction.text import TfidfVectorizer"
   ]
  },
  {
   "cell_type": "code",
   "execution_count": 36,
   "metadata": {
    "ExecuteTime": {
     "end_time": "2020-05-03T08:19:04.609089Z",
     "start_time": "2020-05-03T08:19:04.600897Z"
    }
   },
   "outputs": [],
   "source": [
    "tfidf_vect = TfidfVectorizer()\n",
    "svm_classifier = svm.SVC(class_weight='balanced')\n",
    "\n",
    "pipe = Pipeline(steps=[('vectorizer', tfidf_vect), ('svm', svm_classifier)])"
   ]
  },
  {
   "cell_type": "markdown",
   "metadata": {},
   "source": [
    "#### Linear SVM"
   ]
  },
  {
   "cell_type": "code",
   "execution_count": 37,
   "metadata": {
    "ExecuteTime": {
     "end_time": "2020-05-03T08:25:11.609080Z",
     "start_time": "2020-05-03T08:19:07.513025Z"
    }
   },
   "outputs": [],
   "source": [
    "param_grid =   { 'vectorizer__tokenizer':[PREPROCESSING.process, PREPROCESSING.process_lemmatizer, PREPROCESSING.process_stop,\n",
    "                                          PREPROCESSING.process_lemmatizer_stop],\n",
    "               'vectorizer__max_features': [500, 1000, 2000, 5000, 10000],\n",
    "               'vectorizer__ngram_range': [(1,1), (1,2), (1,3)],\n",
    "               'svm__kernel': ['linear'],\n",
    "               'svm__C': [0.01, 0.1, 1, 10, 100]}                  \n",
    "    \n",
    "\n",
    "#search_lin = GridSearchCV(pipe, param_grid, cv=5, scoring=\"balanced_accuracy\", verbose=0, n_jobs=-1)\n",
    "search_lin =  RandomizedSearchCV(pipe, param_grid, cv=5, scoring='balanced_accuracy', verbose=0, n_jobs=-1, n_iter=50)\n",
    "fit_lin = search_lin.fit(train.ARTICLE, Y_train)\n",
    "yhat_lin_tfidf = fit_lin.predict(test.ARTICLE)"
   ]
  },
  {
   "cell_type": "code",
   "execution_count": 38,
   "metadata": {
    "ExecuteTime": {
     "end_time": "2020-05-03T08:25:57.376770Z",
     "start_time": "2020-05-03T08:25:57.371811Z"
    }
   },
   "outputs": [],
   "source": [
    "CV_tfidf_lin = pd.DataFrame(fit_lin.cv_results_)"
   ]
  },
  {
   "cell_type": "code",
   "execution_count": 39,
   "metadata": {
    "ExecuteTime": {
     "end_time": "2020-05-03T08:25:58.525520Z",
     "start_time": "2020-05-03T08:25:58.517637Z"
    }
   },
   "outputs": [
    {
     "name": "stdout",
     "output_type": "stream",
     "text": [
      "{'vectorizer__tokenizer': <function PREPROCESSING.process_stop at 0x00000263A36641E0>, 'vectorizer__ngram_range': (1, 1), 'vectorizer__max_features': 1000, 'svm__kernel': 'linear', 'svm__C': 1}\n",
      "0.7008404558404557\n"
     ]
    }
   ],
   "source": [
    "print(fit_lin.best_params_)\n",
    "print(fit_lin.best_score_) "
   ]
  },
  {
   "cell_type": "code",
   "execution_count": 133,
   "metadata": {
    "ExecuteTime": {
     "end_time": "2020-05-03T11:26:21.822087Z",
     "start_time": "2020-05-03T11:26:21.770207Z"
    }
   },
   "outputs": [
    {
     "data": {
      "text/html": [
       "<div>\n",
       "<style scoped>\n",
       "    .dataframe tbody tr th:only-of-type {\n",
       "        vertical-align: middle;\n",
       "    }\n",
       "\n",
       "    .dataframe tbody tr th {\n",
       "        vertical-align: top;\n",
       "    }\n",
       "\n",
       "    .dataframe thead th {\n",
       "        text-align: right;\n",
       "    }\n",
       "</style>\n",
       "<table border=\"1\" class=\"dataframe\">\n",
       "  <thead>\n",
       "    <tr style=\"text-align: right;\">\n",
       "      <th>Predicted</th>\n",
       "      <th>-1.0</th>\n",
       "      <th>0.0</th>\n",
       "      <th>1.0</th>\n",
       "      <th>All</th>\n",
       "    </tr>\n",
       "    <tr>\n",
       "      <th>True</th>\n",
       "      <th></th>\n",
       "      <th></th>\n",
       "      <th></th>\n",
       "      <th></th>\n",
       "    </tr>\n",
       "  </thead>\n",
       "  <tbody>\n",
       "    <tr>\n",
       "      <th>-1.0</th>\n",
       "      <td>9</td>\n",
       "      <td>2</td>\n",
       "      <td>0</td>\n",
       "      <td>11</td>\n",
       "    </tr>\n",
       "    <tr>\n",
       "      <th>0.0</th>\n",
       "      <td>7</td>\n",
       "      <td>39</td>\n",
       "      <td>4</td>\n",
       "      <td>50</td>\n",
       "    </tr>\n",
       "    <tr>\n",
       "      <th>1.0</th>\n",
       "      <td>3</td>\n",
       "      <td>3</td>\n",
       "      <td>3</td>\n",
       "      <td>9</td>\n",
       "    </tr>\n",
       "    <tr>\n",
       "      <th>All</th>\n",
       "      <td>19</td>\n",
       "      <td>44</td>\n",
       "      <td>7</td>\n",
       "      <td>70</td>\n",
       "    </tr>\n",
       "  </tbody>\n",
       "</table>\n",
       "</div>"
      ],
      "text/plain": [
       "Predicted  -1.0  0.0  1.0  All\n",
       "True                          \n",
       "-1.0          9    2    0   11\n",
       "0.0           7   39    4   50\n",
       "1.0           3    3    3    9\n",
       "All          19   44    7   70"
      ]
     },
     "execution_count": 133,
     "metadata": {},
     "output_type": "execute_result"
    }
   ],
   "source": [
    "pd.crosstab(Y_test, yhat_lin_tfidf, rownames=['True'], colnames=['Predicted'], margins=True)"
   ]
  },
  {
   "cell_type": "code",
   "execution_count": 143,
   "metadata": {
    "ExecuteTime": {
     "end_time": "2020-05-03T14:18:38.115673Z",
     "start_time": "2020-05-03T14:18:38.098601Z"
    }
   },
   "outputs": [
    {
     "name": "stdout",
     "output_type": "stream",
     "text": [
      "              precision    recall  f1-score   support\n",
      "\n",
      "        -1.0      0.474     0.818     0.600        11\n",
      "         0.0      0.886     0.780     0.830        50\n",
      "         1.0      0.429     0.333     0.375         9\n",
      "\n",
      "    accuracy                          0.729        70\n",
      "   macro avg      0.596     0.644     0.602        70\n",
      "weighted avg      0.763     0.729     0.735        70\n",
      "\n",
      "balanced accuracy 0.644\n"
     ]
    }
   ],
   "source": [
    "print(classification_report(Y_test, yhat_lin_tfidf, digits=3))\n",
    "print('balanced accuracy', round(balanced_accuracy_score(Y_test, yhat_lin_tfidf),3))"
   ]
  },
  {
   "cell_type": "markdown",
   "metadata": {},
   "source": [
    "#### RBF SVM"
   ]
  },
  {
   "cell_type": "code",
   "execution_count": 42,
   "metadata": {
    "ExecuteTime": {
     "end_time": "2020-05-03T08:33:08.905318Z",
     "start_time": "2020-05-03T08:26:43.574512Z"
    }
   },
   "outputs": [],
   "source": [
    "param_grid = { 'vectorizer__tokenizer':[PREPROCESSING.process, PREPROCESSING.process_lemmatizer, PREPROCESSING.process_stop,\n",
    "                                        PREPROCESSING.process_lemmatizer_stop],\n",
    "               'vectorizer__max_features': [100, 300, 500, 1000],\n",
    "               'vectorizer__ngram_range': [(1,1), (1,2), (1,3)],\n",
    "               'svm__kernel': ['rbf'],\n",
    "               'svm__C': [ 0.01, 0.1, 1, 10, 100],\n",
    "               'svm__gamma':  [2**-4, 2**-3, 2**-2, 2**-1, 2**0, 2**2, 2**3, 2**4] } \n",
    "\n",
    "# search_rbf = GridSearchCV(pipe, param_grid, cv=5, scoring=\"balanced_accuracy\", verbose=0, n_jobs=-1)\n",
    "search_rbf = RandomizedSearchCV(pipe, param_grid, cv=5, scoring='balanced_accuracy', verbose=0, n_jobs=-1, n_iter=50)\n",
    "fit_rbf = search_rbf.fit(train.ARTICLE, Y_train)\n",
    "yhat_rbf_tfidf = fit_rbf.predict(test.ARTICLE)"
   ]
  },
  {
   "cell_type": "code",
   "execution_count": 43,
   "metadata": {
    "ExecuteTime": {
     "end_time": "2020-05-03T08:34:31.339871Z",
     "start_time": "2020-05-03T08:34:31.324002Z"
    }
   },
   "outputs": [
    {
     "name": "stdout",
     "output_type": "stream",
     "text": [
      "{'vectorizer__tokenizer': <function PREPROCESSING.process at 0x00000263A3664158>, 'vectorizer__ngram_range': (1, 2), 'vectorizer__max_features': 300, 'svm__kernel': 'rbf', 'svm__gamma': 0.5, 'svm__C': 1}\n",
      "0.6763593813593813\n"
     ]
    }
   ],
   "source": [
    "CV_tfidf_rbf = pd.DataFrame(fit_rbf.cv_results_)\n",
    "print(fit_rbf.best_params_)\n",
    "print(fit_rbf.best_score_) "
   ]
  },
  {
   "cell_type": "code",
   "execution_count": 135,
   "metadata": {
    "ExecuteTime": {
     "end_time": "2020-05-03T11:29:11.960526Z",
     "start_time": "2020-05-03T11:29:11.909154Z"
    }
   },
   "outputs": [
    {
     "data": {
      "text/html": [
       "<div>\n",
       "<style scoped>\n",
       "    .dataframe tbody tr th:only-of-type {\n",
       "        vertical-align: middle;\n",
       "    }\n",
       "\n",
       "    .dataframe tbody tr th {\n",
       "        vertical-align: top;\n",
       "    }\n",
       "\n",
       "    .dataframe thead th {\n",
       "        text-align: right;\n",
       "    }\n",
       "</style>\n",
       "<table border=\"1\" class=\"dataframe\">\n",
       "  <thead>\n",
       "    <tr style=\"text-align: right;\">\n",
       "      <th>Predicted</th>\n",
       "      <th>-1.0</th>\n",
       "      <th>0.0</th>\n",
       "      <th>1.0</th>\n",
       "      <th>All</th>\n",
       "    </tr>\n",
       "    <tr>\n",
       "      <th>True</th>\n",
       "      <th></th>\n",
       "      <th></th>\n",
       "      <th></th>\n",
       "      <th></th>\n",
       "    </tr>\n",
       "  </thead>\n",
       "  <tbody>\n",
       "    <tr>\n",
       "      <th>-1.0</th>\n",
       "      <td>8</td>\n",
       "      <td>3</td>\n",
       "      <td>0</td>\n",
       "      <td>11</td>\n",
       "    </tr>\n",
       "    <tr>\n",
       "      <th>0.0</th>\n",
       "      <td>7</td>\n",
       "      <td>40</td>\n",
       "      <td>3</td>\n",
       "      <td>50</td>\n",
       "    </tr>\n",
       "    <tr>\n",
       "      <th>1.0</th>\n",
       "      <td>2</td>\n",
       "      <td>3</td>\n",
       "      <td>4</td>\n",
       "      <td>9</td>\n",
       "    </tr>\n",
       "    <tr>\n",
       "      <th>All</th>\n",
       "      <td>17</td>\n",
       "      <td>46</td>\n",
       "      <td>7</td>\n",
       "      <td>70</td>\n",
       "    </tr>\n",
       "  </tbody>\n",
       "</table>\n",
       "</div>"
      ],
      "text/plain": [
       "Predicted  -1.0  0.0  1.0  All\n",
       "True                          \n",
       "-1.0          8    3    0   11\n",
       "0.0           7   40    3   50\n",
       "1.0           2    3    4    9\n",
       "All          17   46    7   70"
      ]
     },
     "execution_count": 135,
     "metadata": {},
     "output_type": "execute_result"
    }
   ],
   "source": [
    "pd.crosstab(Y_test, yhat_rbf_tfidf, rownames=['True'], colnames=['Predicted'], margins=True)"
   ]
  },
  {
   "cell_type": "code",
   "execution_count": 148,
   "metadata": {
    "ExecuteTime": {
     "end_time": "2020-05-03T14:30:38.382544Z",
     "start_time": "2020-05-03T14:30:38.361600Z"
    }
   },
   "outputs": [
    {
     "name": "stdout",
     "output_type": "stream",
     "text": [
      "              precision    recall  f1-score   support\n",
      "\n",
      "        -1.0      0.471     0.727     0.571        11\n",
      "         0.0      0.870     0.800     0.833        50\n",
      "         1.0      0.571     0.444     0.500         9\n",
      "\n",
      "    accuracy                          0.743        70\n",
      "   macro avg      0.637     0.657     0.635        70\n",
      "weighted avg      0.769     0.743     0.749        70\n",
      "\n",
      "balanced accuracy 0.657\n"
     ]
    }
   ],
   "source": [
    "print(classification_report(Y_test, yhat_rbf_tfidf, digits=3))\n",
    "print('balanced accuracy', round(balanced_accuracy_score(Y_test, yhat_rbf_tfidf),3))"
   ]
  },
  {
   "cell_type": "code",
   "execution_count": 47,
   "metadata": {
    "ExecuteTime": {
     "end_time": "2020-05-03T08:34:57.111595Z",
     "start_time": "2020-05-03T08:34:57.082639Z"
    }
   },
   "outputs": [],
   "source": [
    "tfidf_lin = scores(Y_test, yhat_lin_tfidf)\n",
    "tfidf_rbf = scores(Y_test, yhat_rbf_tfidf)"
   ]
  },
  {
   "cell_type": "markdown",
   "metadata": {},
   "source": [
    "## Embeddings"
   ]
  },
  {
   "cell_type": "markdown",
   "metadata": {},
   "source": [
    "- Representation of a word/sentence or document into a vector of real numbers obtained by a neural network model that maps an input (word, sentence) to its context"
   ]
  },
  {
   "cell_type": "markdown",
   "metadata": {},
   "source": [
    "### Word2Vec"
   ]
  },
  {
   "cell_type": "code",
   "execution_count": 26,
   "metadata": {
    "ExecuteTime": {
     "end_time": "2020-05-10T10:45:16.256662Z",
     "start_time": "2020-05-10T10:45:06.952190Z"
    }
   },
   "outputs": [],
   "source": [
    "nlp = spacy.load(\"en_core_web_lg\")"
   ]
  },
  {
   "cell_type": "code",
   "execution_count": 49,
   "metadata": {
    "ExecuteTime": {
     "end_time": "2020-05-03T08:36:26.717859Z",
     "start_time": "2020-05-03T08:35:19.078400Z"
    }
   },
   "outputs": [],
   "source": [
    "X_train_spacy = []\n",
    "for doc in train.ARTICLE:\n",
    "    doc = nlp(doc)\n",
    "    X_train_spacy.append(doc.vector)\n",
    "\n",
    "X_train_spacy = pd.DataFrame(X_train_spacy)"
   ]
  },
  {
   "cell_type": "code",
   "execution_count": 50,
   "metadata": {
    "ExecuteTime": {
     "end_time": "2020-05-03T08:36:44.170372Z",
     "start_time": "2020-05-03T08:36:27.807050Z"
    }
   },
   "outputs": [],
   "source": [
    "X_test_spacy = []\n",
    "for doc in test.ARTICLE :\n",
    "    doc = nlp(doc)\n",
    "    X_test_spacy.append(doc.vector)\n",
    "    \n",
    "X_test_spacy = pd.DataFrame(X_test_spacy)"
   ]
  },
  {
   "cell_type": "code",
   "execution_count": 51,
   "metadata": {
    "ExecuteTime": {
     "end_time": "2020-05-03T08:38:30.787642Z",
     "start_time": "2020-05-03T08:38:30.783064Z"
    }
   },
   "outputs": [],
   "source": [
    "svm_classifier = svm.SVC(class_weight='balanced')"
   ]
  },
  {
   "cell_type": "markdown",
   "metadata": {},
   "source": [
    "#### Linear SVM"
   ]
  },
  {
   "cell_type": "code",
   "execution_count": 52,
   "metadata": {
    "ExecuteTime": {
     "end_time": "2020-05-03T08:38:35.740277Z",
     "start_time": "2020-05-03T08:38:31.983264Z"
    }
   },
   "outputs": [],
   "source": [
    "param_grid =  {'kernel': ['linear'], \n",
    "               'C': [ 0.01, 0.1, 1, 10, 100]}\n",
    "    \n",
    "\n",
    "search_lin = GridSearchCV(svm_classifier, param_grid, cv=5, scoring='balanced_accuracy', verbose=0, n_jobs=-1)\n",
    "#search_lin = RandomizedSearchCV(svm_classifier, param_grid, cv=5, scoring=\"balanced_accuracy\", verbose=0, n_jobs=-1, n_iter=5)\n",
    "fit_lin = search_lin.fit(X_train_spacy, Y_train)\n",
    "yhat_lin_w2v = fit_lin.predict(X_test_spacy)"
   ]
  },
  {
   "cell_type": "code",
   "execution_count": 53,
   "metadata": {
    "ExecuteTime": {
     "end_time": "2020-05-03T08:38:37.113094Z",
     "start_time": "2020-05-03T08:38:37.101363Z"
    }
   },
   "outputs": [
    {
     "name": "stdout",
     "output_type": "stream",
     "text": [
      "{'C': 10, 'kernel': 'linear'}\n",
      "0.6938319088319088\n"
     ]
    }
   ],
   "source": [
    "CV_w2v_lin = pd.DataFrame(fit_lin.cv_results_)\n",
    "print(fit_lin.best_params_)\n",
    "print(fit_lin.best_score_) "
   ]
  },
  {
   "cell_type": "code",
   "execution_count": 137,
   "metadata": {
    "ExecuteTime": {
     "end_time": "2020-05-03T11:30:46.870660Z",
     "start_time": "2020-05-03T11:30:46.820755Z"
    }
   },
   "outputs": [
    {
     "data": {
      "text/html": [
       "<div>\n",
       "<style scoped>\n",
       "    .dataframe tbody tr th:only-of-type {\n",
       "        vertical-align: middle;\n",
       "    }\n",
       "\n",
       "    .dataframe tbody tr th {\n",
       "        vertical-align: top;\n",
       "    }\n",
       "\n",
       "    .dataframe thead th {\n",
       "        text-align: right;\n",
       "    }\n",
       "</style>\n",
       "<table border=\"1\" class=\"dataframe\">\n",
       "  <thead>\n",
       "    <tr style=\"text-align: right;\">\n",
       "      <th>Predicted</th>\n",
       "      <th>-1.0</th>\n",
       "      <th>0.0</th>\n",
       "      <th>1.0</th>\n",
       "      <th>All</th>\n",
       "    </tr>\n",
       "    <tr>\n",
       "      <th>True</th>\n",
       "      <th></th>\n",
       "      <th></th>\n",
       "      <th></th>\n",
       "      <th></th>\n",
       "    </tr>\n",
       "  </thead>\n",
       "  <tbody>\n",
       "    <tr>\n",
       "      <th>-1.0</th>\n",
       "      <td>9</td>\n",
       "      <td>2</td>\n",
       "      <td>0</td>\n",
       "      <td>11</td>\n",
       "    </tr>\n",
       "    <tr>\n",
       "      <th>0.0</th>\n",
       "      <td>4</td>\n",
       "      <td>35</td>\n",
       "      <td>11</td>\n",
       "      <td>50</td>\n",
       "    </tr>\n",
       "    <tr>\n",
       "      <th>1.0</th>\n",
       "      <td>2</td>\n",
       "      <td>3</td>\n",
       "      <td>4</td>\n",
       "      <td>9</td>\n",
       "    </tr>\n",
       "    <tr>\n",
       "      <th>All</th>\n",
       "      <td>15</td>\n",
       "      <td>40</td>\n",
       "      <td>15</td>\n",
       "      <td>70</td>\n",
       "    </tr>\n",
       "  </tbody>\n",
       "</table>\n",
       "</div>"
      ],
      "text/plain": [
       "Predicted  -1.0  0.0  1.0  All\n",
       "True                          \n",
       "-1.0          9    2    0   11\n",
       "0.0           4   35   11   50\n",
       "1.0           2    3    4    9\n",
       "All          15   40   15   70"
      ]
     },
     "execution_count": 137,
     "metadata": {},
     "output_type": "execute_result"
    }
   ],
   "source": [
    "pd.crosstab(Y_test, yhat_lin_w2v, rownames=['True'], colnames=['Predicted'], margins=True)"
   ]
  },
  {
   "cell_type": "code",
   "execution_count": 144,
   "metadata": {
    "ExecuteTime": {
     "end_time": "2020-05-03T14:19:50.987451Z",
     "start_time": "2020-05-03T14:19:50.971496Z"
    }
   },
   "outputs": [
    {
     "name": "stdout",
     "output_type": "stream",
     "text": [
      "              precision    recall  f1-score   support\n",
      "\n",
      "        -1.0      0.600     0.818     0.692        11\n",
      "         0.0      0.875     0.700     0.778        50\n",
      "         1.0      0.267     0.444     0.333         9\n",
      "\n",
      "    accuracy                          0.686        70\n",
      "   macro avg      0.581     0.654     0.601        70\n",
      "weighted avg      0.754     0.686     0.707        70\n",
      "\n",
      "balanced accuracy 0.654\n"
     ]
    }
   ],
   "source": [
    "print(classification_report(Y_test, yhat_lin_w2v, digits=3))\n",
    "print('balanced accuracy', round(balanced_accuracy_score(Y_test, yhat_lin_w2v), 3))"
   ]
  },
  {
   "cell_type": "markdown",
   "metadata": {},
   "source": [
    "#### RBF SVM"
   ]
  },
  {
   "cell_type": "code",
   "execution_count": 56,
   "metadata": {
    "ExecuteTime": {
     "end_time": "2020-05-03T08:39:13.546949Z",
     "start_time": "2020-05-03T08:39:11.293962Z"
    }
   },
   "outputs": [],
   "source": [
    "param_grid =  {'kernel': ['rbf'], \n",
    "               'C': [0.01, 0.1, 1, 10, 100],\n",
    "               'gamma':  [2**-4, 2**-3, 2**-2, 2**-1, 2**0, 2**2, 2**3, 2**4] }\n",
    "    \n",
    "\n",
    "search_rbf = GridSearchCV(svm_classifier, param_grid, cv=5, scoring='balanced_accuracy', verbose=0, n_jobs=-1)\n",
    "#search_rbf = RandomizedSearchCV(svm_classifier, param_grid, cv=5, scoring=\"balanced_accuracy\", verbose=0, n_jobs=-1, n_iter=15)\n",
    "fit_rbf = search_rbf.fit(X_train_spacy, Y_train)\n",
    "yhat_rbf_w2v = fit_rbf.predict(X_test_spacy)"
   ]
  },
  {
   "cell_type": "code",
   "execution_count": 57,
   "metadata": {
    "ExecuteTime": {
     "end_time": "2020-05-03T08:39:15.930429Z",
     "start_time": "2020-05-03T08:39:15.915265Z"
    }
   },
   "outputs": [
    {
     "name": "stdout",
     "output_type": "stream",
     "text": [
      "{'C': 100, 'gamma': 0.0625, 'kernel': 'rbf'}\n",
      "0.6894790394790394\n"
     ]
    }
   ],
   "source": [
    "CV_w2v_rbf = pd.DataFrame(fit_rbf.cv_results_)\n",
    "print(fit_rbf.best_params_)\n",
    "print(fit_rbf.best_score_) "
   ]
  },
  {
   "cell_type": "code",
   "execution_count": 139,
   "metadata": {
    "ExecuteTime": {
     "end_time": "2020-05-03T11:32:29.961392Z",
     "start_time": "2020-05-03T11:32:29.909535Z"
    }
   },
   "outputs": [
    {
     "data": {
      "text/html": [
       "<div>\n",
       "<style scoped>\n",
       "    .dataframe tbody tr th:only-of-type {\n",
       "        vertical-align: middle;\n",
       "    }\n",
       "\n",
       "    .dataframe tbody tr th {\n",
       "        vertical-align: top;\n",
       "    }\n",
       "\n",
       "    .dataframe thead th {\n",
       "        text-align: right;\n",
       "    }\n",
       "</style>\n",
       "<table border=\"1\" class=\"dataframe\">\n",
       "  <thead>\n",
       "    <tr style=\"text-align: right;\">\n",
       "      <th>Predicted</th>\n",
       "      <th>-1.0</th>\n",
       "      <th>0.0</th>\n",
       "      <th>1.0</th>\n",
       "      <th>All</th>\n",
       "    </tr>\n",
       "    <tr>\n",
       "      <th>True</th>\n",
       "      <th></th>\n",
       "      <th></th>\n",
       "      <th></th>\n",
       "      <th></th>\n",
       "    </tr>\n",
       "  </thead>\n",
       "  <tbody>\n",
       "    <tr>\n",
       "      <th>-1.0</th>\n",
       "      <td>9</td>\n",
       "      <td>2</td>\n",
       "      <td>0</td>\n",
       "      <td>11</td>\n",
       "    </tr>\n",
       "    <tr>\n",
       "      <th>0.0</th>\n",
       "      <td>3</td>\n",
       "      <td>37</td>\n",
       "      <td>10</td>\n",
       "      <td>50</td>\n",
       "    </tr>\n",
       "    <tr>\n",
       "      <th>1.0</th>\n",
       "      <td>2</td>\n",
       "      <td>3</td>\n",
       "      <td>4</td>\n",
       "      <td>9</td>\n",
       "    </tr>\n",
       "    <tr>\n",
       "      <th>All</th>\n",
       "      <td>14</td>\n",
       "      <td>42</td>\n",
       "      <td>14</td>\n",
       "      <td>70</td>\n",
       "    </tr>\n",
       "  </tbody>\n",
       "</table>\n",
       "</div>"
      ],
      "text/plain": [
       "Predicted  -1.0  0.0  1.0  All\n",
       "True                          \n",
       "-1.0          9    2    0   11\n",
       "0.0           3   37   10   50\n",
       "1.0           2    3    4    9\n",
       "All          14   42   14   70"
      ]
     },
     "execution_count": 139,
     "metadata": {},
     "output_type": "execute_result"
    }
   ],
   "source": [
    "pd.crosstab(Y_test, yhat_rbf_w2v, rownames=['True'], colnames=['Predicted'], margins=True)"
   ]
  },
  {
   "cell_type": "code",
   "execution_count": 149,
   "metadata": {
    "ExecuteTime": {
     "end_time": "2020-05-03T14:31:39.479014Z",
     "start_time": "2020-05-03T14:31:39.461069Z"
    }
   },
   "outputs": [
    {
     "name": "stdout",
     "output_type": "stream",
     "text": [
      "              precision    recall  f1-score   support\n",
      "\n",
      "        -1.0      0.643     0.818     0.720        11\n",
      "         0.0      0.881     0.740     0.804        50\n",
      "         1.0      0.286     0.444     0.348         9\n",
      "\n",
      "    accuracy                          0.714        70\n",
      "   macro avg      0.603     0.668     0.624        70\n",
      "weighted avg      0.767     0.714     0.732        70\n",
      "\n",
      "balanced accuracy 0.668\n"
     ]
    }
   ],
   "source": [
    "print(classification_report(Y_test, yhat_rbf_w2v, digits=3))\n",
    "print('balanced accuracy', round(balanced_accuracy_score(Y_test, yhat_rbf_w2v),3))"
   ]
  },
  {
   "cell_type": "code",
   "execution_count": 60,
   "metadata": {
    "ExecuteTime": {
     "end_time": "2020-05-03T08:39:45.858931Z",
     "start_time": "2020-05-03T08:39:45.832219Z"
    }
   },
   "outputs": [],
   "source": [
    "spacy_lin= scores(Y_test, yhat_lin_w2v)\n",
    "spacy_rbf= scores(Y_test, yhat_rbf_w2v)"
   ]
  },
  {
   "cell_type": "markdown",
   "metadata": {},
   "source": [
    "### Doc2Vec"
   ]
  },
  {
   "cell_type": "code",
   "execution_count": 21,
   "metadata": {
    "ExecuteTime": {
     "end_time": "2020-05-10T10:44:35.691857Z",
     "start_time": "2020-05-10T10:44:35.354559Z"
    }
   },
   "outputs": [],
   "source": [
    "from gensim.models.doc2vec import Doc2Vec, TaggedDocument"
   ]
  },
  {
   "cell_type": "code",
   "execution_count": 62,
   "metadata": {
    "ExecuteTime": {
     "end_time": "2020-05-03T08:39:51.466255Z",
     "start_time": "2020-05-03T08:39:48.881996Z"
    }
   },
   "outputs": [],
   "source": [
    "documents = [TaggedDocument(a, [i]) for i, a in enumerate(train.ARTICLE)]\n",
    "\n",
    "d2v = Doc2Vec(documents, vector_size=250, window=8, min_count=1, workers=8)"
   ]
  },
  {
   "cell_type": "code",
   "execution_count": 63,
   "metadata": {
    "ExecuteTime": {
     "end_time": "2020-05-03T08:39:52.807180Z",
     "start_time": "2020-05-03T08:39:52.749327Z"
    }
   },
   "outputs": [],
   "source": [
    "X_train_d2v = []\n",
    "for i in range(len(train.ARTICLE)):\n",
    "    X_train_d2v.append(d2v.docvecs[i])\n",
    "    \n",
    "X_train_d2v = pd.DataFrame(X_train_d2v)"
   ]
  },
  {
   "cell_type": "code",
   "execution_count": 64,
   "metadata": {
    "ExecuteTime": {
     "end_time": "2020-05-03T08:39:56.112562Z",
     "start_time": "2020-05-03T08:39:54.087452Z"
    }
   },
   "outputs": [],
   "source": [
    "X_test_d2v = []\n",
    "for doc in test.ARTICLE:\n",
    "    doc = PREPROCESSING.process(doc)\n",
    "    vector = d2v.infer_vector(doc)\n",
    "    X_test_d2v.append(vector)\n",
    "X_test_d2v = pd.DataFrame(X_test_d2v)"
   ]
  },
  {
   "cell_type": "code",
   "execution_count": 65,
   "metadata": {
    "ExecuteTime": {
     "end_time": "2020-05-03T08:39:57.454700Z",
     "start_time": "2020-05-03T08:39:57.446334Z"
    }
   },
   "outputs": [],
   "source": [
    "svm_classifier = svm.SVC(class_weight='balanced')"
   ]
  },
  {
   "cell_type": "markdown",
   "metadata": {},
   "source": [
    "#### Linear SVM"
   ]
  },
  {
   "cell_type": "code",
   "execution_count": 66,
   "metadata": {
    "ExecuteTime": {
     "end_time": "2020-05-03T08:40:01.086435Z",
     "start_time": "2020-05-03T08:40:00.376759Z"
    }
   },
   "outputs": [],
   "source": [
    "param_grid =  {'kernel': ['linear'], \n",
    "               'C': [0.01, 0.1, 1, 10, 100]}\n",
    "    \n",
    "search_lin = GridSearchCV(svm_classifier, param_grid, cv=5, scoring='balanced_accuracy', verbose=0, n_jobs=-1)\n",
    "#search_lin = RandomizedSearchCV(svm_classifier, param_grid, cv=5, scoring=\"balanced_accuracy\", verbose=0, n_jobs=-1, n_iter=5)\n",
    "fit_lin = search_lin.fit(X_train_d2v, Y_train)\n",
    "yhat_lin_d2v = fit_lin.predict(X_test_d2v)"
   ]
  },
  {
   "cell_type": "code",
   "execution_count": 67,
   "metadata": {
    "ExecuteTime": {
     "end_time": "2020-05-03T08:40:02.461088Z",
     "start_time": "2020-05-03T08:40:02.441479Z"
    }
   },
   "outputs": [
    {
     "name": "stdout",
     "output_type": "stream",
     "text": [
      "{'C': 10, 'kernel': 'linear'}\n",
      "0.5818376068376068\n"
     ]
    }
   ],
   "source": [
    "CV_d2v_lin = pd.DataFrame(fit_lin.cv_results_)\n",
    "print(fit_lin.best_params_)\n",
    "print(fit_lin.best_score_) "
   ]
  },
  {
   "cell_type": "code",
   "execution_count": 141,
   "metadata": {
    "ExecuteTime": {
     "end_time": "2020-05-03T13:36:28.556779Z",
     "start_time": "2020-05-03T13:36:28.430090Z"
    }
   },
   "outputs": [
    {
     "data": {
      "text/html": [
       "<div>\n",
       "<style scoped>\n",
       "    .dataframe tbody tr th:only-of-type {\n",
       "        vertical-align: middle;\n",
       "    }\n",
       "\n",
       "    .dataframe tbody tr th {\n",
       "        vertical-align: top;\n",
       "    }\n",
       "\n",
       "    .dataframe thead th {\n",
       "        text-align: right;\n",
       "    }\n",
       "</style>\n",
       "<table border=\"1\" class=\"dataframe\">\n",
       "  <thead>\n",
       "    <tr style=\"text-align: right;\">\n",
       "      <th>Predicted</th>\n",
       "      <th>0.0</th>\n",
       "      <th>All</th>\n",
       "    </tr>\n",
       "    <tr>\n",
       "      <th>True</th>\n",
       "      <th></th>\n",
       "      <th></th>\n",
       "    </tr>\n",
       "  </thead>\n",
       "  <tbody>\n",
       "    <tr>\n",
       "      <th>-1.0</th>\n",
       "      <td>11</td>\n",
       "      <td>11</td>\n",
       "    </tr>\n",
       "    <tr>\n",
       "      <th>0.0</th>\n",
       "      <td>50</td>\n",
       "      <td>50</td>\n",
       "    </tr>\n",
       "    <tr>\n",
       "      <th>1.0</th>\n",
       "      <td>9</td>\n",
       "      <td>9</td>\n",
       "    </tr>\n",
       "    <tr>\n",
       "      <th>All</th>\n",
       "      <td>70</td>\n",
       "      <td>70</td>\n",
       "    </tr>\n",
       "  </tbody>\n",
       "</table>\n",
       "</div>"
      ],
      "text/plain": [
       "Predicted  0.0  All\n",
       "True               \n",
       "-1.0        11   11\n",
       "0.0         50   50\n",
       "1.0          9    9\n",
       "All         70   70"
      ]
     },
     "execution_count": 141,
     "metadata": {},
     "output_type": "execute_result"
    }
   ],
   "source": [
    "pd.crosstab(Y_test, yhat_lin_d2v, rownames=['True'], colnames=['Predicted'], margins=True)"
   ]
  },
  {
   "cell_type": "code",
   "execution_count": 145,
   "metadata": {
    "ExecuteTime": {
     "end_time": "2020-05-03T14:21:34.669379Z",
     "start_time": "2020-05-03T14:21:34.653733Z"
    }
   },
   "outputs": [
    {
     "name": "stderr",
     "output_type": "stream",
     "text": [
      "C:\\Users\\petro\\Anaconda3\\lib\\site-packages\\sklearn\\metrics\\_classification.py:1272: UndefinedMetricWarning: Precision and F-score are ill-defined and being set to 0.0 in labels with no predicted samples. Use `zero_division` parameter to control this behavior.\n",
      "  _warn_prf(average, modifier, msg_start, len(result))\n"
     ]
    },
    {
     "name": "stdout",
     "output_type": "stream",
     "text": [
      "              precision    recall  f1-score   support\n",
      "\n",
      "        -1.0      0.000     0.000     0.000        11\n",
      "         0.0      0.714     1.000     0.833        50\n",
      "         1.0      0.000     0.000     0.000         9\n",
      "\n",
      "    accuracy                          0.714        70\n",
      "   macro avg      0.238     0.333     0.278        70\n",
      "weighted avg      0.510     0.714     0.595        70\n",
      "\n"
     ]
    }
   ],
   "source": [
    "print(classification_report(Y_test, yhat_lin_d2v, digits=3))"
   ]
  },
  {
   "cell_type": "markdown",
   "metadata": {},
   "source": [
    "#### RBF SVM"
   ]
  },
  {
   "cell_type": "code",
   "execution_count": 70,
   "metadata": {
    "ExecuteTime": {
     "end_time": "2020-05-03T08:40:12.509981Z",
     "start_time": "2020-05-03T08:40:10.485748Z"
    }
   },
   "outputs": [],
   "source": [
    "param_grid =  {'kernel': ['rbf'], \n",
    "               'C': [ 0.01, 0.1, 1, 10, 100],\n",
    "               'gamma':  [2**-4, 2**-3, 2**-2, 2**-1, 2**0, 2**2, 2**3, 2**4] }\n",
    "    \n",
    "\n",
    "search_rbf = GridSearchCV(svm_classifier, param_grid, cv=5, scoring='balanced_accuracy', verbose=0, n_jobs=-1)\n",
    "#search_rbf = RandomizedSearchCV(svm_classifier, param_grid, cv=5, scoring=\"balanced_accuracy\", verbose=0, n_jobs=-1, n_iter=5)\n",
    "fit_rbf = search_rbf.fit(X_train_d2v, Y_train)\n",
    "yhat_rbf_d2v = fit_rbf.predict(X_test_d2v)"
   ]
  },
  {
   "cell_type": "code",
   "execution_count": 71,
   "metadata": {
    "ExecuteTime": {
     "end_time": "2020-05-03T08:40:13.993452Z",
     "start_time": "2020-05-03T08:40:13.980793Z"
    }
   },
   "outputs": [
    {
     "name": "stdout",
     "output_type": "stream",
     "text": [
      "{'C': 10, 'gamma': 0.0625, 'kernel': 'rbf'}\n",
      "0.5744831094831094\n"
     ]
    }
   ],
   "source": [
    "CV_d2v_rbf = pd.DataFrame(fit_rbf.cv_results_)\n",
    "print(fit_rbf.best_params_)\n",
    "print(fit_rbf.best_score_)"
   ]
  },
  {
   "cell_type": "code",
   "execution_count": 72,
   "metadata": {
    "ExecuteTime": {
     "end_time": "2020-05-03T08:40:15.553680Z",
     "start_time": "2020-05-03T08:40:15.469198Z"
    }
   },
   "outputs": [
    {
     "data": {
      "text/html": [
       "<div>\n",
       "<style scoped>\n",
       "    .dataframe tbody tr th:only-of-type {\n",
       "        vertical-align: middle;\n",
       "    }\n",
       "\n",
       "    .dataframe tbody tr th {\n",
       "        vertical-align: top;\n",
       "    }\n",
       "\n",
       "    .dataframe thead th {\n",
       "        text-align: right;\n",
       "    }\n",
       "</style>\n",
       "<table border=\"1\" class=\"dataframe\">\n",
       "  <thead>\n",
       "    <tr style=\"text-align: right;\">\n",
       "      <th>Predicted</th>\n",
       "      <th>0.0</th>\n",
       "      <th>All</th>\n",
       "    </tr>\n",
       "    <tr>\n",
       "      <th>True</th>\n",
       "      <th></th>\n",
       "      <th></th>\n",
       "    </tr>\n",
       "  </thead>\n",
       "  <tbody>\n",
       "    <tr>\n",
       "      <th>-1.0</th>\n",
       "      <td>11</td>\n",
       "      <td>11</td>\n",
       "    </tr>\n",
       "    <tr>\n",
       "      <th>0.0</th>\n",
       "      <td>50</td>\n",
       "      <td>50</td>\n",
       "    </tr>\n",
       "    <tr>\n",
       "      <th>1.0</th>\n",
       "      <td>9</td>\n",
       "      <td>9</td>\n",
       "    </tr>\n",
       "    <tr>\n",
       "      <th>All</th>\n",
       "      <td>70</td>\n",
       "      <td>70</td>\n",
       "    </tr>\n",
       "  </tbody>\n",
       "</table>\n",
       "</div>"
      ],
      "text/plain": [
       "Predicted  0.0  All\n",
       "True               \n",
       "-1.0        11   11\n",
       "0.0         50   50\n",
       "1.0          9    9\n",
       "All         70   70"
      ]
     },
     "execution_count": 72,
     "metadata": {},
     "output_type": "execute_result"
    }
   ],
   "source": [
    "pd.crosstab(Y_test, yhat_rbf_d2v, rownames=['True'], colnames=['Predicted'], margins=True)"
   ]
  },
  {
   "cell_type": "code",
   "execution_count": 73,
   "metadata": {
    "ExecuteTime": {
     "end_time": "2020-05-03T08:40:19.646468Z",
     "start_time": "2020-05-03T08:40:19.626025Z"
    }
   },
   "outputs": [
    {
     "name": "stderr",
     "output_type": "stream",
     "text": [
      "C:\\Users\\petro\\Anaconda3\\lib\\site-packages\\sklearn\\metrics\\_classification.py:1272: UndefinedMetricWarning: Precision and F-score are ill-defined and being set to 0.0 in labels with no predicted samples. Use `zero_division` parameter to control this behavior.\n",
      "  _warn_prf(average, modifier, msg_start, len(result))\n"
     ]
    },
    {
     "name": "stdout",
     "output_type": "stream",
     "text": [
      "              precision    recall  f1-score   support\n",
      "\n",
      "        -1.0       0.00      0.00      0.00        11\n",
      "         0.0       0.71      1.00      0.83        50\n",
      "         1.0       0.00      0.00      0.00         9\n",
      "\n",
      "    accuracy                           0.71        70\n",
      "   macro avg       0.24      0.33      0.28        70\n",
      "weighted avg       0.51      0.71      0.60        70\n",
      "\n"
     ]
    }
   ],
   "source": [
    "print(classification_report(Y_test, yhat_rbf_d2v))"
   ]
  },
  {
   "cell_type": "code",
   "execution_count": 74,
   "metadata": {
    "ExecuteTime": {
     "end_time": "2020-05-03T08:40:22.050133Z",
     "start_time": "2020-05-03T08:40:22.024042Z"
    }
   },
   "outputs": [
    {
     "name": "stderr",
     "output_type": "stream",
     "text": [
      "C:\\Users\\petro\\Anaconda3\\lib\\site-packages\\sklearn\\metrics\\_classification.py:1272: UndefinedMetricWarning: Precision is ill-defined and being set to 0.0 in labels with no predicted samples. Use `zero_division` parameter to control this behavior.\n",
      "  _warn_prf(average, modifier, msg_start, len(result))\n"
     ]
    }
   ],
   "source": [
    "d2v_lin= scores(Y_test, yhat_lin_d2v)\n",
    "d2v_rbf= scores(Y_test, yhat_rbf_d2v)"
   ]
  },
  {
   "cell_type": "markdown",
   "metadata": {},
   "source": [
    "## NLTK VADER "
   ]
  },
  {
   "cell_type": "code",
   "execution_count": 22,
   "metadata": {
    "ExecuteTime": {
     "end_time": "2020-05-10T10:44:41.709333Z",
     "start_time": "2020-05-10T10:44:41.696341Z"
    }
   },
   "outputs": [],
   "source": [
    "from nltk.sentiment.vader import SentimentIntensityAnalyzer\n",
    "import operator"
   ]
  },
  {
   "cell_type": "code",
   "execution_count": 76,
   "metadata": {
    "ExecuteTime": {
     "end_time": "2020-05-03T08:40:27.953008Z",
     "start_time": "2020-05-03T08:40:26.773953Z"
    }
   },
   "outputs": [],
   "source": [
    "sid = SentimentIntensityAnalyzer()\n",
    "pred_nltk_no_tune = []\n",
    "\n",
    "for line in test.BODY:\n",
    "    sentiments = sid.polarity_scores(line)\n",
    "    del sentiments['compound']\n",
    "    max_sntm = max(sentiments.items(), key=operator.itemgetter(1))[0]\n",
    "    if max_sntm=='neg':\n",
    "        pred_nltk_no_tune.append(-1)\n",
    "    elif max_sntm=='neu':\n",
    "        pred_nltk_no_tune.append(0)\n",
    "    else:\n",
    "        pred_nltk_no_tune.append(1)\n",
    "        \n",
    "pred_nltk_no_tune = np.array(pred_nltk_no_tune)"
   ]
  },
  {
   "cell_type": "code",
   "execution_count": 77,
   "metadata": {
    "ExecuteTime": {
     "end_time": "2020-05-03T08:40:30.700241Z",
     "start_time": "2020-05-03T08:40:29.500789Z"
    }
   },
   "outputs": [],
   "source": [
    "sid = SentimentIntensityAnalyzer()\n",
    "pred_nltk = []\n",
    "\n",
    "for line in test.BODY:\n",
    "    sentiments = sid.polarity_scores(line)\n",
    "    if sentiments['pos'] > 0.1 and sentiments['neg'] < 0.1:\n",
    "        pred_nltk.append(1)\n",
    "    elif sentiments['neg'] > 0.1 and sentiments['pos'] < 0.1:\n",
    "        pred_nltk.append(-1)\n",
    "    else:\n",
    "        pred_nltk.append(0)\n",
    "        \n",
    "pred_nltk= np.array(pred_nltk)"
   ]
  },
  {
   "cell_type": "code",
   "execution_count": 78,
   "metadata": {
    "ExecuteTime": {
     "end_time": "2020-05-03T08:40:32.195629Z",
     "start_time": "2020-05-03T08:40:32.177667Z"
    }
   },
   "outputs": [],
   "source": [
    "nltk_res = scores(Y_test, pred_nltk)"
   ]
  },
  {
   "cell_type": "code",
   "execution_count": 79,
   "metadata": {
    "ExecuteTime": {
     "end_time": "2020-05-03T08:40:33.799315Z",
     "start_time": "2020-05-03T08:40:33.661008Z"
    }
   },
   "outputs": [
    {
     "data": {
      "text/html": [
       "<div>\n",
       "<style scoped>\n",
       "    .dataframe tbody tr th:only-of-type {\n",
       "        vertical-align: middle;\n",
       "    }\n",
       "\n",
       "    .dataframe tbody tr th {\n",
       "        vertical-align: top;\n",
       "    }\n",
       "\n",
       "    .dataframe thead th {\n",
       "        text-align: right;\n",
       "    }\n",
       "</style>\n",
       "<table border=\"1\" class=\"dataframe\">\n",
       "  <thead>\n",
       "    <tr style=\"text-align: right;\">\n",
       "      <th>Predicted</th>\n",
       "      <th>-1</th>\n",
       "      <th>0</th>\n",
       "      <th>1</th>\n",
       "      <th>All</th>\n",
       "    </tr>\n",
       "    <tr>\n",
       "      <th>True</th>\n",
       "      <th></th>\n",
       "      <th></th>\n",
       "      <th></th>\n",
       "      <th></th>\n",
       "    </tr>\n",
       "  </thead>\n",
       "  <tbody>\n",
       "    <tr>\n",
       "      <th>-1.0</th>\n",
       "      <td>6</td>\n",
       "      <td>5</td>\n",
       "      <td>0</td>\n",
       "      <td>11</td>\n",
       "    </tr>\n",
       "    <tr>\n",
       "      <th>0.0</th>\n",
       "      <td>1</td>\n",
       "      <td>39</td>\n",
       "      <td>10</td>\n",
       "      <td>50</td>\n",
       "    </tr>\n",
       "    <tr>\n",
       "      <th>1.0</th>\n",
       "      <td>0</td>\n",
       "      <td>6</td>\n",
       "      <td>3</td>\n",
       "      <td>9</td>\n",
       "    </tr>\n",
       "    <tr>\n",
       "      <th>All</th>\n",
       "      <td>7</td>\n",
       "      <td>50</td>\n",
       "      <td>13</td>\n",
       "      <td>70</td>\n",
       "    </tr>\n",
       "  </tbody>\n",
       "</table>\n",
       "</div>"
      ],
      "text/plain": [
       "Predicted  -1   0   1  All\n",
       "True                      \n",
       "-1.0        6   5   0   11\n",
       "0.0         1  39  10   50\n",
       "1.0         0   6   3    9\n",
       "All         7  50  13   70"
      ]
     },
     "execution_count": 79,
     "metadata": {},
     "output_type": "execute_result"
    }
   ],
   "source": [
    "pd.crosstab(Y_test, pred_nltk, rownames=['True'], colnames=['Predicted'], margins=True)"
   ]
  },
  {
   "cell_type": "code",
   "execution_count": 146,
   "metadata": {
    "ExecuteTime": {
     "end_time": "2020-05-03T14:22:32.203949Z",
     "start_time": "2020-05-03T14:22:32.189640Z"
    }
   },
   "outputs": [
    {
     "name": "stdout",
     "output_type": "stream",
     "text": [
      "              precision    recall  f1-score   support\n",
      "\n",
      "        -1.0      0.857     0.545     0.667        11\n",
      "         0.0      0.780     0.780     0.780        50\n",
      "         1.0      0.231     0.333     0.273         9\n",
      "\n",
      "    accuracy                          0.686        70\n",
      "   macro avg      0.623     0.553     0.573        70\n",
      "weighted avg      0.722     0.686     0.697        70\n",
      "\n"
     ]
    }
   ],
   "source": [
    "print(classification_report(Y_test, pred_nltk, digits = 3))"
   ]
  },
  {
   "cell_type": "markdown",
   "metadata": {},
   "source": [
    "## Flair"
   ]
  },
  {
   "cell_type": "code",
   "execution_count": 16,
   "metadata": {
    "ExecuteTime": {
     "end_time": "2020-05-31T14:04:08.390580Z",
     "start_time": "2020-05-31T14:04:07.508151Z"
    }
   },
   "outputs": [],
   "source": [
    "from flair.models import TextClassifier\n",
    "from flair.data import Sentence"
   ]
  },
  {
   "cell_type": "code",
   "execution_count": 17,
   "metadata": {
    "ExecuteTime": {
     "end_time": "2020-05-31T14:04:11.170037Z",
     "start_time": "2020-05-31T14:04:09.400830Z"
    }
   },
   "outputs": [
    {
     "name": "stdout",
     "output_type": "stream",
     "text": [
      "2020-05-31 16:04:09,404 loading file C:\\Users\\petro\\.flair\\models\\sentiment-en-mix-distillbert.pt\n"
     ]
    }
   ],
   "source": [
    "classifier = TextClassifier.load('en-sentiment')"
   ]
  },
  {
   "cell_type": "code",
   "execution_count": 34,
   "metadata": {
    "ExecuteTime": {
     "end_time": "2020-05-31T14:20:20.450094Z",
     "start_time": "2020-05-31T14:19:31.113467Z"
    }
   },
   "outputs": [],
   "source": [
    "flair_scores = []\n",
    "for doc in test.ARTICLE:\n",
    "    sentence = Sentence(doc)\n",
    "    classifier.predict(sentence)\n",
    "    if sentence.labels[0].value =='NEGATIVE' and sentence.labels[0].score> 0.995 :\n",
    "        flair_scores.append(-1)\n",
    "    elif sentence.labels[0].value =='POSITIVE' and sentence.labels[0].score> 0.75 :\n",
    "        flair_scores.append(1)\n",
    "    else:\n",
    "        flair_scores.append(0)"
   ]
  },
  {
   "cell_type": "code",
   "execution_count": 35,
   "metadata": {
    "ExecuteTime": {
     "end_time": "2020-05-31T14:21:21.314502Z",
     "start_time": "2020-05-31T14:21:21.264602Z"
    }
   },
   "outputs": [
    {
     "data": {
      "text/html": [
       "<div>\n",
       "<style scoped>\n",
       "    .dataframe tbody tr th:only-of-type {\n",
       "        vertical-align: middle;\n",
       "    }\n",
       "\n",
       "    .dataframe tbody tr th {\n",
       "        vertical-align: top;\n",
       "    }\n",
       "\n",
       "    .dataframe thead th {\n",
       "        text-align: right;\n",
       "    }\n",
       "</style>\n",
       "<table border=\"1\" class=\"dataframe\">\n",
       "  <thead>\n",
       "    <tr style=\"text-align: right;\">\n",
       "      <th>Predicted</th>\n",
       "      <th>-1</th>\n",
       "      <th>0</th>\n",
       "      <th>1</th>\n",
       "      <th>All</th>\n",
       "    </tr>\n",
       "    <tr>\n",
       "      <th>True</th>\n",
       "      <th></th>\n",
       "      <th></th>\n",
       "      <th></th>\n",
       "      <th></th>\n",
       "    </tr>\n",
       "  </thead>\n",
       "  <tbody>\n",
       "    <tr>\n",
       "      <th>-1.0</th>\n",
       "      <td>10</td>\n",
       "      <td>1</td>\n",
       "      <td>0</td>\n",
       "      <td>11</td>\n",
       "    </tr>\n",
       "    <tr>\n",
       "      <th>0.0</th>\n",
       "      <td>25</td>\n",
       "      <td>22</td>\n",
       "      <td>3</td>\n",
       "      <td>50</td>\n",
       "    </tr>\n",
       "    <tr>\n",
       "      <th>1.0</th>\n",
       "      <td>2</td>\n",
       "      <td>7</td>\n",
       "      <td>0</td>\n",
       "      <td>9</td>\n",
       "    </tr>\n",
       "    <tr>\n",
       "      <th>All</th>\n",
       "      <td>37</td>\n",
       "      <td>30</td>\n",
       "      <td>3</td>\n",
       "      <td>70</td>\n",
       "    </tr>\n",
       "  </tbody>\n",
       "</table>\n",
       "</div>"
      ],
      "text/plain": [
       "Predicted  -1   0  1  All\n",
       "True                     \n",
       "-1.0       10   1  0   11\n",
       "0.0        25  22  3   50\n",
       "1.0         2   7  0    9\n",
       "All        37  30  3   70"
      ]
     },
     "execution_count": 35,
     "metadata": {},
     "output_type": "execute_result"
    }
   ],
   "source": [
    "pd.crosstab(Y_test, np.array(flair_scores), rownames=['True'], colnames=['Predicted'], margins=True)"
   ]
  },
  {
   "cell_type": "code",
   "execution_count": 36,
   "metadata": {
    "ExecuteTime": {
     "end_time": "2020-05-31T14:21:23.715750Z",
     "start_time": "2020-05-31T14:21:23.696698Z"
    }
   },
   "outputs": [
    {
     "name": "stdout",
     "output_type": "stream",
     "text": [
      "balanced accuracy 0.45\n"
     ]
    }
   ],
   "source": [
    "print('balanced accuracy', round(balanced_accuracy_score(Y_test, np.array(flair_scores)),3))"
   ]
  },
  {
   "cell_type": "markdown",
   "metadata": {},
   "source": [
    "## Results Tables"
   ]
  },
  {
   "cell_type": "code",
   "execution_count": 23,
   "metadata": {
    "ExecuteTime": {
     "end_time": "2020-05-10T10:44:45.013114Z",
     "start_time": "2020-05-10T10:44:45.003629Z"
    }
   },
   "outputs": [],
   "source": [
    "import tabulate"
   ]
  },
  {
   "cell_type": "markdown",
   "metadata": {},
   "source": [
    "###  Cross-Validation Results"
   ]
  },
  {
   "cell_type": "markdown",
   "metadata": {},
   "source": [
    "__Count Vectorizer__\n",
    "***"
   ]
  },
  {
   "cell_type": "code",
   "execution_count": 111,
   "metadata": {
    "ExecuteTime": {
     "end_time": "2020-05-03T09:30:49.543783Z",
     "start_time": "2020-05-03T09:30:49.524582Z"
    }
   },
   "outputs": [
    {
     "data": {
      "text/html": [
       "<div>\n",
       "<style scoped>\n",
       "    .dataframe tbody tr th:only-of-type {\n",
       "        vertical-align: middle;\n",
       "    }\n",
       "\n",
       "    .dataframe tbody tr th {\n",
       "        vertical-align: top;\n",
       "    }\n",
       "\n",
       "    .dataframe thead th {\n",
       "        text-align: right;\n",
       "    }\n",
       "</style>\n",
       "<table border=\"1\" class=\"dataframe\">\n",
       "  <thead>\n",
       "    <tr style=\"text-align: right;\">\n",
       "      <th></th>\n",
       "      <th>param_vectorizer__tokenizer</th>\n",
       "      <th>param_vectorizer__ngram_range</th>\n",
       "      <th>param_vectorizer__max_features</th>\n",
       "      <th>param_svm__C</th>\n",
       "      <th>mean_test_score</th>\n",
       "      <th>std_test_score</th>\n",
       "    </tr>\n",
       "  </thead>\n",
       "  <tbody>\n",
       "    <tr>\n",
       "      <th>44</th>\n",
       "      <td>&lt;function PREPROCESSING.process_lemmatizer at ...</td>\n",
       "      <td>(1, 2)</td>\n",
       "      <td>1000</td>\n",
       "      <td>0.01</td>\n",
       "      <td>0.609976</td>\n",
       "      <td>0.049269</td>\n",
       "    </tr>\n",
       "    <tr>\n",
       "      <th>41</th>\n",
       "      <td>&lt;function PREPROCESSING.process_lemmatizer at ...</td>\n",
       "      <td>(1, 3)</td>\n",
       "      <td>500</td>\n",
       "      <td>0.01</td>\n",
       "      <td>0.608044</td>\n",
       "      <td>0.015696</td>\n",
       "    </tr>\n",
       "    <tr>\n",
       "      <th>30</th>\n",
       "      <td>&lt;function PREPROCESSING.process at 0x00000263A...</td>\n",
       "      <td>(1, 1)</td>\n",
       "      <td>5000</td>\n",
       "      <td>0.01</td>\n",
       "      <td>0.601840</td>\n",
       "      <td>0.037798</td>\n",
       "    </tr>\n",
       "    <tr>\n",
       "      <th>21</th>\n",
       "      <td>&lt;function PREPROCESSING.process at 0x00000263A...</td>\n",
       "      <td>(1, 1)</td>\n",
       "      <td>2000</td>\n",
       "      <td>0.01</td>\n",
       "      <td>0.600130</td>\n",
       "      <td>0.037912</td>\n",
       "    </tr>\n",
       "    <tr>\n",
       "      <th>28</th>\n",
       "      <td>&lt;function PREPROCESSING.process_lemmatizer at ...</td>\n",
       "      <td>(1, 1)</td>\n",
       "      <td>1000</td>\n",
       "      <td>0.01</td>\n",
       "      <td>0.598335</td>\n",
       "      <td>0.070348</td>\n",
       "    </tr>\n",
       "    <tr>\n",
       "      <th>37</th>\n",
       "      <td>&lt;function PREPROCESSING.process_stop at 0x0000...</td>\n",
       "      <td>(1, 2)</td>\n",
       "      <td>1000</td>\n",
       "      <td>0.01</td>\n",
       "      <td>0.596770</td>\n",
       "      <td>0.080660</td>\n",
       "    </tr>\n",
       "    <tr>\n",
       "      <th>12</th>\n",
       "      <td>&lt;function PREPROCESSING.process at 0x00000263A...</td>\n",
       "      <td>(1, 2)</td>\n",
       "      <td>1000</td>\n",
       "      <td>0.1</td>\n",
       "      <td>0.595340</td>\n",
       "      <td>0.044297</td>\n",
       "    </tr>\n",
       "    <tr>\n",
       "      <th>22</th>\n",
       "      <td>&lt;function PREPROCESSING.process_lemmatizer_sto...</td>\n",
       "      <td>(1, 1)</td>\n",
       "      <td>1000</td>\n",
       "      <td>0.01</td>\n",
       "      <td>0.593506</td>\n",
       "      <td>0.065733</td>\n",
       "    </tr>\n",
       "    <tr>\n",
       "      <th>8</th>\n",
       "      <td>&lt;function PREPROCESSING.process_stop at 0x0000...</td>\n",
       "      <td>(1, 3)</td>\n",
       "      <td>500</td>\n",
       "      <td>0.01</td>\n",
       "      <td>0.591557</td>\n",
       "      <td>0.089324</td>\n",
       "    </tr>\n",
       "    <tr>\n",
       "      <th>43</th>\n",
       "      <td>&lt;function PREPROCESSING.process_lemmatizer at ...</td>\n",
       "      <td>(1, 3)</td>\n",
       "      <td>5000</td>\n",
       "      <td>0.01</td>\n",
       "      <td>0.589347</td>\n",
       "      <td>0.065811</td>\n",
       "    </tr>\n",
       "  </tbody>\n",
       "</table>\n",
       "</div>"
      ],
      "text/plain": [
       "                          param_vectorizer__tokenizer  \\\n",
       "44  <function PREPROCESSING.process_lemmatizer at ...   \n",
       "41  <function PREPROCESSING.process_lemmatizer at ...   \n",
       "30  <function PREPROCESSING.process at 0x00000263A...   \n",
       "21  <function PREPROCESSING.process at 0x00000263A...   \n",
       "28  <function PREPROCESSING.process_lemmatizer at ...   \n",
       "37  <function PREPROCESSING.process_stop at 0x0000...   \n",
       "12  <function PREPROCESSING.process at 0x00000263A...   \n",
       "22  <function PREPROCESSING.process_lemmatizer_sto...   \n",
       "8   <function PREPROCESSING.process_stop at 0x0000...   \n",
       "43  <function PREPROCESSING.process_lemmatizer at ...   \n",
       "\n",
       "   param_vectorizer__ngram_range param_vectorizer__max_features param_svm__C  \\\n",
       "44                        (1, 2)                           1000         0.01   \n",
       "41                        (1, 3)                            500         0.01   \n",
       "30                        (1, 1)                           5000         0.01   \n",
       "21                        (1, 1)                           2000         0.01   \n",
       "28                        (1, 1)                           1000         0.01   \n",
       "37                        (1, 2)                           1000         0.01   \n",
       "12                        (1, 2)                           1000          0.1   \n",
       "22                        (1, 1)                           1000         0.01   \n",
       "8                         (1, 3)                            500         0.01   \n",
       "43                        (1, 3)                           5000         0.01   \n",
       "\n",
       "    mean_test_score  std_test_score  \n",
       "44         0.609976        0.049269  \n",
       "41         0.608044        0.015696  \n",
       "30         0.601840        0.037798  \n",
       "21         0.600130        0.037912  \n",
       "28         0.598335        0.070348  \n",
       "37         0.596770        0.080660  \n",
       "12         0.595340        0.044297  \n",
       "22         0.593506        0.065733  \n",
       "8          0.591557        0.089324  \n",
       "43         0.589347        0.065811  "
      ]
     },
     "execution_count": 111,
     "metadata": {},
     "output_type": "execute_result"
    }
   ],
   "source": [
    "selected = CV_cv_lin[['param_vectorizer__tokenizer', 'param_vectorizer__ngram_range', 'param_vectorizer__max_features',\n",
    "                      'param_svm__C', 'mean_test_score', 'std_test_score']]\n",
    "selected.sort_values('mean_test_score', ascending=False).head(10)"
   ]
  },
  {
   "cell_type": "code",
   "execution_count": 113,
   "metadata": {
    "ExecuteTime": {
     "end_time": "2020-05-03T09:44:50.467360Z",
     "start_time": "2020-05-03T09:44:50.447413Z"
    }
   },
   "outputs": [
    {
     "data": {
      "text/html": [
       "<div>\n",
       "<style scoped>\n",
       "    .dataframe tbody tr th:only-of-type {\n",
       "        vertical-align: middle;\n",
       "    }\n",
       "\n",
       "    .dataframe tbody tr th {\n",
       "        vertical-align: top;\n",
       "    }\n",
       "\n",
       "    .dataframe thead th {\n",
       "        text-align: right;\n",
       "    }\n",
       "</style>\n",
       "<table border=\"1\" class=\"dataframe\">\n",
       "  <thead>\n",
       "    <tr style=\"text-align: right;\">\n",
       "      <th></th>\n",
       "      <th>param_vectorizer__tokenizer</th>\n",
       "      <th>param_vectorizer__ngram_range</th>\n",
       "      <th>param_vectorizer__max_features</th>\n",
       "      <th>param_svm__C</th>\n",
       "      <th>param_svm__gamma</th>\n",
       "      <th>mean_test_score</th>\n",
       "      <th>std_test_score</th>\n",
       "    </tr>\n",
       "  </thead>\n",
       "  <tbody>\n",
       "    <tr>\n",
       "      <th>22</th>\n",
       "      <td>&lt;function PREPROCESSING.process at 0x00000263A...</td>\n",
       "      <td>(1, 1)</td>\n",
       "      <td>500</td>\n",
       "      <td>1</td>\n",
       "      <td>0.0625</td>\n",
       "      <td>0.388889</td>\n",
       "      <td>0.038289</td>\n",
       "    </tr>\n",
       "    <tr>\n",
       "      <th>1</th>\n",
       "      <td>&lt;function PREPROCESSING.process_lemmatizer at ...</td>\n",
       "      <td>(1, 3)</td>\n",
       "      <td>500</td>\n",
       "      <td>1</td>\n",
       "      <td>0.0625</td>\n",
       "      <td>0.388889</td>\n",
       "      <td>0.038289</td>\n",
       "    </tr>\n",
       "    <tr>\n",
       "      <th>34</th>\n",
       "      <td>&lt;function PREPROCESSING.process_lemmatizer at ...</td>\n",
       "      <td>(1, 3)</td>\n",
       "      <td>100</td>\n",
       "      <td>10</td>\n",
       "      <td>0.25</td>\n",
       "      <td>0.381481</td>\n",
       "      <td>0.029368</td>\n",
       "    </tr>\n",
       "    <tr>\n",
       "      <th>10</th>\n",
       "      <td>&lt;function PREPROCESSING.process_lemmatizer at ...</td>\n",
       "      <td>(1, 3)</td>\n",
       "      <td>300</td>\n",
       "      <td>100</td>\n",
       "      <td>0.125</td>\n",
       "      <td>0.380556</td>\n",
       "      <td>0.044444</td>\n",
       "    </tr>\n",
       "    <tr>\n",
       "      <th>7</th>\n",
       "      <td>&lt;function PREPROCESSING.process_lemmatizer at ...</td>\n",
       "      <td>(1, 2)</td>\n",
       "      <td>1000</td>\n",
       "      <td>10</td>\n",
       "      <td>0.0625</td>\n",
       "      <td>0.373148</td>\n",
       "      <td>0.035331</td>\n",
       "    </tr>\n",
       "    <tr>\n",
       "      <th>27</th>\n",
       "      <td>&lt;function PREPROCESSING.process_lemmatizer at ...</td>\n",
       "      <td>(1, 1)</td>\n",
       "      <td>500</td>\n",
       "      <td>100</td>\n",
       "      <td>0.125</td>\n",
       "      <td>0.373148</td>\n",
       "      <td>0.035331</td>\n",
       "    </tr>\n",
       "    <tr>\n",
       "      <th>33</th>\n",
       "      <td>&lt;function PREPROCESSING.process at 0x00000263A...</td>\n",
       "      <td>(1, 2)</td>\n",
       "      <td>300</td>\n",
       "      <td>1</td>\n",
       "      <td>0.125</td>\n",
       "      <td>0.373148</td>\n",
       "      <td>0.035331</td>\n",
       "    </tr>\n",
       "    <tr>\n",
       "      <th>49</th>\n",
       "      <td>&lt;function PREPROCESSING.process at 0x00000263A...</td>\n",
       "      <td>(1, 1)</td>\n",
       "      <td>1000</td>\n",
       "      <td>10</td>\n",
       "      <td>0.125</td>\n",
       "      <td>0.373148</td>\n",
       "      <td>0.035331</td>\n",
       "    </tr>\n",
       "    <tr>\n",
       "      <th>4</th>\n",
       "      <td>&lt;function PREPROCESSING.process_stop at 0x0000...</td>\n",
       "      <td>(1, 2)</td>\n",
       "      <td>500</td>\n",
       "      <td>1</td>\n",
       "      <td>0.125</td>\n",
       "      <td>0.373148</td>\n",
       "      <td>0.035331</td>\n",
       "    </tr>\n",
       "    <tr>\n",
       "      <th>41</th>\n",
       "      <td>&lt;function PREPROCESSING.process at 0x00000263A...</td>\n",
       "      <td>(1, 2)</td>\n",
       "      <td>100</td>\n",
       "      <td>1</td>\n",
       "      <td>8</td>\n",
       "      <td>0.364815</td>\n",
       "      <td>0.028298</td>\n",
       "    </tr>\n",
       "  </tbody>\n",
       "</table>\n",
       "</div>"
      ],
      "text/plain": [
       "                          param_vectorizer__tokenizer  \\\n",
       "22  <function PREPROCESSING.process at 0x00000263A...   \n",
       "1   <function PREPROCESSING.process_lemmatizer at ...   \n",
       "34  <function PREPROCESSING.process_lemmatizer at ...   \n",
       "10  <function PREPROCESSING.process_lemmatizer at ...   \n",
       "7   <function PREPROCESSING.process_lemmatizer at ...   \n",
       "27  <function PREPROCESSING.process_lemmatizer at ...   \n",
       "33  <function PREPROCESSING.process at 0x00000263A...   \n",
       "49  <function PREPROCESSING.process at 0x00000263A...   \n",
       "4   <function PREPROCESSING.process_stop at 0x0000...   \n",
       "41  <function PREPROCESSING.process at 0x00000263A...   \n",
       "\n",
       "   param_vectorizer__ngram_range param_vectorizer__max_features param_svm__C  \\\n",
       "22                        (1, 1)                            500            1   \n",
       "1                         (1, 3)                            500            1   \n",
       "34                        (1, 3)                            100           10   \n",
       "10                        (1, 3)                            300          100   \n",
       "7                         (1, 2)                           1000           10   \n",
       "27                        (1, 1)                            500          100   \n",
       "33                        (1, 2)                            300            1   \n",
       "49                        (1, 1)                           1000           10   \n",
       "4                         (1, 2)                            500            1   \n",
       "41                        (1, 2)                            100            1   \n",
       "\n",
       "   param_svm__gamma  mean_test_score  std_test_score  \n",
       "22           0.0625         0.388889        0.038289  \n",
       "1            0.0625         0.388889        0.038289  \n",
       "34             0.25         0.381481        0.029368  \n",
       "10            0.125         0.380556        0.044444  \n",
       "7            0.0625         0.373148        0.035331  \n",
       "27            0.125         0.373148        0.035331  \n",
       "33            0.125         0.373148        0.035331  \n",
       "49            0.125         0.373148        0.035331  \n",
       "4             0.125         0.373148        0.035331  \n",
       "41                8         0.364815        0.028298  "
      ]
     },
     "execution_count": 113,
     "metadata": {},
     "output_type": "execute_result"
    }
   ],
   "source": [
    "selected = CV_cv_rbf[['param_vectorizer__tokenizer', 'param_vectorizer__ngram_range', 'param_vectorizer__max_features',\n",
    "                      'param_svm__C', 'param_svm__gamma', 'mean_test_score', 'std_test_score']]\n",
    "selected.sort_values('mean_test_score', ascending=False).head(10)"
   ]
  },
  {
   "cell_type": "markdown",
   "metadata": {},
   "source": [
    "__TF-IDF__\n",
    "***"
   ]
  },
  {
   "cell_type": "code",
   "execution_count": 115,
   "metadata": {
    "ExecuteTime": {
     "end_time": "2020-05-03T10:00:07.016411Z",
     "start_time": "2020-05-03T10:00:06.995916Z"
    }
   },
   "outputs": [
    {
     "data": {
      "text/html": [
       "<div>\n",
       "<style scoped>\n",
       "    .dataframe tbody tr th:only-of-type {\n",
       "        vertical-align: middle;\n",
       "    }\n",
       "\n",
       "    .dataframe tbody tr th {\n",
       "        vertical-align: top;\n",
       "    }\n",
       "\n",
       "    .dataframe thead th {\n",
       "        text-align: right;\n",
       "    }\n",
       "</style>\n",
       "<table border=\"1\" class=\"dataframe\">\n",
       "  <thead>\n",
       "    <tr style=\"text-align: right;\">\n",
       "      <th></th>\n",
       "      <th>param_vectorizer__tokenizer</th>\n",
       "      <th>param_vectorizer__ngram_range</th>\n",
       "      <th>param_vectorizer__max_features</th>\n",
       "      <th>param_svm__C</th>\n",
       "      <th>mean_test_score</th>\n",
       "      <th>std_test_score</th>\n",
       "    </tr>\n",
       "  </thead>\n",
       "  <tbody>\n",
       "    <tr>\n",
       "      <th>3</th>\n",
       "      <td>&lt;function PREPROCESSING.process_stop at 0x0000...</td>\n",
       "      <td>(1, 1)</td>\n",
       "      <td>1000</td>\n",
       "      <td>1</td>\n",
       "      <td>0.700840</td>\n",
       "      <td>0.031234</td>\n",
       "    </tr>\n",
       "    <tr>\n",
       "      <th>41</th>\n",
       "      <td>&lt;function PREPROCESSING.process_lemmatizer_sto...</td>\n",
       "      <td>(1, 1)</td>\n",
       "      <td>5000</td>\n",
       "      <td>1</td>\n",
       "      <td>0.699123</td>\n",
       "      <td>0.051075</td>\n",
       "    </tr>\n",
       "    <tr>\n",
       "      <th>30</th>\n",
       "      <td>&lt;function PREPROCESSING.process_stop at 0x0000...</td>\n",
       "      <td>(1, 3)</td>\n",
       "      <td>1000</td>\n",
       "      <td>1</td>\n",
       "      <td>0.694803</td>\n",
       "      <td>0.058958</td>\n",
       "    </tr>\n",
       "    <tr>\n",
       "      <th>49</th>\n",
       "      <td>&lt;function PREPROCESSING.process at 0x00000263A...</td>\n",
       "      <td>(1, 3)</td>\n",
       "      <td>500</td>\n",
       "      <td>1</td>\n",
       "      <td>0.679880</td>\n",
       "      <td>0.064491</td>\n",
       "    </tr>\n",
       "    <tr>\n",
       "      <th>25</th>\n",
       "      <td>&lt;function PREPROCESSING.process at 0x00000263A...</td>\n",
       "      <td>(1, 2)</td>\n",
       "      <td>500</td>\n",
       "      <td>1</td>\n",
       "      <td>0.678689</td>\n",
       "      <td>0.042646</td>\n",
       "    </tr>\n",
       "    <tr>\n",
       "      <th>32</th>\n",
       "      <td>&lt;function PREPROCESSING.process_lemmatizer_sto...</td>\n",
       "      <td>(1, 2)</td>\n",
       "      <td>1000</td>\n",
       "      <td>1</td>\n",
       "      <td>0.675584</td>\n",
       "      <td>0.052542</td>\n",
       "    </tr>\n",
       "    <tr>\n",
       "      <th>18</th>\n",
       "      <td>&lt;function PREPROCESSING.process_lemmatizer at ...</td>\n",
       "      <td>(1, 3)</td>\n",
       "      <td>500</td>\n",
       "      <td>1</td>\n",
       "      <td>0.673476</td>\n",
       "      <td>0.049603</td>\n",
       "    </tr>\n",
       "    <tr>\n",
       "      <th>14</th>\n",
       "      <td>&lt;function PREPROCESSING.process_lemmatizer_sto...</td>\n",
       "      <td>(1, 1)</td>\n",
       "      <td>10000</td>\n",
       "      <td>1</td>\n",
       "      <td>0.654463</td>\n",
       "      <td>0.053420</td>\n",
       "    </tr>\n",
       "    <tr>\n",
       "      <th>36</th>\n",
       "      <td>&lt;function PREPROCESSING.process at 0x00000263A...</td>\n",
       "      <td>(1, 3)</td>\n",
       "      <td>5000</td>\n",
       "      <td>1</td>\n",
       "      <td>0.638836</td>\n",
       "      <td>0.056698</td>\n",
       "    </tr>\n",
       "    <tr>\n",
       "      <th>7</th>\n",
       "      <td>&lt;function PREPROCESSING.process at 0x00000263A...</td>\n",
       "      <td>(1, 2)</td>\n",
       "      <td>500</td>\n",
       "      <td>10</td>\n",
       "      <td>0.636030</td>\n",
       "      <td>0.049808</td>\n",
       "    </tr>\n",
       "  </tbody>\n",
       "</table>\n",
       "</div>"
      ],
      "text/plain": [
       "                          param_vectorizer__tokenizer  \\\n",
       "3   <function PREPROCESSING.process_stop at 0x0000...   \n",
       "41  <function PREPROCESSING.process_lemmatizer_sto...   \n",
       "30  <function PREPROCESSING.process_stop at 0x0000...   \n",
       "49  <function PREPROCESSING.process at 0x00000263A...   \n",
       "25  <function PREPROCESSING.process at 0x00000263A...   \n",
       "32  <function PREPROCESSING.process_lemmatizer_sto...   \n",
       "18  <function PREPROCESSING.process_lemmatizer at ...   \n",
       "14  <function PREPROCESSING.process_lemmatizer_sto...   \n",
       "36  <function PREPROCESSING.process at 0x00000263A...   \n",
       "7   <function PREPROCESSING.process at 0x00000263A...   \n",
       "\n",
       "   param_vectorizer__ngram_range param_vectorizer__max_features param_svm__C  \\\n",
       "3                         (1, 1)                           1000            1   \n",
       "41                        (1, 1)                           5000            1   \n",
       "30                        (1, 3)                           1000            1   \n",
       "49                        (1, 3)                            500            1   \n",
       "25                        (1, 2)                            500            1   \n",
       "32                        (1, 2)                           1000            1   \n",
       "18                        (1, 3)                            500            1   \n",
       "14                        (1, 1)                          10000            1   \n",
       "36                        (1, 3)                           5000            1   \n",
       "7                         (1, 2)                            500           10   \n",
       "\n",
       "    mean_test_score  std_test_score  \n",
       "3          0.700840        0.031234  \n",
       "41         0.699123        0.051075  \n",
       "30         0.694803        0.058958  \n",
       "49         0.679880        0.064491  \n",
       "25         0.678689        0.042646  \n",
       "32         0.675584        0.052542  \n",
       "18         0.673476        0.049603  \n",
       "14         0.654463        0.053420  \n",
       "36         0.638836        0.056698  \n",
       "7          0.636030        0.049808  "
      ]
     },
     "execution_count": 115,
     "metadata": {},
     "output_type": "execute_result"
    }
   ],
   "source": [
    "selected = CV_tfidf_lin[['param_vectorizer__tokenizer', 'param_vectorizer__ngram_range', 'param_vectorizer__max_features',\n",
    "                      'param_svm__C', 'mean_test_score', 'std_test_score']]\n",
    "selected.sort_values('mean_test_score', ascending=False).head(10)"
   ]
  },
  {
   "cell_type": "code",
   "execution_count": 117,
   "metadata": {
    "ExecuteTime": {
     "end_time": "2020-05-03T10:08:08.708332Z",
     "start_time": "2020-05-03T10:08:08.690357Z"
    }
   },
   "outputs": [
    {
     "data": {
      "text/html": [
       "<div>\n",
       "<style scoped>\n",
       "    .dataframe tbody tr th:only-of-type {\n",
       "        vertical-align: middle;\n",
       "    }\n",
       "\n",
       "    .dataframe tbody tr th {\n",
       "        vertical-align: top;\n",
       "    }\n",
       "\n",
       "    .dataframe thead th {\n",
       "        text-align: right;\n",
       "    }\n",
       "</style>\n",
       "<table border=\"1\" class=\"dataframe\">\n",
       "  <thead>\n",
       "    <tr style=\"text-align: right;\">\n",
       "      <th></th>\n",
       "      <th>param_vectorizer__tokenizer</th>\n",
       "      <th>param_vectorizer__ngram_range</th>\n",
       "      <th>param_vectorizer__max_features</th>\n",
       "      <th>param_svm__C</th>\n",
       "      <th>param_svm__gamma</th>\n",
       "      <th>mean_test_score</th>\n",
       "      <th>std_test_score</th>\n",
       "    </tr>\n",
       "  </thead>\n",
       "  <tbody>\n",
       "    <tr>\n",
       "      <th>2</th>\n",
       "      <td>&lt;function PREPROCESSING.process at 0x00000263A...</td>\n",
       "      <td>(1, 2)</td>\n",
       "      <td>300</td>\n",
       "      <td>1</td>\n",
       "      <td>0.5</td>\n",
       "      <td>0.676359</td>\n",
       "      <td>0.047360</td>\n",
       "    </tr>\n",
       "    <tr>\n",
       "      <th>47</th>\n",
       "      <td>&lt;function PREPROCESSING.process_lemmatizer at ...</td>\n",
       "      <td>(1, 1)</td>\n",
       "      <td>500</td>\n",
       "      <td>10</td>\n",
       "      <td>0.0625</td>\n",
       "      <td>0.666980</td>\n",
       "      <td>0.061847</td>\n",
       "    </tr>\n",
       "    <tr>\n",
       "      <th>15</th>\n",
       "      <td>&lt;function PREPROCESSING.process at 0x00000263A...</td>\n",
       "      <td>(1, 1)</td>\n",
       "      <td>300</td>\n",
       "      <td>1</td>\n",
       "      <td>0.5</td>\n",
       "      <td>0.653545</td>\n",
       "      <td>0.061622</td>\n",
       "    </tr>\n",
       "    <tr>\n",
       "      <th>21</th>\n",
       "      <td>&lt;function PREPROCESSING.process_lemmatizer at ...</td>\n",
       "      <td>(1, 2)</td>\n",
       "      <td>500</td>\n",
       "      <td>10</td>\n",
       "      <td>0.125</td>\n",
       "      <td>0.643852</td>\n",
       "      <td>0.044035</td>\n",
       "    </tr>\n",
       "    <tr>\n",
       "      <th>8</th>\n",
       "      <td>&lt;function PREPROCESSING.process at 0x00000263A...</td>\n",
       "      <td>(1, 2)</td>\n",
       "      <td>300</td>\n",
       "      <td>10</td>\n",
       "      <td>0.125</td>\n",
       "      <td>0.625653</td>\n",
       "      <td>0.029317</td>\n",
       "    </tr>\n",
       "    <tr>\n",
       "      <th>31</th>\n",
       "      <td>&lt;function PREPROCESSING.process_lemmatizer at ...</td>\n",
       "      <td>(1, 2)</td>\n",
       "      <td>300</td>\n",
       "      <td>1</td>\n",
       "      <td>0.125</td>\n",
       "      <td>0.620376</td>\n",
       "      <td>0.056597</td>\n",
       "    </tr>\n",
       "    <tr>\n",
       "      <th>34</th>\n",
       "      <td>&lt;function PREPROCESSING.process_lemmatizer_sto...</td>\n",
       "      <td>(1, 2)</td>\n",
       "      <td>100</td>\n",
       "      <td>1</td>\n",
       "      <td>0.25</td>\n",
       "      <td>0.613604</td>\n",
       "      <td>0.029774</td>\n",
       "    </tr>\n",
       "    <tr>\n",
       "      <th>42</th>\n",
       "      <td>&lt;function PREPROCESSING.process_lemmatizer at ...</td>\n",
       "      <td>(1, 2)</td>\n",
       "      <td>100</td>\n",
       "      <td>1</td>\n",
       "      <td>0.125</td>\n",
       "      <td>0.603519</td>\n",
       "      <td>0.060823</td>\n",
       "    </tr>\n",
       "    <tr>\n",
       "      <th>16</th>\n",
       "      <td>&lt;function PREPROCESSING.process_lemmatizer at ...</td>\n",
       "      <td>(1, 1)</td>\n",
       "      <td>500</td>\n",
       "      <td>10</td>\n",
       "      <td>0.25</td>\n",
       "      <td>0.580315</td>\n",
       "      <td>0.041444</td>\n",
       "    </tr>\n",
       "    <tr>\n",
       "      <th>7</th>\n",
       "      <td>&lt;function PREPROCESSING.process_lemmatizer_sto...</td>\n",
       "      <td>(1, 1)</td>\n",
       "      <td>100</td>\n",
       "      <td>100</td>\n",
       "      <td>0.0625</td>\n",
       "      <td>0.578303</td>\n",
       "      <td>0.027987</td>\n",
       "    </tr>\n",
       "  </tbody>\n",
       "</table>\n",
       "</div>"
      ],
      "text/plain": [
       "                          param_vectorizer__tokenizer  \\\n",
       "2   <function PREPROCESSING.process at 0x00000263A...   \n",
       "47  <function PREPROCESSING.process_lemmatizer at ...   \n",
       "15  <function PREPROCESSING.process at 0x00000263A...   \n",
       "21  <function PREPROCESSING.process_lemmatizer at ...   \n",
       "8   <function PREPROCESSING.process at 0x00000263A...   \n",
       "31  <function PREPROCESSING.process_lemmatizer at ...   \n",
       "34  <function PREPROCESSING.process_lemmatizer_sto...   \n",
       "42  <function PREPROCESSING.process_lemmatizer at ...   \n",
       "16  <function PREPROCESSING.process_lemmatizer at ...   \n",
       "7   <function PREPROCESSING.process_lemmatizer_sto...   \n",
       "\n",
       "   param_vectorizer__ngram_range param_vectorizer__max_features param_svm__C  \\\n",
       "2                         (1, 2)                            300            1   \n",
       "47                        (1, 1)                            500           10   \n",
       "15                        (1, 1)                            300            1   \n",
       "21                        (1, 2)                            500           10   \n",
       "8                         (1, 2)                            300           10   \n",
       "31                        (1, 2)                            300            1   \n",
       "34                        (1, 2)                            100            1   \n",
       "42                        (1, 2)                            100            1   \n",
       "16                        (1, 1)                            500           10   \n",
       "7                         (1, 1)                            100          100   \n",
       "\n",
       "   param_svm__gamma  mean_test_score  std_test_score  \n",
       "2               0.5         0.676359        0.047360  \n",
       "47           0.0625         0.666980        0.061847  \n",
       "15              0.5         0.653545        0.061622  \n",
       "21            0.125         0.643852        0.044035  \n",
       "8             0.125         0.625653        0.029317  \n",
       "31            0.125         0.620376        0.056597  \n",
       "34             0.25         0.613604        0.029774  \n",
       "42            0.125         0.603519        0.060823  \n",
       "16             0.25         0.580315        0.041444  \n",
       "7            0.0625         0.578303        0.027987  "
      ]
     },
     "execution_count": 117,
     "metadata": {},
     "output_type": "execute_result"
    }
   ],
   "source": [
    "selected = CV_tfidf_rbf[['param_vectorizer__tokenizer', 'param_vectorizer__ngram_range', 'param_vectorizer__max_features',\n",
    "                      'param_svm__C', 'param_svm__gamma', 'mean_test_score', 'std_test_score']]\n",
    "selected.sort_values('mean_test_score', ascending=False).head(10)"
   ]
  },
  {
   "cell_type": "markdown",
   "metadata": {},
   "source": [
    "__Word2Vec__\n",
    "***"
   ]
  },
  {
   "cell_type": "code",
   "execution_count": 119,
   "metadata": {
    "ExecuteTime": {
     "end_time": "2020-05-03T10:15:59.581728Z",
     "start_time": "2020-05-03T10:15:59.555710Z"
    }
   },
   "outputs": [
    {
     "data": {
      "text/html": [
       "<div>\n",
       "<style scoped>\n",
       "    .dataframe tbody tr th:only-of-type {\n",
       "        vertical-align: middle;\n",
       "    }\n",
       "\n",
       "    .dataframe tbody tr th {\n",
       "        vertical-align: top;\n",
       "    }\n",
       "\n",
       "    .dataframe thead th {\n",
       "        text-align: right;\n",
       "    }\n",
       "</style>\n",
       "<table border=\"1\" class=\"dataframe\">\n",
       "  <thead>\n",
       "    <tr style=\"text-align: right;\">\n",
       "      <th></th>\n",
       "      <th>param_C</th>\n",
       "      <th>mean_test_score</th>\n",
       "      <th>std_test_score</th>\n",
       "    </tr>\n",
       "  </thead>\n",
       "  <tbody>\n",
       "    <tr>\n",
       "      <th>3</th>\n",
       "      <td>10</td>\n",
       "      <td>0.693832</td>\n",
       "      <td>0.063431</td>\n",
       "    </tr>\n",
       "    <tr>\n",
       "      <th>2</th>\n",
       "      <td>1</td>\n",
       "      <td>0.597560</td>\n",
       "      <td>0.048513</td>\n",
       "    </tr>\n",
       "    <tr>\n",
       "      <th>4</th>\n",
       "      <td>100</td>\n",
       "      <td>0.579888</td>\n",
       "      <td>0.067736</td>\n",
       "    </tr>\n",
       "    <tr>\n",
       "      <th>1</th>\n",
       "      <td>0.1</td>\n",
       "      <td>0.474758</td>\n",
       "      <td>0.051375</td>\n",
       "    </tr>\n",
       "    <tr>\n",
       "      <th>0</th>\n",
       "      <td>0.01</td>\n",
       "      <td>0.333333</td>\n",
       "      <td>0.000000</td>\n",
       "    </tr>\n",
       "  </tbody>\n",
       "</table>\n",
       "</div>"
      ],
      "text/plain": [
       "  param_C  mean_test_score  std_test_score\n",
       "3      10         0.693832        0.063431\n",
       "2       1         0.597560        0.048513\n",
       "4     100         0.579888        0.067736\n",
       "1     0.1         0.474758        0.051375\n",
       "0    0.01         0.333333        0.000000"
      ]
     },
     "execution_count": 119,
     "metadata": {},
     "output_type": "execute_result"
    }
   ],
   "source": [
    "selected = CV_w2v_lin[['param_C', 'mean_test_score', 'std_test_score']]\n",
    "selected.sort_values('mean_test_score', ascending=False).head(10)"
   ]
  },
  {
   "cell_type": "code",
   "execution_count": 121,
   "metadata": {
    "ExecuteTime": {
     "end_time": "2020-05-03T10:31:06.485705Z",
     "start_time": "2020-05-03T10:31:06.472737Z"
    }
   },
   "outputs": [
    {
     "data": {
      "text/html": [
       "<div>\n",
       "<style scoped>\n",
       "    .dataframe tbody tr th:only-of-type {\n",
       "        vertical-align: middle;\n",
       "    }\n",
       "\n",
       "    .dataframe tbody tr th {\n",
       "        vertical-align: top;\n",
       "    }\n",
       "\n",
       "    .dataframe thead th {\n",
       "        text-align: right;\n",
       "    }\n",
       "</style>\n",
       "<table border=\"1\" class=\"dataframe\">\n",
       "  <thead>\n",
       "    <tr style=\"text-align: right;\">\n",
       "      <th></th>\n",
       "      <th>param_C</th>\n",
       "      <th>param_gamma</th>\n",
       "      <th>mean_test_score</th>\n",
       "      <th>std_test_score</th>\n",
       "    </tr>\n",
       "  </thead>\n",
       "  <tbody>\n",
       "    <tr>\n",
       "      <th>32</th>\n",
       "      <td>100</td>\n",
       "      <td>0.0625</td>\n",
       "      <td>0.689479</td>\n",
       "      <td>0.068815</td>\n",
       "    </tr>\n",
       "    <tr>\n",
       "      <th>21</th>\n",
       "      <td>1</td>\n",
       "      <td>4</td>\n",
       "      <td>0.675474</td>\n",
       "      <td>0.053372</td>\n",
       "    </tr>\n",
       "    <tr>\n",
       "      <th>27</th>\n",
       "      <td>10</td>\n",
       "      <td>0.5</td>\n",
       "      <td>0.673722</td>\n",
       "      <td>0.059394</td>\n",
       "    </tr>\n",
       "    <tr>\n",
       "      <th>33</th>\n",
       "      <td>100</td>\n",
       "      <td>0.125</td>\n",
       "      <td>0.670340</td>\n",
       "      <td>0.032478</td>\n",
       "    </tr>\n",
       "    <tr>\n",
       "      <th>28</th>\n",
       "      <td>10</td>\n",
       "      <td>1</td>\n",
       "      <td>0.660944</td>\n",
       "      <td>0.052361</td>\n",
       "    </tr>\n",
       "    <tr>\n",
       "      <th>26</th>\n",
       "      <td>10</td>\n",
       "      <td>0.25</td>\n",
       "      <td>0.641449</td>\n",
       "      <td>0.079895</td>\n",
       "    </tr>\n",
       "    <tr>\n",
       "      <th>34</th>\n",
       "      <td>100</td>\n",
       "      <td>0.25</td>\n",
       "      <td>0.635808</td>\n",
       "      <td>0.023314</td>\n",
       "    </tr>\n",
       "    <tr>\n",
       "      <th>22</th>\n",
       "      <td>1</td>\n",
       "      <td>8</td>\n",
       "      <td>0.629526</td>\n",
       "      <td>0.042866</td>\n",
       "    </tr>\n",
       "    <tr>\n",
       "      <th>25</th>\n",
       "      <td>10</td>\n",
       "      <td>0.125</td>\n",
       "      <td>0.625588</td>\n",
       "      <td>0.065467</td>\n",
       "    </tr>\n",
       "    <tr>\n",
       "      <th>20</th>\n",
       "      <td>1</td>\n",
       "      <td>1</td>\n",
       "      <td>0.619483</td>\n",
       "      <td>0.069128</td>\n",
       "    </tr>\n",
       "  </tbody>\n",
       "</table>\n",
       "</div>"
      ],
      "text/plain": [
       "   param_C param_gamma  mean_test_score  std_test_score\n",
       "32     100      0.0625         0.689479        0.068815\n",
       "21       1           4         0.675474        0.053372\n",
       "27      10         0.5         0.673722        0.059394\n",
       "33     100       0.125         0.670340        0.032478\n",
       "28      10           1         0.660944        0.052361\n",
       "26      10        0.25         0.641449        0.079895\n",
       "34     100        0.25         0.635808        0.023314\n",
       "22       1           8         0.629526        0.042866\n",
       "25      10       0.125         0.625588        0.065467\n",
       "20       1           1         0.619483        0.069128"
      ]
     },
     "execution_count": 121,
     "metadata": {},
     "output_type": "execute_result"
    }
   ],
   "source": [
    "selected = CV_w2v_rbf[['param_C','param_gamma', 'mean_test_score', 'std_test_score']]\n",
    "selected.sort_values('mean_test_score', ascending=False).head(10)"
   ]
  },
  {
   "cell_type": "markdown",
   "metadata": {},
   "source": [
    "__Doc2Vec__\n",
    "***"
   ]
  },
  {
   "cell_type": "code",
   "execution_count": 125,
   "metadata": {
    "ExecuteTime": {
     "end_time": "2020-05-03T11:02:52.592553Z",
     "start_time": "2020-05-03T11:02:52.581584Z"
    }
   },
   "outputs": [
    {
     "data": {
      "text/html": [
       "<div>\n",
       "<style scoped>\n",
       "    .dataframe tbody tr th:only-of-type {\n",
       "        vertical-align: middle;\n",
       "    }\n",
       "\n",
       "    .dataframe tbody tr th {\n",
       "        vertical-align: top;\n",
       "    }\n",
       "\n",
       "    .dataframe thead th {\n",
       "        text-align: right;\n",
       "    }\n",
       "</style>\n",
       "<table border=\"1\" class=\"dataframe\">\n",
       "  <thead>\n",
       "    <tr style=\"text-align: right;\">\n",
       "      <th></th>\n",
       "      <th>param_C</th>\n",
       "      <th>mean_test_score</th>\n",
       "      <th>std_test_score</th>\n",
       "    </tr>\n",
       "  </thead>\n",
       "  <tbody>\n",
       "    <tr>\n",
       "      <th>3</th>\n",
       "      <td>10</td>\n",
       "      <td>0.581838</td>\n",
       "      <td>0.076992</td>\n",
       "    </tr>\n",
       "    <tr>\n",
       "      <th>1</th>\n",
       "      <td>0.1</td>\n",
       "      <td>0.568913</td>\n",
       "      <td>0.056174</td>\n",
       "    </tr>\n",
       "    <tr>\n",
       "      <th>2</th>\n",
       "      <td>1</td>\n",
       "      <td>0.555893</td>\n",
       "      <td>0.064832</td>\n",
       "    </tr>\n",
       "    <tr>\n",
       "      <th>4</th>\n",
       "      <td>100</td>\n",
       "      <td>0.511760</td>\n",
       "      <td>0.042314</td>\n",
       "    </tr>\n",
       "    <tr>\n",
       "      <th>0</th>\n",
       "      <td>0.01</td>\n",
       "      <td>0.389762</td>\n",
       "      <td>0.071203</td>\n",
       "    </tr>\n",
       "  </tbody>\n",
       "</table>\n",
       "</div>"
      ],
      "text/plain": [
       "  param_C  mean_test_score  std_test_score\n",
       "3      10         0.581838        0.076992\n",
       "1     0.1         0.568913        0.056174\n",
       "2       1         0.555893        0.064832\n",
       "4     100         0.511760        0.042314\n",
       "0    0.01         0.389762        0.071203"
      ]
     },
     "execution_count": 125,
     "metadata": {},
     "output_type": "execute_result"
    }
   ],
   "source": [
    "selected = CV_d2v_lin[['param_C', 'mean_test_score', 'std_test_score']]\n",
    "selected.sort_values('mean_test_score', ascending=False)"
   ]
  },
  {
   "cell_type": "code",
   "execution_count": 124,
   "metadata": {
    "ExecuteTime": {
     "end_time": "2020-05-03T11:02:49.988895Z",
     "start_time": "2020-05-03T11:02:49.974359Z"
    }
   },
   "outputs": [
    {
     "data": {
      "text/html": [
       "<div>\n",
       "<style scoped>\n",
       "    .dataframe tbody tr th:only-of-type {\n",
       "        vertical-align: middle;\n",
       "    }\n",
       "\n",
       "    .dataframe tbody tr th {\n",
       "        vertical-align: top;\n",
       "    }\n",
       "\n",
       "    .dataframe thead th {\n",
       "        text-align: right;\n",
       "    }\n",
       "</style>\n",
       "<table border=\"1\" class=\"dataframe\">\n",
       "  <thead>\n",
       "    <tr style=\"text-align: right;\">\n",
       "      <th></th>\n",
       "      <th>param_C</th>\n",
       "      <th>param_gamma</th>\n",
       "      <th>mean_test_score</th>\n",
       "      <th>std_test_score</th>\n",
       "    </tr>\n",
       "  </thead>\n",
       "  <tbody>\n",
       "    <tr>\n",
       "      <th>24</th>\n",
       "      <td>10</td>\n",
       "      <td>0.0625</td>\n",
       "      <td>0.574483</td>\n",
       "      <td>0.096580</td>\n",
       "    </tr>\n",
       "    <tr>\n",
       "      <th>25</th>\n",
       "      <td>10</td>\n",
       "      <td>0.125</td>\n",
       "      <td>0.549951</td>\n",
       "      <td>0.123443</td>\n",
       "    </tr>\n",
       "    <tr>\n",
       "      <th>17</th>\n",
       "      <td>1</td>\n",
       "      <td>0.125</td>\n",
       "      <td>0.547757</td>\n",
       "      <td>0.081973</td>\n",
       "    </tr>\n",
       "    <tr>\n",
       "      <th>16</th>\n",
       "      <td>1</td>\n",
       "      <td>0.0625</td>\n",
       "      <td>0.546524</td>\n",
       "      <td>0.057332</td>\n",
       "    </tr>\n",
       "    <tr>\n",
       "      <th>26</th>\n",
       "      <td>10</td>\n",
       "      <td>0.25</td>\n",
       "      <td>0.541133</td>\n",
       "      <td>0.107808</td>\n",
       "    </tr>\n",
       "    <tr>\n",
       "      <th>32</th>\n",
       "      <td>100</td>\n",
       "      <td>0.0625</td>\n",
       "      <td>0.533734</td>\n",
       "      <td>0.106033</td>\n",
       "    </tr>\n",
       "    <tr>\n",
       "      <th>18</th>\n",
       "      <td>1</td>\n",
       "      <td>0.25</td>\n",
       "      <td>0.532943</td>\n",
       "      <td>0.106326</td>\n",
       "    </tr>\n",
       "    <tr>\n",
       "      <th>19</th>\n",
       "      <td>1</td>\n",
       "      <td>0.5</td>\n",
       "      <td>0.530427</td>\n",
       "      <td>0.115746</td>\n",
       "    </tr>\n",
       "    <tr>\n",
       "      <th>34</th>\n",
       "      <td>100</td>\n",
       "      <td>0.25</td>\n",
       "      <td>0.529638</td>\n",
       "      <td>0.082193</td>\n",
       "    </tr>\n",
       "    <tr>\n",
       "      <th>33</th>\n",
       "      <td>100</td>\n",
       "      <td>0.125</td>\n",
       "      <td>0.515615</td>\n",
       "      <td>0.067335</td>\n",
       "    </tr>\n",
       "  </tbody>\n",
       "</table>\n",
       "</div>"
      ],
      "text/plain": [
       "   param_C param_gamma  mean_test_score  std_test_score\n",
       "24      10      0.0625         0.574483        0.096580\n",
       "25      10       0.125         0.549951        0.123443\n",
       "17       1       0.125         0.547757        0.081973\n",
       "16       1      0.0625         0.546524        0.057332\n",
       "26      10        0.25         0.541133        0.107808\n",
       "32     100      0.0625         0.533734        0.106033\n",
       "18       1        0.25         0.532943        0.106326\n",
       "19       1         0.5         0.530427        0.115746\n",
       "34     100        0.25         0.529638        0.082193\n",
       "33     100       0.125         0.515615        0.067335"
      ]
     },
     "execution_count": 124,
     "metadata": {},
     "output_type": "execute_result"
    }
   ],
   "source": [
    "selected = CV_d2v_rbf[['param_C','param_gamma', 'mean_test_score', 'std_test_score']]\n",
    "selected.sort_values('mean_test_score', ascending=False).head(10)"
   ]
  },
  {
   "cell_type": "markdown",
   "metadata": {},
   "source": [
    "### Testing Results"
   ]
  },
  {
   "cell_type": "code",
   "execution_count": 89,
   "metadata": {
    "ExecuteTime": {
     "end_time": "2020-05-03T08:40:55.001833Z",
     "start_time": "2020-05-03T08:40:54.983210Z"
    }
   },
   "outputs": [
    {
     "name": "stdout",
     "output_type": "stream",
     "text": [
      "method             accuracy    fscore    recall    precision    balanced_accuracy\n",
      "---------------  ----------  --------  --------  -----------  -------------------\n",
      "Word2Vec             0.6857    0.6011    0.6542       0.5806               0.6542\n",
      "TF-IDF               0.7286    0.6016    0.6438       0.5962               0.6438\n",
      "CountVectorizer      0.7714    0.6131    0.5929       0.6596               0.5929\n",
      "NLTK                 0.6857    0.5731    0.5529       0.6226               0.5529\n",
      "Doc2Vec              0.7143    0.2778    0.3333       0.2381               0.3333\n"
     ]
    }
   ],
   "source": [
    "names=[['CountVectorizer'], ['TF-IDF'], ['Word2Vec'], ['NLTK'], ['Doc2Vec']]\n",
    "fields = ['method', 'accuracy', 'fscore', 'recall', 'precision', 'balanced_accuracy', 'custom f']\n",
    "table=[]\n",
    "table.append(names[0] + cv_lin.values.tolist()[0])\n",
    "table.append(names[1] + tfidf_lin.values.tolist()[0])\n",
    "table.append(names[2] + spacy_lin.values.tolist()[0])\n",
    "table.append(names[3] + nltk_res.values.tolist()[0])\n",
    "table.append(names[4] + d2v_lin.values.tolist()[0])\n",
    "table.sort(key= lambda x: x[5], reverse=True)\n",
    "print(tabulate.tabulate(table, headers=fields))"
   ]
  },
  {
   "cell_type": "code",
   "execution_count": 90,
   "metadata": {
    "ExecuteTime": {
     "end_time": "2020-05-03T08:40:59.447071Z",
     "start_time": "2020-05-03T08:40:59.431076Z"
    }
   },
   "outputs": [
    {
     "name": "stdout",
     "output_type": "stream",
     "text": [
      "method             accuracy    fscore    recall    precision    balanced_accuracy\n",
      "---------------  ----------  --------  --------  -----------  -------------------\n",
      "Word2Vec             0.7143    0.6241    0.6675       0.6032               0.6675\n",
      "TF-IDF               0.7429    0.6349    0.6572       0.6372               0.6572\n",
      "NLTK                 0.6857    0.5731    0.5529       0.6226               0.5529\n",
      "CountVectorizer      0.7286    0.3357    0.3636       0.5749               0.3636\n",
      "Doc2Vec              0.7143    0.2778    0.3333       0.2381               0.3333\n"
     ]
    }
   ],
   "source": [
    "table=[]\n",
    "table.append(names[0] + cv_rbf.values.tolist()[0])\n",
    "table.append(names[1] + tfidf_rbf.values.tolist()[0])\n",
    "table.append(names[2] + spacy_rbf.values.tolist()[0])\n",
    "table.append(names[3] + nltk_res.values.tolist()[0])\n",
    "table.append(names[4] + d2v_rbf.values.tolist()[0])\n",
    "table.sort(key= lambda x: x[5], reverse=True)\n",
    "print(tabulate.tabulate(table, headers=fields))"
   ]
  },
  {
   "cell_type": "markdown",
   "metadata": {},
   "source": [
    "## Predicting the unlabeled documents"
   ]
  },
  {
   "cell_type": "markdown",
   "metadata": {},
   "source": [
    "- Here the sentiment scores for the unlabeled documents are predicted using the the model that performs the best on the labeled instances.\n",
    "\n",
    "We have 343 labeled documents and 901 unlabeled"
   ]
  },
  {
   "cell_type": "markdown",
   "metadata": {},
   "source": [
    "### Best Linear SVM"
   ]
  },
  {
   "cell_type": "markdown",
   "metadata": {},
   "source": [
    "As we can see in the previous table the best linear model is TF-IDF, the best parameters are:\n",
    "- __tokenizer__ :process_stop \n",
    "-  __ngram range__ :       (1, 1)\n",
    "- __max features__ :        1000 \n",
    "- __kernel__ :            linear\n",
    "- __C__ :                   1"
   ]
  },
  {
   "cell_type": "code",
   "execution_count": 24,
   "metadata": {
    "ExecuteTime": {
     "end_time": "2020-05-10T10:44:52.626663Z",
     "start_time": "2020-05-10T10:44:52.621675Z"
    }
   },
   "outputs": [],
   "source": [
    "tfidf_vect = TfidfVectorizer(tokenizer=PREPROCESSING.process_stop, ngram_range=(1,1), max_features=1000)\n",
    "svm_classifier = svm.SVC(class_weight='balanced', kernel='linear', C=1)\n",
    "\n",
    "pipe = Pipeline(steps=[('vectorizer', tfidf_vect), ('svm', svm_classifier)])"
   ]
  },
  {
   "cell_type": "code",
   "execution_count": 92,
   "metadata": {
    "ExecuteTime": {
     "end_time": "2020-05-03T08:45:18.291687Z",
     "start_time": "2020-05-03T08:45:07.926029Z"
    }
   },
   "outputs": [],
   "source": [
    "best_lin = pipe.fit(df.BODY, df.SENTIMENT) "
   ]
  },
  {
   "cell_type": "code",
   "execution_count": 93,
   "metadata": {
    "ExecuteTime": {
     "end_time": "2020-05-03T08:45:30.684030Z",
     "start_time": "2020-05-03T08:45:21.041280Z"
    }
   },
   "outputs": [
    {
     "data": {
      "text/html": [
       "<div>\n",
       "<style scoped>\n",
       "    .dataframe tbody tr th:only-of-type {\n",
       "        vertical-align: middle;\n",
       "    }\n",
       "\n",
       "    .dataframe tbody tr th {\n",
       "        vertical-align: top;\n",
       "    }\n",
       "\n",
       "    .dataframe thead th {\n",
       "        text-align: right;\n",
       "    }\n",
       "</style>\n",
       "<table border=\"1\" class=\"dataframe\">\n",
       "  <thead>\n",
       "    <tr style=\"text-align: right;\">\n",
       "      <th>Predicted</th>\n",
       "      <th>-1.0</th>\n",
       "      <th>0.0</th>\n",
       "      <th>1.0</th>\n",
       "      <th>All</th>\n",
       "    </tr>\n",
       "    <tr>\n",
       "      <th>True</th>\n",
       "      <th></th>\n",
       "      <th></th>\n",
       "      <th></th>\n",
       "      <th></th>\n",
       "    </tr>\n",
       "  </thead>\n",
       "  <tbody>\n",
       "    <tr>\n",
       "      <th>-1.0</th>\n",
       "      <td>52</td>\n",
       "      <td>0</td>\n",
       "      <td>0</td>\n",
       "      <td>52</td>\n",
       "    </tr>\n",
       "    <tr>\n",
       "      <th>0.0</th>\n",
       "      <td>27</td>\n",
       "      <td>195</td>\n",
       "      <td>24</td>\n",
       "      <td>246</td>\n",
       "    </tr>\n",
       "    <tr>\n",
       "      <th>1.0</th>\n",
       "      <td>0</td>\n",
       "      <td>1</td>\n",
       "      <td>44</td>\n",
       "      <td>45</td>\n",
       "    </tr>\n",
       "    <tr>\n",
       "      <th>All</th>\n",
       "      <td>79</td>\n",
       "      <td>196</td>\n",
       "      <td>68</td>\n",
       "      <td>343</td>\n",
       "    </tr>\n",
       "  </tbody>\n",
       "</table>\n",
       "</div>"
      ],
      "text/plain": [
       "Predicted  -1.0  0.0  1.0  All\n",
       "True                          \n",
       "-1.0         52    0    0   52\n",
       "0.0          27  195   24  246\n",
       "1.0           0    1   44   45\n",
       "All          79  196   68  343"
      ]
     },
     "execution_count": 93,
     "metadata": {},
     "output_type": "execute_result"
    }
   ],
   "source": [
    "yhat_train_LIN = best_lin.predict(df.BODY)\n",
    "pd.crosstab(df.SENTIMENT, yhat_train_LIN, rownames=['True'], colnames=['Predicted'], margins=True)"
   ]
  },
  {
   "cell_type": "code",
   "execution_count": 94,
   "metadata": {
    "ExecuteTime": {
     "end_time": "2020-05-03T08:45:42.795084Z",
     "start_time": "2020-05-03T08:45:42.741811Z"
    }
   },
   "outputs": [],
   "source": [
    "df_unlab = data.loc[pd.isna(data.SENTIMENT)]"
   ]
  },
  {
   "cell_type": "code",
   "execution_count": 95,
   "metadata": {
    "ExecuteTime": {
     "end_time": "2020-05-03T08:46:45.174626Z",
     "start_time": "2020-05-03T08:45:44.376537Z"
    }
   },
   "outputs": [],
   "source": [
    "yhat_unlab_LIN = best_lin.predict(df_unlab.BODY)"
   ]
  },
  {
   "cell_type": "code",
   "execution_count": 96,
   "metadata": {
    "ExecuteTime": {
     "end_time": "2020-05-03T08:46:47.549639Z",
     "start_time": "2020-05-03T08:46:47.195421Z"
    }
   },
   "outputs": [
    {
     "data": {
      "text/plain": [
       "(array([181.,   0.,   0.,   0.,   0., 551.,   0.,   0.,   0., 169.]),\n",
       " array([-1. , -0.8, -0.6, -0.4, -0.2,  0. ,  0.2,  0.4,  0.6,  0.8,  1. ]),\n",
       " <a list of 10 Patch objects>)"
      ]
     },
     "execution_count": 96,
     "metadata": {},
     "output_type": "execute_result"
    },
    {
     "data": {
      "image/png": "[encoded data removed]",
      "text/plain": [
       "<Figure size 432x288 with 1 Axes>"
      ]
     },
     "metadata": {
      "needs_background": "light"
     },
     "output_type": "display_data"
    }
   ],
   "source": [
    "import matplotlib.pyplot as plt\n",
    "plt.hist(yhat_unlab_LIN)"
   ]
  },
  {
   "cell_type": "markdown",
   "metadata": {},
   "source": [
    "### Best RBF SVM"
   ]
  },
  {
   "cell_type": "markdown",
   "metadata": {},
   "source": [
    "As we can see in the results table the best rbf model is Word2Vec (slightly worse in test than TF-IDF but better in training), the best parameters are: \n",
    "- __kernel__ :            rbf\n",
    "- __C__ :                   100\n",
    "- __gamma__ : 0.625"
   ]
  },
  {
   "cell_type": "code",
   "execution_count": 30,
   "metadata": {
    "ExecuteTime": {
     "end_time": "2020-05-10T10:50:10.522606Z",
     "start_time": "2020-05-10T10:49:28.470106Z"
    }
   },
   "outputs": [],
   "source": [
    "X_lab = []\n",
    "for doc in df.BODY :\n",
    "    doc = nlp(doc)\n",
    "    X_lab.append(doc.vector)\n",
    "\n",
    "X_lab = pd.DataFrame(X_lab)"
   ]
  },
  {
   "cell_type": "code",
   "execution_count": 31,
   "metadata": {
    "ExecuteTime": {
     "end_time": "2020-05-10T10:50:10.751478Z",
     "start_time": "2020-05-10T10:50:10.698689Z"
    }
   },
   "outputs": [],
   "source": [
    "svm_classifier = svm.SVC(class_weight='balanced', kernel='rbf', C=100, gamma=0.625)\n",
    "best_rbf = svm_classifier.fit(X_lab, df.SENTIMENT) "
   ]
  },
  {
   "cell_type": "code",
   "execution_count": 32,
   "metadata": {
    "ExecuteTime": {
     "end_time": "2020-05-10T10:50:10.965207Z",
     "start_time": "2020-05-10T10:50:10.905859Z"
    }
   },
   "outputs": [
    {
     "data": {
      "text/html": [
       "<div>\n",
       "<style scoped>\n",
       "    .dataframe tbody tr th:only-of-type {\n",
       "        vertical-align: middle;\n",
       "    }\n",
       "\n",
       "    .dataframe tbody tr th {\n",
       "        vertical-align: top;\n",
       "    }\n",
       "\n",
       "    .dataframe thead th {\n",
       "        text-align: right;\n",
       "    }\n",
       "</style>\n",
       "<table border=\"1\" class=\"dataframe\">\n",
       "  <thead>\n",
       "    <tr style=\"text-align: right;\">\n",
       "      <th>Predicted</th>\n",
       "      <th>-1.0</th>\n",
       "      <th>0.0</th>\n",
       "      <th>1.0</th>\n",
       "      <th>All</th>\n",
       "    </tr>\n",
       "    <tr>\n",
       "      <th>True</th>\n",
       "      <th></th>\n",
       "      <th></th>\n",
       "      <th></th>\n",
       "      <th></th>\n",
       "    </tr>\n",
       "  </thead>\n",
       "  <tbody>\n",
       "    <tr>\n",
       "      <th>-1.0</th>\n",
       "      <td>52</td>\n",
       "      <td>0</td>\n",
       "      <td>0</td>\n",
       "      <td>52</td>\n",
       "    </tr>\n",
       "    <tr>\n",
       "      <th>0.0</th>\n",
       "      <td>1</td>\n",
       "      <td>241</td>\n",
       "      <td>4</td>\n",
       "      <td>246</td>\n",
       "    </tr>\n",
       "    <tr>\n",
       "      <th>1.0</th>\n",
       "      <td>0</td>\n",
       "      <td>0</td>\n",
       "      <td>45</td>\n",
       "      <td>45</td>\n",
       "    </tr>\n",
       "    <tr>\n",
       "      <th>All</th>\n",
       "      <td>53</td>\n",
       "      <td>241</td>\n",
       "      <td>49</td>\n",
       "      <td>343</td>\n",
       "    </tr>\n",
       "  </tbody>\n",
       "</table>\n",
       "</div>"
      ],
      "text/plain": [
       "Predicted  -1.0  0.0  1.0  All\n",
       "True                          \n",
       "-1.0         52    0    0   52\n",
       "0.0           1  241    4  246\n",
       "1.0           0    0   45   45\n",
       "All          53  241   49  343"
      ]
     },
     "execution_count": 32,
     "metadata": {},
     "output_type": "execute_result"
    }
   ],
   "source": [
    "yhat_train_RBF = best_rbf.predict(X_lab)\n",
    "pd.crosstab(df.SENTIMENT, yhat_train_RBF, rownames=['True'], colnames=['Predicted'], margins=True)"
   ]
  },
  {
   "cell_type": "code",
   "execution_count": 100,
   "metadata": {
    "ExecuteTime": {
     "end_time": "2020-05-03T09:00:35.084020Z",
     "start_time": "2020-05-03T08:51:45.002308Z"
    }
   },
   "outputs": [],
   "source": [
    "X_unlab = []\n",
    "for doc in df_unlab.BODY :\n",
    "    doc = nlp(doc)\n",
    "    X_unlab.append(doc.vector)\n",
    "    \n",
    "X_unlab = pd.DataFrame(X_unlab)"
   ]
  },
  {
   "cell_type": "code",
   "execution_count": 101,
   "metadata": {
    "ExecuteTime": {
     "end_time": "2020-05-03T09:00:42.104040Z",
     "start_time": "2020-05-03T09:00:42.096061Z"
    }
   },
   "outputs": [],
   "source": [
    "df_unlab = data.loc[pd.isna(data.SENTIMENT)]"
   ]
  },
  {
   "cell_type": "code",
   "execution_count": 102,
   "metadata": {
    "ExecuteTime": {
     "end_time": "2020-05-03T09:00:43.389472Z",
     "start_time": "2020-05-03T09:00:43.304604Z"
    }
   },
   "outputs": [],
   "source": [
    "yhat_unlab_RBF = best_rbf.predict(X_unlab)"
   ]
  },
  {
   "cell_type": "code",
   "execution_count": 103,
   "metadata": {
    "ExecuteTime": {
     "end_time": "2020-05-03T09:00:44.563668Z",
     "start_time": "2020-05-03T09:00:44.364979Z"
    }
   },
   "outputs": [
    {
     "data": {
      "text/plain": [
       "(array([101.,   0.,   0.,   0.,   0., 758.,   0.,   0.,   0.,  42.]),\n",
       " array([-1. , -0.8, -0.6, -0.4, -0.2,  0. ,  0.2,  0.4,  0.6,  0.8,  1. ]),\n",
       " <a list of 10 Patch objects>)"
      ]
     },
     "execution_count": 103,
     "metadata": {},
     "output_type": "execute_result"
    },
    {
     "data": {
      "image/png": "[encoded data removed]",
      "text/plain": [
       "<Figure size 432x288 with 1 Axes>"
      ]
     },
     "metadata": {
      "needs_background": "light"
     },
     "output_type": "display_data"
    }
   ],
   "source": [
    "plt.hist(yhat_unlab_RBF)"
   ]
  },
  {
   "cell_type": "markdown",
   "metadata": {},
   "source": [
    "###  Saving the predictions"
   ]
  },
  {
   "cell_type": "markdown",
   "metadata": {},
   "source": [
    "- Linear Model"
   ]
  },
  {
   "cell_type": "code",
   "execution_count": 104,
   "metadata": {
    "ExecuteTime": {
     "end_time": "2020-05-03T09:00:51.612120Z",
     "start_time": "2020-05-03T09:00:51.243494Z"
    }
   },
   "outputs": [
    {
     "name": "stderr",
     "output_type": "stream",
     "text": [
      "C:\\Users\\petro\\Anaconda3\\lib\\site-packages\\pandas\\core\\indexing.py:543: SettingWithCopyWarning: \n",
      "A value is trying to be set on a copy of a slice from a DataFrame.\n",
      "Try using .loc[row_indexer,col_indexer] = value instead\n",
      "\n",
      "See the caveats in the documentation: http://pandas.pydata.org/pandas-docs/stable/indexing.html#indexing-view-versus-copy\n",
      "  self.obj[item] = s\n"
     ]
    },
    {
     "data": {
      "text/html": [
       "<div>\n",
       "<style scoped>\n",
       "    .dataframe tbody tr th:only-of-type {\n",
       "        vertical-align: middle;\n",
       "    }\n",
       "\n",
       "    .dataframe tbody tr th {\n",
       "        vertical-align: top;\n",
       "    }\n",
       "\n",
       "    .dataframe thead th {\n",
       "        text-align: right;\n",
       "    }\n",
       "</style>\n",
       "<table border=\"1\" class=\"dataframe\">\n",
       "  <thead>\n",
       "    <tr style=\"text-align: right;\">\n",
       "      <th></th>\n",
       "      <th>ARTICLE</th>\n",
       "      <th>BODY</th>\n",
       "      <th>DATE</th>\n",
       "      <th>HEADLINE</th>\n",
       "      <th>SENTIMENT</th>\n",
       "    </tr>\n",
       "  </thead>\n",
       "  <tbody>\n",
       "    <tr>\n",
       "      <th>343</th>\n",
       "      <td>EMEA Calendar of Corporate Events - Week Ahead...</td>\n",
       "      <td>\\nCompanies marked * are still to be confirmed...</td>\n",
       "      <td>2013-01-31 13:39:00</td>\n",
       "      <td>EMEA Calendar of Corporate Events - Week Ahead</td>\n",
       "      <td>0.0</td>\n",
       "    </tr>\n",
       "    <tr>\n",
       "      <th>344</th>\n",
       "      <td>International Finance: Swiss Urge An Overhaul ...</td>\n",
       "      <td>The commission outlined a raft of measures, in...</td>\n",
       "      <td>2010-04-23 02:00:00</td>\n",
       "      <td>International Finance: Swiss Urge An Overhaul ...</td>\n",
       "      <td>0.0</td>\n",
       "    </tr>\n",
       "    <tr>\n",
       "      <th>345</th>\n",
       "      <td>UPDATE: Credit Suisse Targets CHF15.3 billion ...</td>\n",
       "      <td>--Swiss National Bank had singled out Credit S...</td>\n",
       "      <td>2012-07-18 08:23:00</td>\n",
       "      <td>UPDATE: Credit Suisse Targets CHF15.3 billion ...</td>\n",
       "      <td>0.0</td>\n",
       "    </tr>\n",
       "    <tr>\n",
       "      <th>346</th>\n",
       "      <td>WSJ UPDATE: Credit Suisse Pads Capital With CH...</td>\n",
       "      <td>These so-called \"CoCos\"--shorthand for conting...</td>\n",
       "      <td>2011-02-14 14:26:00</td>\n",
       "      <td>WSJ UPDATE: Credit Suisse Pads Capital With CH...</td>\n",
       "      <td>0.0</td>\n",
       "    </tr>\n",
       "    <tr>\n",
       "      <th>347</th>\n",
       "      <td>Credit Suisse sees first quarter profit dropCr...</td>\n",
       "      <td>Credit Suisse experienced a decline in the gro...</td>\n",
       "      <td>2011-04-27 07:58:53</td>\n",
       "      <td>Credit Suisse sees first quarter profit drop</td>\n",
       "      <td>0.0</td>\n",
       "    </tr>\n",
       "  </tbody>\n",
       "</table>\n",
       "</div>"
      ],
      "text/plain": [
       "                                               ARTICLE  \\\n",
       "343  EMEA Calendar of Corporate Events - Week Ahead...   \n",
       "344  International Finance: Swiss Urge An Overhaul ...   \n",
       "345  UPDATE: Credit Suisse Targets CHF15.3 billion ...   \n",
       "346  WSJ UPDATE: Credit Suisse Pads Capital With CH...   \n",
       "347  Credit Suisse sees first quarter profit dropCr...   \n",
       "\n",
       "                                                  BODY                DATE  \\\n",
       "343  \\nCompanies marked * are still to be confirmed... 2013-01-31 13:39:00   \n",
       "344  The commission outlined a raft of measures, in... 2010-04-23 02:00:00   \n",
       "345  --Swiss National Bank had singled out Credit S... 2012-07-18 08:23:00   \n",
       "346  These so-called \"CoCos\"--shorthand for conting... 2011-02-14 14:26:00   \n",
       "347  Credit Suisse experienced a decline in the gro... 2011-04-27 07:58:53   \n",
       "\n",
       "                                              HEADLINE  SENTIMENT  \n",
       "343     EMEA Calendar of Corporate Events - Week Ahead        0.0  \n",
       "344  International Finance: Swiss Urge An Overhaul ...        0.0  \n",
       "345  UPDATE: Credit Suisse Targets CHF15.3 billion ...        0.0  \n",
       "346  WSJ UPDATE: Credit Suisse Pads Capital With CH...        0.0  \n",
       "347       Credit Suisse sees first quarter profit drop        0.0  "
      ]
     },
     "execution_count": 104,
     "metadata": {},
     "output_type": "execute_result"
    }
   ],
   "source": [
    "df.at[:,'SENTIMENT'] = yhat_train_LIN\n",
    "df_unlab.at[:,'SENTIMENT'] = yhat_unlab_LIN\n",
    "df_unlab.head(5)"
   ]
  },
  {
   "cell_type": "code",
   "execution_count": 105,
   "metadata": {
    "ExecuteTime": {
     "end_time": "2020-05-03T09:00:53.592208Z",
     "start_time": "2020-05-03T09:00:53.586940Z"
    }
   },
   "outputs": [],
   "source": [
    "pred = pd.concat([df,df_unlab])"
   ]
  },
  {
   "cell_type": "code",
   "execution_count": 106,
   "metadata": {
    "ExecuteTime": {
     "end_time": "2020-05-03T09:00:54.919244Z",
     "start_time": "2020-05-03T09:00:54.597539Z"
    }
   },
   "outputs": [],
   "source": [
    "pred.to_json('prediction_LIN.json', orient='records')"
   ]
  },
  {
   "cell_type": "markdown",
   "metadata": {},
   "source": [
    "- RBF model"
   ]
  },
  {
   "cell_type": "code",
   "execution_count": 107,
   "metadata": {
    "ExecuteTime": {
     "end_time": "2020-05-03T09:00:56.137304Z",
     "start_time": "2020-05-03T09:00:55.946563Z"
    }
   },
   "outputs": [
    {
     "data": {
      "text/html": [
       "<div>\n",
       "<style scoped>\n",
       "    .dataframe tbody tr th:only-of-type {\n",
       "        vertical-align: middle;\n",
       "    }\n",
       "\n",
       "    .dataframe tbody tr th {\n",
       "        vertical-align: top;\n",
       "    }\n",
       "\n",
       "    .dataframe thead th {\n",
       "        text-align: right;\n",
       "    }\n",
       "</style>\n",
       "<table border=\"1\" class=\"dataframe\">\n",
       "  <thead>\n",
       "    <tr style=\"text-align: right;\">\n",
       "      <th></th>\n",
       "      <th>ARTICLE</th>\n",
       "      <th>BODY</th>\n",
       "      <th>DATE</th>\n",
       "      <th>HEADLINE</th>\n",
       "      <th>SENTIMENT</th>\n",
       "    </tr>\n",
       "  </thead>\n",
       "  <tbody>\n",
       "    <tr>\n",
       "      <th>343</th>\n",
       "      <td>EMEA Calendar of Corporate Events - Week Ahead...</td>\n",
       "      <td>\\nCompanies marked * are still to be confirmed...</td>\n",
       "      <td>2013-01-31 13:39:00</td>\n",
       "      <td>EMEA Calendar of Corporate Events - Week Ahead</td>\n",
       "      <td>0.0</td>\n",
       "    </tr>\n",
       "    <tr>\n",
       "      <th>344</th>\n",
       "      <td>International Finance: Swiss Urge An Overhaul ...</td>\n",
       "      <td>The commission outlined a raft of measures, in...</td>\n",
       "      <td>2010-04-23 02:00:00</td>\n",
       "      <td>International Finance: Swiss Urge An Overhaul ...</td>\n",
       "      <td>0.0</td>\n",
       "    </tr>\n",
       "    <tr>\n",
       "      <th>345</th>\n",
       "      <td>UPDATE: Credit Suisse Targets CHF15.3 billion ...</td>\n",
       "      <td>--Swiss National Bank had singled out Credit S...</td>\n",
       "      <td>2012-07-18 08:23:00</td>\n",
       "      <td>UPDATE: Credit Suisse Targets CHF15.3 billion ...</td>\n",
       "      <td>0.0</td>\n",
       "    </tr>\n",
       "    <tr>\n",
       "      <th>346</th>\n",
       "      <td>WSJ UPDATE: Credit Suisse Pads Capital With CH...</td>\n",
       "      <td>These so-called \"CoCos\"--shorthand for conting...</td>\n",
       "      <td>2011-02-14 14:26:00</td>\n",
       "      <td>WSJ UPDATE: Credit Suisse Pads Capital With CH...</td>\n",
       "      <td>0.0</td>\n",
       "    </tr>\n",
       "    <tr>\n",
       "      <th>347</th>\n",
       "      <td>Credit Suisse sees first quarter profit dropCr...</td>\n",
       "      <td>Credit Suisse experienced a decline in the gro...</td>\n",
       "      <td>2011-04-27 07:58:53</td>\n",
       "      <td>Credit Suisse sees first quarter profit drop</td>\n",
       "      <td>0.0</td>\n",
       "    </tr>\n",
       "  </tbody>\n",
       "</table>\n",
       "</div>"
      ],
      "text/plain": [
       "                                               ARTICLE  \\\n",
       "343  EMEA Calendar of Corporate Events - Week Ahead...   \n",
       "344  International Finance: Swiss Urge An Overhaul ...   \n",
       "345  UPDATE: Credit Suisse Targets CHF15.3 billion ...   \n",
       "346  WSJ UPDATE: Credit Suisse Pads Capital With CH...   \n",
       "347  Credit Suisse sees first quarter profit dropCr...   \n",
       "\n",
       "                                                  BODY                DATE  \\\n",
       "343  \\nCompanies marked * are still to be confirmed... 2013-01-31 13:39:00   \n",
       "344  The commission outlined a raft of measures, in... 2010-04-23 02:00:00   \n",
       "345  --Swiss National Bank had singled out Credit S... 2012-07-18 08:23:00   \n",
       "346  These so-called \"CoCos\"--shorthand for conting... 2011-02-14 14:26:00   \n",
       "347  Credit Suisse experienced a decline in the gro... 2011-04-27 07:58:53   \n",
       "\n",
       "                                              HEADLINE  SENTIMENT  \n",
       "343     EMEA Calendar of Corporate Events - Week Ahead        0.0  \n",
       "344  International Finance: Swiss Urge An Overhaul ...        0.0  \n",
       "345  UPDATE: Credit Suisse Targets CHF15.3 billion ...        0.0  \n",
       "346  WSJ UPDATE: Credit Suisse Pads Capital With CH...        0.0  \n",
       "347       Credit Suisse sees first quarter profit drop        0.0  "
      ]
     },
     "execution_count": 107,
     "metadata": {},
     "output_type": "execute_result"
    }
   ],
   "source": [
    "df.at[:,'SENTIMENT'] = yhat_train_RBF\n",
    "df_unlab.at[:,'SENTIMENT'] = yhat_unlab_RBF\n",
    "df_unlab.head(5)"
   ]
  },
  {
   "cell_type": "code",
   "execution_count": 108,
   "metadata": {
    "ExecuteTime": {
     "end_time": "2020-05-03T09:00:57.712316Z",
     "start_time": "2020-05-03T09:00:57.707060Z"
    }
   },
   "outputs": [],
   "source": [
    "pred = pd.concat([df,df_unlab])"
   ]
  },
  {
   "cell_type": "code",
   "execution_count": 109,
   "metadata": {
    "ExecuteTime": {
     "end_time": "2020-05-03T09:00:59.048988Z",
     "start_time": "2020-05-03T09:00:58.730613Z"
    }
   },
   "outputs": [],
   "source": [
    "pred.to_json('prediction_RBF.json', orient='records')"
   ]
  }
 ],
 "metadata": {
  "kernelspec": {
   "display_name": "Python 3",
   "language": "python",
   "name": "python3"
  },
  "language_info": {
   "codemirror_mode": {
    "name": "ipython",
    "version": 3
   },
   "file_extension": ".py",
   "mimetype": "text/x-python",
   "name": "python",
   "nbconvert_exporter": "python",
   "pygments_lexer": "ipython3",
   "version": "3.7.3"
  },
  "toc": {
   "base_numbering": 1,
   "nav_menu": {},
   "number_sections": true,
   "sideBar": true,
   "skip_h1_title": true,
   "title_cell": "Table of Contents",
   "title_sidebar": "Contents",
   "toc_cell": false,
   "toc_position": {},
   "toc_section_display": true,
   "toc_window_display": true
  },
  "varInspector": {
   "cols": {
    "lenName": 16,
    "lenType": 16,
    "lenVar": 40
   },
   "kernels_config": {
    "python": {
     "delete_cmd_postfix": "",
     "delete_cmd_prefix": "del ",
     "library": "var_list.py",
     "varRefreshCmd": "print(var_dic_list())"
    },
    "r": {
     "delete_cmd_postfix": ") ",
     "delete_cmd_prefix": "rm(",
     "library": "var_list.r",
     "varRefreshCmd": "cat(var_dic_list()) "
    }
   },
   "position": {
    "height": "513.222px",
    "left": "1336.67px",
    "right": "20px",
    "top": "120px",
    "width": "350px"
   },
   "types_to_exclude": [
    "module",
    "function",
    "builtin_function_or_method",
    "instance",
    "_Feature"
   ],
   "window_display": false
  }
 },
 "nbformat": 4,
 "nbformat_minor": 2
}

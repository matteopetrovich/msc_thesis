{
 "cells": [
  {
   "cell_type": "markdown",
   "metadata": {},
   "source": [
    "# Multiclass Semi Supervised SVM"
   ]
  },
  {
   "cell_type": "markdown",
   "metadata": {},
   "source": [
    "This implement QNS3VM by Giseke https://github.com/NekoYIQI/QNS3VM/blob/master/qns3vm.py\n",
    "\n",
    "for a 3 classes problem using a one vs rest approach\n",
    "\n",
    "In order for the model to work the class labels are as follows:\n",
    "\n",
    "- -1 : __unlabelled__\n",
    "- 0 : __neutral__\n",
    "- 1 : __positive__\n",
    "- 2 : __negative__"
   ]
  },
  {
   "cell_type": "code",
   "execution_count": 87,
   "metadata": {
    "ExecuteTime": {
     "end_time": "2020-05-10T06:28:49.858392Z",
     "start_time": "2020-05-10T06:28:49.840728Z"
    }
   },
   "outputs": [],
   "source": [
    "import pandas as pd\n",
    "import numpy as np\n",
    "import string\n",
    "import nltk\n",
    "import spacy\n",
    "import warnings\n",
    "warnings.filterwarnings(\"ignore\", category=PendingDeprecationWarning)\n",
    "warnings.filterwarnings(\"ignore\", category=DeprecationWarning)\n",
    "warnings.filterwarnings(\"ignore\", category=FutureWarning)  \n",
    "#warnings.filterwarnings(\"ignore\", category=UndefinedMetricWarning)"
   ]
  },
  {
   "cell_type": "code",
   "execution_count": 88,
   "metadata": {
    "ExecuteTime": {
     "end_time": "2020-05-10T06:28:51.453558Z",
     "start_time": "2020-05-10T06:28:51.448582Z"
    }
   },
   "outputs": [],
   "source": [
    "np.random.seed(123)"
   ]
  },
  {
   "cell_type": "code",
   "execution_count": 89,
   "metadata": {
    "ExecuteTime": {
     "end_time": "2020-05-10T06:28:53.206421Z",
     "start_time": "2020-05-10T06:28:52.912711Z"
    }
   },
   "outputs": [
    {
     "data": {
      "text/plain": [
       "ARTICLE      1244\n",
       "BODY         1244\n",
       "DATE         1244\n",
       "HEADLINE     1244\n",
       "SENTIMENT    1244\n",
       "dtype: int64"
      ]
     },
     "execution_count": 89,
     "metadata": {},
     "output_type": "execute_result"
    }
   ],
   "source": [
    "# df = pd.read_json('Data.json')\n",
    "df = pd.read_json('Data_rescored.json')\n",
    "df.loc[df.SENTIMENT==-0.5,'SENTIMENT']=-1\n",
    "df.loc[df.SENTIMENT==0.5,'SENTIMENT']=1\n",
    "df.loc[(df.SENTIMENT==-1), 'SENTIMENT'] = 2\n",
    "df.loc[pd.isna(df.SENTIMENT), 'SENTIMENT'] = -1\n",
    "df.count()"
   ]
  },
  {
   "cell_type": "code",
   "execution_count": 90,
   "metadata": {
    "ExecuteTime": {
     "end_time": "2020-05-10T06:28:54.778294Z",
     "start_time": "2020-05-10T06:28:54.771311Z"
    }
   },
   "outputs": [],
   "source": [
    "unlab = df[df.SENTIMENT==-1]\n",
    "lab = df[df.SENTIMENT!=-1]"
   ]
  },
  {
   "cell_type": "markdown",
   "metadata": {},
   "source": [
    "Split the dataset into training and testing"
   ]
  },
  {
   "cell_type": "code",
   "execution_count": 91,
   "metadata": {
    "ExecuteTime": {
     "end_time": "2020-05-10T06:28:57.557882Z",
     "start_time": "2020-05-10T06:28:57.523868Z"
    }
   },
   "outputs": [
    {
     "name": "stdout",
     "output_type": "stream",
     "text": [
      "Number of training Unlabelled instances 901\n",
      "Number of training Labelled instances 273\n",
      "Number of test Labelled instances 70\n"
     ]
    }
   ],
   "source": [
    "from sklearn.model_selection import train_test_split\n",
    "\n",
    "train, test = train_test_split(lab, test_size=0.202, stratify=lab.SENTIMENT, random_state=123)\n",
    "print('Number of training Unlabelled instances' + ' ' + str(unlab.BODY.count()) )\n",
    "print('Number of training Labelled instances' + ' ' + str(train.BODY.count()) )\n",
    "print('Number of test Labelled instances' + ' ' +  str(test.BODY.count()) )\n",
    "train = pd.concat([train, unlab])\n",
    "LU_ratio = train.BODY.count()/unlab.BODY.count() "
   ]
  },
  {
   "cell_type": "markdown",
   "metadata": {},
   "source": [
    "## Scoring Metrics"
   ]
  },
  {
   "cell_type": "code",
   "execution_count": 92,
   "metadata": {
    "ExecuteTime": {
     "end_time": "2020-05-10T06:29:00.800844Z",
     "start_time": "2020-05-10T06:29:00.795863Z"
    }
   },
   "outputs": [],
   "source": [
    "from preprocessing import PREPROCESSING\n",
    "from sklearn.metrics import balanced_accuracy_score\n",
    "from sklearn.metrics import classification_report\n",
    "from sklearn.metrics import accuracy_score, f1_score\n",
    "from sklearn.metrics import precision_score, recall_score"
   ]
  },
  {
   "cell_type": "code",
   "execution_count": 93,
   "metadata": {
    "ExecuteTime": {
     "end_time": "2020-05-10T06:29:02.400136Z",
     "start_time": "2020-05-10T06:29:02.392005Z"
    }
   },
   "outputs": [],
   "source": [
    "def scores(Y_test, yhat ):\n",
    "    acc = round(accuracy_score(Y_test, yhat) , 4)\n",
    "    f = round(f1_score(Y_test, yhat, pos_label=1, average=\"macro\", zero_division=0) , 4)\n",
    "    rec = round(recall_score(Y_test, yhat, pos_label=1, average=\"macro\", zero_division=0) , 4)\n",
    "    prec = round(precision_score(Y_test, yhat, pos_label=1, average=\"macro\", zero_division=0) , 4)\n",
    "    acc2 = round(balanced_accuracy_score(Y_test, yhat) , 4)\n",
    "    scoring_temp = np.array([[acc, f, rec, prec,acc2]])\n",
    "    cols = ['Accuracy', 'F-Score', 'Recall', 'Precision', 'Balanced Accuracy']\n",
    "    scoring= pd.DataFrame(scoring_temp, columns=cols)\n",
    "    return scoring"
   ]
  },
  {
   "cell_type": "markdown",
   "metadata": {},
   "source": [
    "## Function to fit the model"
   ]
  },
  {
   "cell_type": "markdown",
   "metadata": {},
   "source": [
    "Loading the model based on QNS3VM"
   ]
  },
  {
   "cell_type": "code",
   "execution_count": 94,
   "metadata": {
    "ExecuteTime": {
     "end_time": "2020-05-10T06:29:05.844094Z",
     "start_time": "2020-05-10T06:29:05.840040Z"
    }
   },
   "outputs": [],
   "source": [
    "from OnevsRest import ThreeClass_S3VM"
   ]
  },
  {
   "cell_type": "code",
   "execution_count": 95,
   "metadata": {
    "ExecuteTime": {
     "end_time": "2020-05-10T06:29:07.426463Z",
     "start_time": "2020-05-10T06:29:07.422469Z"
    }
   },
   "outputs": [],
   "source": [
    "from sklearn.model_selection import StratifiedKFold\n",
    "from scipy.sparse import vstack\n",
    "from scipy.sparse import csc_matrix"
   ]
  },
  {
   "cell_type": "code",
   "execution_count": 10,
   "metadata": {
    "ExecuteTime": {
     "end_time": "2020-05-07T20:41:01.175819Z",
     "start_time": "2020-05-07T20:41:01.169838Z"
    }
   },
   "outputs": [],
   "source": [
    "skf = StratifiedKFold(n_splits=3) "
   ]
  },
  {
   "cell_type": "code",
   "execution_count": 11,
   "metadata": {
    "ExecuteTime": {
     "end_time": "2020-05-07T20:41:01.189781Z",
     "start_time": "2020-05-07T20:41:01.177818Z"
    }
   },
   "outputs": [],
   "source": [
    "def gridCV_S3VM(X_lab, X_unlab, Y_lab, lam_range = None, lamU_range = None, sigma_range=None, Sparse = True, k='Linear' ):\n",
    "    \n",
    "        CROSS_VAL_RES = []\n",
    "        for lam in lam_range:\n",
    "            for lamU in lamU_range:\n",
    "\n",
    "                for train_index, test_index in skf.split(X_lab, Y_lab):\n",
    "                          # creating train and test among labelled instance\n",
    "                    X_train_l,  X_test = X_lab[train_index], X_lab[test_index]   \n",
    "                    y_train_l, y_test = Y_lab[train_index], Y_lab[test_index]\n",
    "\n",
    "                    if Sparse:\n",
    "                        X_train = vstack([X_train_l, X_unlab])   # adding the unlabelled instances\n",
    "                        X_train = csc_matrix(X_train)\n",
    "                        y_train = np.concatenate((y_train_l, Y_cross_unlab), axis=None)\n",
    "                    else:\n",
    "                        X_train = np.vstack([X_train_l, X_cross_unlab])   # adding the unlabelled instances\n",
    "                        y_train = np.concatenate((y_train_l, Y_cross_unlab), axis=None)\n",
    "\n",
    "                    if k=='RBF':\n",
    "                        assert sigma_range!=None\n",
    "                        for sigma in sigma_range:\n",
    "                            model = ThreeClass_S3VM(lamU=lamU, lam=lam, sigma=sigma,kernel='RBF')\n",
    "                            yhat = model.fit_predict(X_train, y_train, X_test)\n",
    "                            score = balanced_accuracy_score(y_test, yhat['Test Predictions'])\n",
    "                            CROSS_VAL_RES.append([lam, lamU, sigma, score])\n",
    "\n",
    "                    else:\n",
    "                        model= ThreeClass_S3VM(lamU=lamU, lam=lam)\n",
    "                        yhat = model.fit_predict(X_train, y_train, X_test)\n",
    "                        score = balanced_accuracy_score(y_test, yhat['Test Predictions'])\n",
    "                        CROSS_VAL_RES.append([lam, lamU, score])\n",
    "\n",
    "            if k=='RBF':           \n",
    "                final = pd.DataFrame(CROSS_VAL_RES, columns=['Lam', 'LamU', 'Sigma', 'Score'])\n",
    "            else:\n",
    "                final = pd.DataFrame(CROSS_VAL_RES, columns=['Lam', 'LamU', 'Score'])\n",
    "\n",
    "        return final"
   ]
  },
  {
   "cell_type": "code",
   "execution_count": 72,
   "metadata": {
    "ExecuteTime": {
     "end_time": "2020-05-09T08:53:26.455371Z",
     "start_time": "2020-05-09T08:53:26.450476Z"
    }
   },
   "outputs": [],
   "source": [
    "lams =[0.01, 0.1, 1]#, 10, 100]\n",
    "lamUs = [0.01, 0.1, 1]#, 10, 100]\n",
    "sigmas = [ 1 ]"
   ]
  },
  {
   "cell_type": "markdown",
   "metadata": {},
   "source": [
    "## BoW approach"
   ]
  },
  {
   "cell_type": "markdown",
   "metadata": {},
   "source": [
    "For BoW vectorization model we save the output as sparse matrix"
   ]
  },
  {
   "cell_type": "code",
   "execution_count": 13,
   "metadata": {
    "ExecuteTime": {
     "end_time": "2020-05-07T20:41:01.204742Z",
     "start_time": "2020-05-07T20:41:01.199753Z"
    }
   },
   "outputs": [],
   "source": [
    "from sklearn.feature_extraction.text import TfidfVectorizer\n",
    "from sklearn.feature_extraction.text import CountVectorizer"
   ]
  },
  {
   "cell_type": "markdown",
   "metadata": {},
   "source": [
    "### CountVectorizer"
   ]
  },
  {
   "cell_type": "code",
   "execution_count": 14,
   "metadata": {
    "ExecuteTime": {
     "end_time": "2020-05-07T20:41:47.780427Z",
     "start_time": "2020-05-07T20:41:01.206735Z"
    }
   },
   "outputs": [],
   "source": [
    "warnings.filterwarnings(\"ignore\", category=PendingDeprecationWarning)\n",
    "count_vect = CountVectorizer(tokenizer=PREPROCESSING.process_stop, min_df=0.01, ngram_range= (1,3), max_features=1000)\n",
    "X_train_cv = count_vect.fit_transform(train.ARTICLE)\n",
    "X_test_cv = count_vect.transform(test.ARTICLE)"
   ]
  },
  {
   "cell_type": "markdown",
   "metadata": {},
   "source": [
    "Adjusting the data format"
   ]
  },
  {
   "cell_type": "code",
   "execution_count": 15,
   "metadata": {
    "ExecuteTime": {
     "end_time": "2020-05-07T20:41:47.792607Z",
     "start_time": "2020-05-07T20:41:47.780427Z"
    }
   },
   "outputs": [],
   "source": [
    "X_train_cv = X_train_cv.tocsc()\n",
    "X_test_cv = X_test_cv.tocsc()\n",
    "Y_train = train.SENTIMENT.tolist()\n",
    "Y_test = np.array(test.SENTIMENT.values)\n",
    "Y_test = Y_test.astype('int')"
   ]
  },
  {
   "cell_type": "markdown",
   "metadata": {},
   "source": [
    "Selecting the model according to cross validation scores"
   ]
  },
  {
   "cell_type": "code",
   "execution_count": 16,
   "metadata": {
    "ExecuteTime": {
     "end_time": "2020-05-07T20:41:47.810586Z",
     "start_time": "2020-05-07T20:41:47.794960Z"
    }
   },
   "outputs": [],
   "source": [
    "Y_cross = np.array(Y_train) "
   ]
  },
  {
   "cell_type": "code",
   "execution_count": 17,
   "metadata": {
    "ExecuteTime": {
     "end_time": "2020-05-07T20:41:47.825016Z",
     "start_time": "2020-05-07T20:41:47.810586Z"
    }
   },
   "outputs": [],
   "source": [
    "# Adjusting the data for cross validation\n",
    "idx_lab = np.where(Y_cross!=-1)\n",
    "idx_unlab =  np.where(Y_cross==-1)\n",
    "\n",
    "Y_cross_lab = Y_cross[idx_lab]\n",
    "Y_cross_unlab = Y_cross[idx_unlab]\n",
    "\n",
    "X_cross_lab = X_train_cv[idx_lab]\n",
    "X_cross_unlab = X_train_cv[idx_unlab]"
   ]
  },
  {
   "cell_type": "code",
   "execution_count": 18,
   "metadata": {
    "ExecuteTime": {
     "end_time": "2020-05-07T21:50:18.297525Z",
     "start_time": "2020-05-07T20:41:47.825986Z"
    }
   },
   "outputs": [],
   "source": [
    "cv_CV = gridCV_S3VM(X_cross_lab, X_cross_unlab, Y_cross_lab, lam_range = lams, lamU_range = lamUs)"
   ]
  },
  {
   "cell_type": "code",
   "execution_count": 19,
   "metadata": {
    "ExecuteTime": {
     "end_time": "2020-05-07T21:50:18.329371Z",
     "start_time": "2020-05-07T21:50:18.297525Z"
    }
   },
   "outputs": [
    {
     "data": {
      "text/html": [
       "<div>\n",
       "<style scoped>\n",
       "    .dataframe tbody tr th:only-of-type {\n",
       "        vertical-align: middle;\n",
       "    }\n",
       "\n",
       "    .dataframe tbody tr th {\n",
       "        vertical-align: top;\n",
       "    }\n",
       "\n",
       "    .dataframe thead tr th {\n",
       "        text-align: left;\n",
       "    }\n",
       "</style>\n",
       "<table border=\"1\" class=\"dataframe\">\n",
       "  <thead>\n",
       "    <tr>\n",
       "      <th></th>\n",
       "      <th>Lam</th>\n",
       "      <th>LamU</th>\n",
       "      <th colspan=\"2\" halign=\"left\">Score</th>\n",
       "    </tr>\n",
       "    <tr>\n",
       "      <th></th>\n",
       "      <th></th>\n",
       "      <th></th>\n",
       "      <th>mean</th>\n",
       "      <th>std</th>\n",
       "    </tr>\n",
       "  </thead>\n",
       "  <tbody>\n",
       "    <tr>\n",
       "      <th>12</th>\n",
       "      <td>1.00</td>\n",
       "      <td>1.00</td>\n",
       "      <td>0.543401</td>\n",
       "      <td>0.065399</td>\n",
       "    </tr>\n",
       "    <tr>\n",
       "      <th>11</th>\n",
       "      <td>1.00</td>\n",
       "      <td>0.10</td>\n",
       "      <td>0.536049</td>\n",
       "      <td>0.018321</td>\n",
       "    </tr>\n",
       "    <tr>\n",
       "      <th>5</th>\n",
       "      <td>0.10</td>\n",
       "      <td>0.01</td>\n",
       "      <td>0.535866</td>\n",
       "      <td>0.011962</td>\n",
       "    </tr>\n",
       "    <tr>\n",
       "      <th>0</th>\n",
       "      <td>0.01</td>\n",
       "      <td>0.01</td>\n",
       "      <td>0.526126</td>\n",
       "      <td>0.031172</td>\n",
       "    </tr>\n",
       "    <tr>\n",
       "      <th>7</th>\n",
       "      <td>0.10</td>\n",
       "      <td>1.00</td>\n",
       "      <td>0.518774</td>\n",
       "      <td>0.046278</td>\n",
       "    </tr>\n",
       "    <tr>\n",
       "      <th>13</th>\n",
       "      <td>1.00</td>\n",
       "      <td>10.00</td>\n",
       "      <td>0.514091</td>\n",
       "      <td>0.046092</td>\n",
       "    </tr>\n",
       "    <tr>\n",
       "      <th>14</th>\n",
       "      <td>1.00</td>\n",
       "      <td>100.00</td>\n",
       "      <td>0.511807</td>\n",
       "      <td>0.063054</td>\n",
       "    </tr>\n",
       "    <tr>\n",
       "      <th>10</th>\n",
       "      <td>1.00</td>\n",
       "      <td>0.01</td>\n",
       "      <td>0.511655</td>\n",
       "      <td>0.033374</td>\n",
       "    </tr>\n",
       "    <tr>\n",
       "      <th>6</th>\n",
       "      <td>0.10</td>\n",
       "      <td>0.10</td>\n",
       "      <td>0.511120</td>\n",
       "      <td>0.037111</td>\n",
       "    </tr>\n",
       "    <tr>\n",
       "      <th>1</th>\n",
       "      <td>0.01</td>\n",
       "      <td>0.10</td>\n",
       "      <td>0.486219</td>\n",
       "      <td>0.041222</td>\n",
       "    </tr>\n",
       "  </tbody>\n",
       "</table>\n",
       "</div>"
      ],
      "text/plain": [
       "     Lam    LamU     Score          \n",
       "                      mean       std\n",
       "12  1.00    1.00  0.543401  0.065399\n",
       "11  1.00    0.10  0.536049  0.018321\n",
       "5   0.10    0.01  0.535866  0.011962\n",
       "0   0.01    0.01  0.526126  0.031172\n",
       "7   0.10    1.00  0.518774  0.046278\n",
       "13  1.00   10.00  0.514091  0.046092\n",
       "14  1.00  100.00  0.511807  0.063054\n",
       "10  1.00    0.01  0.511655  0.033374\n",
       "6   0.10    0.10  0.511120  0.037111\n",
       "1   0.01    0.10  0.486219  0.041222"
      ]
     },
     "execution_count": 19,
     "metadata": {},
     "output_type": "execute_result"
    }
   ],
   "source": [
    "cv_results = cv_CV.groupby(['Lam','LamU'], as_index=False).agg({'Score':['mean','std']})\n",
    "cv_ordered = cv_results.sort_values(by=[('Score', 'mean')], ascending=False)\n",
    "cv_ordered.head(10)"
   ]
  },
  {
   "cell_type": "markdown",
   "metadata": {
    "ExecuteTime": {
     "end_time": "2020-04-10T17:06:29.432279Z",
     "start_time": "2020-04-10T17:06:29.424102Z"
    }
   },
   "source": [
    "Applying the chosen model"
   ]
  },
  {
   "cell_type": "code",
   "execution_count": 20,
   "metadata": {
    "ExecuteTime": {
     "end_time": "2020-05-07T21:50:18.340344Z",
     "start_time": "2020-05-07T21:50:18.332363Z"
    }
   },
   "outputs": [],
   "source": [
    "lam_opt = cv_ordered.loc[0,'Lam']\n",
    "lamU_opt = cv_ordered.loc[0,'LamU']"
   ]
  },
  {
   "cell_type": "code",
   "execution_count": 21,
   "metadata": {
    "ExecuteTime": {
     "end_time": "2020-05-07T21:51:03.030064Z",
     "start_time": "2020-05-07T21:50:18.343333Z"
    }
   },
   "outputs": [],
   "source": [
    "model_cv = ThreeClass_S3VM(lamU=lamU_opt , lam=lam_opt)\n",
    "yhat_cv = model_cv.fit_predict(X_train_cv, Y_train, X_test_cv)"
   ]
  },
  {
   "cell_type": "markdown",
   "metadata": {},
   "source": [
    "Training and Testing Confusion Matrix"
   ]
  },
  {
   "cell_type": "code",
   "execution_count": 22,
   "metadata": {
    "ExecuteTime": {
     "end_time": "2020-05-07T21:51:03.109271Z",
     "start_time": "2020-05-07T21:51:03.030064Z"
    }
   },
   "outputs": [
    {
     "data": {
      "text/html": [
       "<div>\n",
       "<style scoped>\n",
       "    .dataframe tbody tr th:only-of-type {\n",
       "        vertical-align: middle;\n",
       "    }\n",
       "\n",
       "    .dataframe tbody tr th {\n",
       "        vertical-align: top;\n",
       "    }\n",
       "\n",
       "    .dataframe thead th {\n",
       "        text-align: right;\n",
       "    }\n",
       "</style>\n",
       "<table border=\"1\" class=\"dataframe\">\n",
       "  <thead>\n",
       "    <tr style=\"text-align: right;\">\n",
       "      <th>Predicted</th>\n",
       "      <th>0.0</th>\n",
       "      <th>1.0</th>\n",
       "      <th>2.0</th>\n",
       "      <th>All</th>\n",
       "    </tr>\n",
       "    <tr>\n",
       "      <th>True</th>\n",
       "      <th></th>\n",
       "      <th></th>\n",
       "      <th></th>\n",
       "      <th></th>\n",
       "    </tr>\n",
       "  </thead>\n",
       "  <tbody>\n",
       "    <tr>\n",
       "      <th>-1.0</th>\n",
       "      <td>449</td>\n",
       "      <td>186</td>\n",
       "      <td>266</td>\n",
       "      <td>901</td>\n",
       "    </tr>\n",
       "    <tr>\n",
       "      <th>0.0</th>\n",
       "      <td>193</td>\n",
       "      <td>3</td>\n",
       "      <td>0</td>\n",
       "      <td>196</td>\n",
       "    </tr>\n",
       "    <tr>\n",
       "      <th>1.0</th>\n",
       "      <td>5</td>\n",
       "      <td>30</td>\n",
       "      <td>1</td>\n",
       "      <td>36</td>\n",
       "    </tr>\n",
       "    <tr>\n",
       "      <th>2.0</th>\n",
       "      <td>0</td>\n",
       "      <td>0</td>\n",
       "      <td>41</td>\n",
       "      <td>41</td>\n",
       "    </tr>\n",
       "    <tr>\n",
       "      <th>All</th>\n",
       "      <td>647</td>\n",
       "      <td>219</td>\n",
       "      <td>308</td>\n",
       "      <td>1174</td>\n",
       "    </tr>\n",
       "  </tbody>\n",
       "</table>\n",
       "</div>"
      ],
      "text/plain": [
       "Predicted  0.0  1.0  2.0   All\n",
       "True                          \n",
       "-1.0       449  186  266   901\n",
       "0.0        193    3    0   196\n",
       "1.0          5   30    1    36\n",
       "2.0          0    0   41    41\n",
       "All        647  219  308  1174"
      ]
     },
     "execution_count": 22,
     "metadata": {},
     "output_type": "execute_result"
    }
   ],
   "source": [
    "pd.crosstab(np.array(Y_train), yhat_cv['Train Predictions'], rownames=['True'], colnames=['Predicted'], margins=True)"
   ]
  },
  {
   "cell_type": "code",
   "execution_count": 107,
   "metadata": {
    "ExecuteTime": {
     "end_time": "2020-05-10T06:53:55.480377Z",
     "start_time": "2020-05-10T06:53:55.425485Z"
    }
   },
   "outputs": [
    {
     "data": {
      "text/html": [
       "<div>\n",
       "<style scoped>\n",
       "    .dataframe tbody tr th:only-of-type {\n",
       "        vertical-align: middle;\n",
       "    }\n",
       "\n",
       "    .dataframe tbody tr th {\n",
       "        vertical-align: top;\n",
       "    }\n",
       "\n",
       "    .dataframe thead th {\n",
       "        text-align: right;\n",
       "    }\n",
       "</style>\n",
       "<table border=\"1\" class=\"dataframe\">\n",
       "  <thead>\n",
       "    <tr style=\"text-align: right;\">\n",
       "      <th>True</th>\n",
       "      <th>0</th>\n",
       "      <th>1</th>\n",
       "      <th>2</th>\n",
       "      <th>All</th>\n",
       "    </tr>\n",
       "    <tr>\n",
       "      <th>Predicted</th>\n",
       "      <th></th>\n",
       "      <th></th>\n",
       "      <th></th>\n",
       "      <th></th>\n",
       "    </tr>\n",
       "  </thead>\n",
       "  <tbody>\n",
       "    <tr>\n",
       "      <th>0.0</th>\n",
       "      <td>31</td>\n",
       "      <td>2</td>\n",
       "      <td>2</td>\n",
       "      <td>35</td>\n",
       "    </tr>\n",
       "    <tr>\n",
       "      <th>1.0</th>\n",
       "      <td>10</td>\n",
       "      <td>7</td>\n",
       "      <td>1</td>\n",
       "      <td>18</td>\n",
       "    </tr>\n",
       "    <tr>\n",
       "      <th>2.0</th>\n",
       "      <td>9</td>\n",
       "      <td>0</td>\n",
       "      <td>8</td>\n",
       "      <td>17</td>\n",
       "    </tr>\n",
       "    <tr>\n",
       "      <th>All</th>\n",
       "      <td>50</td>\n",
       "      <td>9</td>\n",
       "      <td>11</td>\n",
       "      <td>70</td>\n",
       "    </tr>\n",
       "  </tbody>\n",
       "</table>\n",
       "</div>"
      ],
      "text/plain": [
       "True        0  1   2  All\n",
       "Predicted                \n",
       "0.0        31  2   2   35\n",
       "1.0        10  7   1   18\n",
       "2.0         9  0   8   17\n",
       "All        50  9  11   70"
      ]
     },
     "execution_count": 107,
     "metadata": {},
     "output_type": "execute_result"
    }
   ],
   "source": [
    "pd.crosstab(Y_test, yhat_cv['Test Predictions'], rownames=['True'], colnames=['Predicted'], margins=True)"
   ]
  },
  {
   "cell_type": "code",
   "execution_count": 24,
   "metadata": {
    "ExecuteTime": {
     "end_time": "2020-05-07T21:51:03.196041Z",
     "start_time": "2020-05-07T21:51:03.174099Z"
    }
   },
   "outputs": [
    {
     "name": "stdout",
     "output_type": "stream",
     "text": [
      "              precision    recall  f1-score   support\n",
      "\n",
      "           0      0.886     0.620     0.729        50\n",
      "           1      0.389     0.778     0.519         9\n",
      "           2      0.471     0.727     0.571        11\n",
      "\n",
      "    accuracy                          0.657        70\n",
      "   macro avg      0.582     0.708     0.606        70\n",
      "weighted avg      0.757     0.657     0.677        70\n",
      "\n",
      "balanced accuracy 0.708\n"
     ]
    }
   ],
   "source": [
    "print(classification_report(Y_test, yhat_cv['Test Predictions'], digits = 3))\n",
    "print('balanced accuracy', round(balanced_accuracy_score(Y_test, yhat_cv['Test Predictions']), 3))"
   ]
  },
  {
   "cell_type": "markdown",
   "metadata": {},
   "source": [
    "### TF-IDF "
   ]
  },
  {
   "cell_type": "markdown",
   "metadata": {},
   "source": [
    "#### Linear S3VM"
   ]
  },
  {
   "cell_type": "code",
   "execution_count": 71,
   "metadata": {
    "ExecuteTime": {
     "end_time": "2020-05-09T08:17:11.187131Z",
     "start_time": "2020-05-09T08:15:04.984340Z"
    }
   },
   "outputs": [],
   "source": [
    "warnings.filterwarnings(\"ignore\", category=PendingDeprecationWarning)\n",
    "tfidf_vect = CountVectorizer(tokenizer=PREPROCESSING.process_stop, min_df=0.01, ngram_range= (1,3), max_features=1000)\n",
    "X_train_tfidf = tfidf_vect.fit_transform(train.BODY)\n",
    "X_test_tfidf = tfidf_vect.transform(test.BODY)"
   ]
  },
  {
   "cell_type": "code",
   "execution_count": 26,
   "metadata": {
    "ExecuteTime": {
     "end_time": "2020-05-07T21:51:51.803780Z",
     "start_time": "2020-05-07T21:51:51.791048Z"
    }
   },
   "outputs": [],
   "source": [
    "X_train_tfidf = X_train_tfidf.tocsc()\n",
    "X_test_tfidf = X_test_tfidf.tocsc()\n",
    "Y_train = train.SENTIMENT.tolist()\n",
    "Y_test = np.array(test.SENTIMENT.values)\n",
    "Y_test = Y_test.astype('int')"
   ]
  },
  {
   "cell_type": "code",
   "execution_count": 27,
   "metadata": {
    "ExecuteTime": {
     "end_time": "2020-05-07T21:51:51.816080Z",
     "start_time": "2020-05-07T21:51:51.805308Z"
    }
   },
   "outputs": [],
   "source": [
    "Y_cross = np.array(Y_train) "
   ]
  },
  {
   "cell_type": "code",
   "execution_count": 28,
   "metadata": {
    "ExecuteTime": {
     "end_time": "2020-05-07T21:51:51.837024Z",
     "start_time": "2020-05-07T21:51:51.820071Z"
    }
   },
   "outputs": [],
   "source": [
    "idx_lab = np.where(Y_cross!=-1)\n",
    "idx_unlab =  np.where(Y_cross==-1)\n",
    "\n",
    "Y_cross_lab = Y_cross[idx_lab]\n",
    "Y_cross_unlab = Y_cross[idx_unlab]\n",
    "\n",
    "X_cross_lab = X_train_tfidf[idx_lab]\n",
    "X_cross_unlab = X_train_tfidf[idx_unlab]"
   ]
  },
  {
   "cell_type": "code",
   "execution_count": 29,
   "metadata": {
    "ExecuteTime": {
     "end_time": "2020-05-07T22:59:33.226918Z",
     "start_time": "2020-05-07T21:51:51.839019Z"
    }
   },
   "outputs": [],
   "source": [
    "tfidf_CV_lin = gridCV_S3VM(X_cross_lab, X_cross_unlab, Y_cross_lab, lams, lamUs)"
   ]
  },
  {
   "cell_type": "code",
   "execution_count": 30,
   "metadata": {
    "ExecuteTime": {
     "end_time": "2020-05-07T22:59:33.265080Z",
     "start_time": "2020-05-07T22:59:33.226918Z"
    },
    "scrolled": true
   },
   "outputs": [
    {
     "data": {
      "text/html": [
       "<div>\n",
       "<style scoped>\n",
       "    .dataframe tbody tr th:only-of-type {\n",
       "        vertical-align: middle;\n",
       "    }\n",
       "\n",
       "    .dataframe tbody tr th {\n",
       "        vertical-align: top;\n",
       "    }\n",
       "\n",
       "    .dataframe thead tr th {\n",
       "        text-align: left;\n",
       "    }\n",
       "</style>\n",
       "<table border=\"1\" class=\"dataframe\">\n",
       "  <thead>\n",
       "    <tr>\n",
       "      <th></th>\n",
       "      <th>Lam</th>\n",
       "      <th>LamU</th>\n",
       "      <th colspan=\"2\" halign=\"left\">Score</th>\n",
       "    </tr>\n",
       "    <tr>\n",
       "      <th></th>\n",
       "      <th></th>\n",
       "      <th></th>\n",
       "      <th>mean</th>\n",
       "      <th>std</th>\n",
       "    </tr>\n",
       "  </thead>\n",
       "  <tbody>\n",
       "    <tr>\n",
       "      <th>11</th>\n",
       "      <td>1.00</td>\n",
       "      <td>0.10</td>\n",
       "      <td>0.532656</td>\n",
       "      <td>0.015495</td>\n",
       "    </tr>\n",
       "    <tr>\n",
       "      <th>12</th>\n",
       "      <td>1.00</td>\n",
       "      <td>1.00</td>\n",
       "      <td>0.527752</td>\n",
       "      <td>0.018957</td>\n",
       "    </tr>\n",
       "    <tr>\n",
       "      <th>5</th>\n",
       "      <td>0.10</td>\n",
       "      <td>0.01</td>\n",
       "      <td>0.526892</td>\n",
       "      <td>0.038703</td>\n",
       "    </tr>\n",
       "    <tr>\n",
       "      <th>7</th>\n",
       "      <td>0.10</td>\n",
       "      <td>1.00</td>\n",
       "      <td>0.519812</td>\n",
       "      <td>0.041878</td>\n",
       "    </tr>\n",
       "    <tr>\n",
       "      <th>14</th>\n",
       "      <td>1.00</td>\n",
       "      <td>100.00</td>\n",
       "      <td>0.519434</td>\n",
       "      <td>0.044848</td>\n",
       "    </tr>\n",
       "    <tr>\n",
       "      <th>10</th>\n",
       "      <td>1.00</td>\n",
       "      <td>0.01</td>\n",
       "      <td>0.517368</td>\n",
       "      <td>0.058064</td>\n",
       "    </tr>\n",
       "    <tr>\n",
       "      <th>13</th>\n",
       "      <td>1.00</td>\n",
       "      <td>10.00</td>\n",
       "      <td>0.515666</td>\n",
       "      <td>0.030889</td>\n",
       "    </tr>\n",
       "    <tr>\n",
       "      <th>6</th>\n",
       "      <td>0.10</td>\n",
       "      <td>0.10</td>\n",
       "      <td>0.510021</td>\n",
       "      <td>0.048970</td>\n",
       "    </tr>\n",
       "    <tr>\n",
       "      <th>2</th>\n",
       "      <td>0.01</td>\n",
       "      <td>1.00</td>\n",
       "      <td>0.496010</td>\n",
       "      <td>0.056752</td>\n",
       "    </tr>\n",
       "    <tr>\n",
       "      <th>9</th>\n",
       "      <td>0.10</td>\n",
       "      <td>100.00</td>\n",
       "      <td>0.489094</td>\n",
       "      <td>0.019634</td>\n",
       "    </tr>\n",
       "  </tbody>\n",
       "</table>\n",
       "</div>"
      ],
      "text/plain": [
       "     Lam    LamU     Score          \n",
       "                      mean       std\n",
       "11  1.00    0.10  0.532656  0.015495\n",
       "12  1.00    1.00  0.527752  0.018957\n",
       "5   0.10    0.01  0.526892  0.038703\n",
       "7   0.10    1.00  0.519812  0.041878\n",
       "14  1.00  100.00  0.519434  0.044848\n",
       "10  1.00    0.01  0.517368  0.058064\n",
       "13  1.00   10.00  0.515666  0.030889\n",
       "6   0.10    0.10  0.510021  0.048970\n",
       "2   0.01    1.00  0.496010  0.056752\n",
       "9   0.10  100.00  0.489094  0.019634"
      ]
     },
     "execution_count": 30,
     "metadata": {},
     "output_type": "execute_result"
    }
   ],
   "source": [
    "tfidf_results_lin = tfidf_CV_lin.groupby(['Lam','LamU'], as_index=False).agg({'Score':['mean','std']})\n",
    "tfidf_ordered_lin = tfidf_results_lin.sort_values(by=[('Score', 'mean')], ascending=False)\n",
    "tfidf_ordered_lin.head(10)"
   ]
  },
  {
   "cell_type": "code",
   "execution_count": 31,
   "metadata": {
    "ExecuteTime": {
     "end_time": "2020-05-07T22:59:33.277048Z",
     "start_time": "2020-05-07T22:59:33.268073Z"
    }
   },
   "outputs": [],
   "source": [
    "lam_opt_lin = tfidf_ordered_lin.loc[0,'Lam']\n",
    "lamU_opt_lin = tfidf_ordered_lin.loc[0,'LamU']"
   ]
  },
  {
   "cell_type": "code",
   "execution_count": 32,
   "metadata": {
    "ExecuteTime": {
     "end_time": "2020-05-07T23:00:16.159457Z",
     "start_time": "2020-05-07T22:59:33.279046Z"
    }
   },
   "outputs": [],
   "source": [
    "model_tfidf_lin = ThreeClass_S3VM(lamU=lamU_opt_lin , lam=lam_opt_lin)\n",
    "yhat_tfidf_lin = model_tfidf_lin.fit_predict(X_train_tfidf, Y_train, X_test_tfidf)"
   ]
  },
  {
   "cell_type": "markdown",
   "metadata": {},
   "source": [
    "Training and Testing Confusion Matrix"
   ]
  },
  {
   "cell_type": "code",
   "execution_count": 33,
   "metadata": {
    "ExecuteTime": {
     "end_time": "2020-05-07T23:00:16.225146Z",
     "start_time": "2020-05-07T23:00:16.159457Z"
    }
   },
   "outputs": [
    {
     "data": {
      "text/html": [
       "<div>\n",
       "<style scoped>\n",
       "    .dataframe tbody tr th:only-of-type {\n",
       "        vertical-align: middle;\n",
       "    }\n",
       "\n",
       "    .dataframe tbody tr th {\n",
       "        vertical-align: top;\n",
       "    }\n",
       "\n",
       "    .dataframe thead th {\n",
       "        text-align: right;\n",
       "    }\n",
       "</style>\n",
       "<table border=\"1\" class=\"dataframe\">\n",
       "  <thead>\n",
       "    <tr style=\"text-align: right;\">\n",
       "      <th>Predicted</th>\n",
       "      <th>0.0</th>\n",
       "      <th>1.0</th>\n",
       "      <th>2.0</th>\n",
       "      <th>All</th>\n",
       "    </tr>\n",
       "    <tr>\n",
       "      <th>True</th>\n",
       "      <th></th>\n",
       "      <th></th>\n",
       "      <th></th>\n",
       "      <th></th>\n",
       "    </tr>\n",
       "  </thead>\n",
       "  <tbody>\n",
       "    <tr>\n",
       "      <th>-1.0</th>\n",
       "      <td>467</td>\n",
       "      <td>172</td>\n",
       "      <td>262</td>\n",
       "      <td>901</td>\n",
       "    </tr>\n",
       "    <tr>\n",
       "      <th>0.0</th>\n",
       "      <td>192</td>\n",
       "      <td>1</td>\n",
       "      <td>3</td>\n",
       "      <td>196</td>\n",
       "    </tr>\n",
       "    <tr>\n",
       "      <th>1.0</th>\n",
       "      <td>3</td>\n",
       "      <td>33</td>\n",
       "      <td>0</td>\n",
       "      <td>36</td>\n",
       "    </tr>\n",
       "    <tr>\n",
       "      <th>2.0</th>\n",
       "      <td>1</td>\n",
       "      <td>0</td>\n",
       "      <td>40</td>\n",
       "      <td>41</td>\n",
       "    </tr>\n",
       "    <tr>\n",
       "      <th>All</th>\n",
       "      <td>663</td>\n",
       "      <td>206</td>\n",
       "      <td>305</td>\n",
       "      <td>1174</td>\n",
       "    </tr>\n",
       "  </tbody>\n",
       "</table>\n",
       "</div>"
      ],
      "text/plain": [
       "Predicted  0.0  1.0  2.0   All\n",
       "True                          \n",
       "-1.0       467  172  262   901\n",
       "0.0        192    1    3   196\n",
       "1.0          3   33    0    36\n",
       "2.0          1    0   40    41\n",
       "All        663  206  305  1174"
      ]
     },
     "execution_count": 33,
     "metadata": {},
     "output_type": "execute_result"
    }
   ],
   "source": [
    "pd.crosstab(np.array(Y_train), yhat_tfidf_lin['Train Predictions'], rownames=['True'], colnames=['Predicted'], margins=True)"
   ]
  },
  {
   "cell_type": "code",
   "execution_count": 106,
   "metadata": {
    "ExecuteTime": {
     "end_time": "2020-05-10T06:50:18.132915Z",
     "start_time": "2020-05-10T06:50:18.080492Z"
    }
   },
   "outputs": [
    {
     "data": {
      "text/html": [
       "<div>\n",
       "<style scoped>\n",
       "    .dataframe tbody tr th:only-of-type {\n",
       "        vertical-align: middle;\n",
       "    }\n",
       "\n",
       "    .dataframe tbody tr th {\n",
       "        vertical-align: top;\n",
       "    }\n",
       "\n",
       "    .dataframe thead th {\n",
       "        text-align: right;\n",
       "    }\n",
       "</style>\n",
       "<table border=\"1\" class=\"dataframe\">\n",
       "  <thead>\n",
       "    <tr style=\"text-align: right;\">\n",
       "      <th>True</th>\n",
       "      <th>0</th>\n",
       "      <th>1</th>\n",
       "      <th>2</th>\n",
       "      <th>All</th>\n",
       "    </tr>\n",
       "    <tr>\n",
       "      <th>Predicted</th>\n",
       "      <th></th>\n",
       "      <th></th>\n",
       "      <th></th>\n",
       "      <th></th>\n",
       "    </tr>\n",
       "  </thead>\n",
       "  <tbody>\n",
       "    <tr>\n",
       "      <th>0.0</th>\n",
       "      <td>36</td>\n",
       "      <td>3</td>\n",
       "      <td>2</td>\n",
       "      <td>41</td>\n",
       "    </tr>\n",
       "    <tr>\n",
       "      <th>1.0</th>\n",
       "      <td>6</td>\n",
       "      <td>6</td>\n",
       "      <td>3</td>\n",
       "      <td>15</td>\n",
       "    </tr>\n",
       "    <tr>\n",
       "      <th>2.0</th>\n",
       "      <td>8</td>\n",
       "      <td>0</td>\n",
       "      <td>6</td>\n",
       "      <td>14</td>\n",
       "    </tr>\n",
       "    <tr>\n",
       "      <th>All</th>\n",
       "      <td>50</td>\n",
       "      <td>9</td>\n",
       "      <td>11</td>\n",
       "      <td>70</td>\n",
       "    </tr>\n",
       "  </tbody>\n",
       "</table>\n",
       "</div>"
      ],
      "text/plain": [
       "True        0  1   2  All\n",
       "Predicted                \n",
       "0.0        36  3   2   41\n",
       "1.0         6  6   3   15\n",
       "2.0         8  0   6   14\n",
       "All        50  9  11   70"
      ]
     },
     "execution_count": 106,
     "metadata": {},
     "output_type": "execute_result"
    }
   ],
   "source": [
    "pd.crosstab(Y_test, yhat_tfidf_lin['Test Predictions'], rownames=['True'], colnames=['Predicted'], margins=True).T"
   ]
  },
  {
   "cell_type": "code",
   "execution_count": 108,
   "metadata": {
    "ExecuteTime": {
     "end_time": "2020-05-10T10:16:48.022695Z",
     "start_time": "2020-05-10T10:16:48.001281Z"
    }
   },
   "outputs": [
    {
     "name": "stdout",
     "output_type": "stream",
     "text": [
      "              precision    recall  f1-score   support\n",
      "\n",
      "           0      0.878     0.720     0.791        50\n",
      "           1      0.400     0.667     0.500         9\n",
      "           2      0.429     0.545     0.480        11\n",
      "\n",
      "    accuracy                          0.686        70\n",
      "   macro avg      0.569     0.644     0.590        70\n",
      "weighted avg      0.746     0.686     0.705        70\n",
      "\n",
      "balanced accuracy 0.644\n"
     ]
    }
   ],
   "source": [
    "print(classification_report(Y_test, yhat_tfidf_lin['Test Predictions'],zero_division=0, digits = 3))\n",
    "print('balanced accuracy', round(balanced_accuracy_score(Y_test, yhat_tfidf_lin['Test Predictions']),3))"
   ]
  },
  {
   "cell_type": "markdown",
   "metadata": {},
   "source": [
    "#### RBF S3VM"
   ]
  },
  {
   "cell_type": "code",
   "execution_count": 97,
   "metadata": {
    "ExecuteTime": {
     "end_time": "2020-05-10T06:31:19.184251Z",
     "start_time": "2020-05-10T06:31:03.722695Z"
    }
   },
   "outputs": [],
   "source": [
    "tfidf_vect = TfidfVectorizer(tokenizer=PREPROCESSING.process_lemmatizer, ngram_range=(1,2), min_df=0.01, max_features=500)\n",
    "X_train_tfidf = tfidf_vect.fit_transform(train.ARTICLE)\n",
    "X_test_tfidf = tfidf_vect.transform(test.ARTICLE)"
   ]
  },
  {
   "cell_type": "code",
   "execution_count": 98,
   "metadata": {
    "ExecuteTime": {
     "end_time": "2020-05-10T06:31:21.156341Z",
     "start_time": "2020-05-10T06:31:21.145373Z"
    }
   },
   "outputs": [],
   "source": [
    "X_train_tfidf = X_train_tfidf.toarray()\n",
    "X_test_tfidf = X_test_tfidf.toarray()\n",
    "Y_train = train.SENTIMENT.tolist()\n",
    "Y_test = np.array(test.SENTIMENT.values)\n",
    "Y_test = Y_test.astype('int')"
   ]
  },
  {
   "cell_type": "code",
   "execution_count": 99,
   "metadata": {
    "ExecuteTime": {
     "end_time": "2020-05-10T06:31:23.177709Z",
     "start_time": "2020-05-10T06:31:23.173686Z"
    }
   },
   "outputs": [],
   "source": [
    "Y_cross = np.array(Y_train) "
   ]
  },
  {
   "cell_type": "code",
   "execution_count": 100,
   "metadata": {
    "ExecuteTime": {
     "end_time": "2020-05-10T06:31:25.358544Z",
     "start_time": "2020-05-10T06:31:25.344566Z"
    }
   },
   "outputs": [],
   "source": [
    "idx_lab = np.where(Y_cross!=-1)\n",
    "idx_unlab =  np.where(Y_cross==-1)\n",
    "\n",
    "Y_cross_lab = Y_cross[idx_lab]\n",
    "Y_cross_unlab = Y_cross[idx_unlab]\n",
    "\n",
    "X_cross_lab = X_train_tfidf[idx_lab]\n",
    "X_cross_unlab = X_train_tfidf[idx_unlab]"
   ]
  },
  {
   "cell_type": "code",
   "execution_count": 101,
   "metadata": {
    "ExecuteTime": {
     "end_time": "2020-05-10T06:45:30.106651Z",
     "start_time": "2020-05-10T06:31:27.283732Z"
    }
   },
   "outputs": [],
   "source": [
    "tfidf_CV_rbf = gridCV_S3VM(X_cross_lab, X_cross_unlab, Y_cross_lab, lams, lamUs, sigmas, k='RBF', Sparse=False)"
   ]
  },
  {
   "cell_type": "code",
   "execution_count": 102,
   "metadata": {
    "ExecuteTime": {
     "end_time": "2020-05-10T06:46:07.497912Z",
     "start_time": "2020-05-10T06:46:07.468468Z"
    }
   },
   "outputs": [
    {
     "data": {
      "text/html": [
       "<div>\n",
       "<style scoped>\n",
       "    .dataframe tbody tr th:only-of-type {\n",
       "        vertical-align: middle;\n",
       "    }\n",
       "\n",
       "    .dataframe tbody tr th {\n",
       "        vertical-align: top;\n",
       "    }\n",
       "\n",
       "    .dataframe thead tr th {\n",
       "        text-align: left;\n",
       "    }\n",
       "</style>\n",
       "<table border=\"1\" class=\"dataframe\">\n",
       "  <thead>\n",
       "    <tr>\n",
       "      <th></th>\n",
       "      <th>Lam</th>\n",
       "      <th>LamU</th>\n",
       "      <th>Sigma</th>\n",
       "      <th colspan=\"2\" halign=\"left\">Score</th>\n",
       "    </tr>\n",
       "    <tr>\n",
       "      <th></th>\n",
       "      <th></th>\n",
       "      <th></th>\n",
       "      <th></th>\n",
       "      <th>mean</th>\n",
       "      <th>std</th>\n",
       "    </tr>\n",
       "  </thead>\n",
       "  <tbody>\n",
       "    <tr>\n",
       "      <th>2</th>\n",
       "      <td>0.01</td>\n",
       "      <td>1.00</td>\n",
       "      <td>1</td>\n",
       "      <td>0.339560</td>\n",
       "      <td>0.010786</td>\n",
       "    </tr>\n",
       "    <tr>\n",
       "      <th>0</th>\n",
       "      <td>0.01</td>\n",
       "      <td>0.01</td>\n",
       "      <td>1</td>\n",
       "      <td>0.333333</td>\n",
       "      <td>0.000000</td>\n",
       "    </tr>\n",
       "    <tr>\n",
       "      <th>1</th>\n",
       "      <td>0.01</td>\n",
       "      <td>0.10</td>\n",
       "      <td>1</td>\n",
       "      <td>0.333333</td>\n",
       "      <td>0.000000</td>\n",
       "    </tr>\n",
       "    <tr>\n",
       "      <th>3</th>\n",
       "      <td>0.10</td>\n",
       "      <td>0.01</td>\n",
       "      <td>1</td>\n",
       "      <td>0.333333</td>\n",
       "      <td>0.000000</td>\n",
       "    </tr>\n",
       "    <tr>\n",
       "      <th>4</th>\n",
       "      <td>0.10</td>\n",
       "      <td>0.10</td>\n",
       "      <td>1</td>\n",
       "      <td>0.333333</td>\n",
       "      <td>0.000000</td>\n",
       "    </tr>\n",
       "    <tr>\n",
       "      <th>5</th>\n",
       "      <td>0.10</td>\n",
       "      <td>1.00</td>\n",
       "      <td>1</td>\n",
       "      <td>0.333333</td>\n",
       "      <td>0.000000</td>\n",
       "    </tr>\n",
       "    <tr>\n",
       "      <th>6</th>\n",
       "      <td>1.00</td>\n",
       "      <td>0.01</td>\n",
       "      <td>1</td>\n",
       "      <td>0.333333</td>\n",
       "      <td>0.000000</td>\n",
       "    </tr>\n",
       "    <tr>\n",
       "      <th>7</th>\n",
       "      <td>1.00</td>\n",
       "      <td>0.10</td>\n",
       "      <td>1</td>\n",
       "      <td>0.333333</td>\n",
       "      <td>0.000000</td>\n",
       "    </tr>\n",
       "    <tr>\n",
       "      <th>8</th>\n",
       "      <td>1.00</td>\n",
       "      <td>1.00</td>\n",
       "      <td>1</td>\n",
       "      <td>0.333333</td>\n",
       "      <td>0.000000</td>\n",
       "    </tr>\n",
       "  </tbody>\n",
       "</table>\n",
       "</div>"
      ],
      "text/plain": [
       "    Lam  LamU Sigma     Score          \n",
       "                         mean       std\n",
       "2  0.01  1.00     1  0.339560  0.010786\n",
       "0  0.01  0.01     1  0.333333  0.000000\n",
       "1  0.01  0.10     1  0.333333  0.000000\n",
       "3  0.10  0.01     1  0.333333  0.000000\n",
       "4  0.10  0.10     1  0.333333  0.000000\n",
       "5  0.10  1.00     1  0.333333  0.000000\n",
       "6  1.00  0.01     1  0.333333  0.000000\n",
       "7  1.00  0.10     1  0.333333  0.000000\n",
       "8  1.00  1.00     1  0.333333  0.000000"
      ]
     },
     "execution_count": 102,
     "metadata": {},
     "output_type": "execute_result"
    }
   ],
   "source": [
    "tfidf_results_rbf = tfidf_CV_rbf.groupby(['Lam','LamU', 'Sigma'], as_index=False).agg({'Score':['mean','std']})\n",
    "tfidf_ordered_rbf = tfidf_results_rbf.sort_values(by=[('Score', 'mean')], ascending=False)\n",
    "tfidf_ordered_rbf.head(10)"
   ]
  },
  {
   "cell_type": "code",
   "execution_count": 103,
   "metadata": {
    "ExecuteTime": {
     "end_time": "2020-05-10T06:46:10.019509Z",
     "start_time": "2020-05-10T06:46:10.013521Z"
    }
   },
   "outputs": [],
   "source": [
    "lam_opt_rbf = tfidf_ordered_rbf.loc[0,'Lam']\n",
    "lamU_opt_rbf = tfidf_ordered_rbf.loc[0,'LamU']\n",
    "sigma_opt_rbf = tfidf_ordered_rbf.loc[0,'Sigma']"
   ]
  },
  {
   "cell_type": "code",
   "execution_count": 104,
   "metadata": {
    "ExecuteTime": {
     "end_time": "2020-05-10T06:46:34.272933Z",
     "start_time": "2020-05-10T06:46:11.975682Z"
    }
   },
   "outputs": [],
   "source": [
    "model_tfidf_rbf = ThreeClass_S3VM(lamU=lamU_opt_rbf , lam=lam_opt_rbf, sigma= sigma_opt_rbf)\n",
    "yhat_tfidf_rbf = model_tfidf_rbf.fit_predict(X_train_tfidf, Y_train, X_test_tfidf)"
   ]
  },
  {
   "cell_type": "code",
   "execution_count": 44,
   "metadata": {
    "ExecuteTime": {
     "end_time": "2020-05-08T00:19:00.143035Z",
     "start_time": "2020-05-08T00:19:00.029724Z"
    }
   },
   "outputs": [
    {
     "data": {
      "text/html": [
       "<div>\n",
       "<style scoped>\n",
       "    .dataframe tbody tr th:only-of-type {\n",
       "        vertical-align: middle;\n",
       "    }\n",
       "\n",
       "    .dataframe tbody tr th {\n",
       "        vertical-align: top;\n",
       "    }\n",
       "\n",
       "    .dataframe thead th {\n",
       "        text-align: right;\n",
       "    }\n",
       "</style>\n",
       "<table border=\"1\" class=\"dataframe\">\n",
       "  <thead>\n",
       "    <tr style=\"text-align: right;\">\n",
       "      <th>Predicted</th>\n",
       "      <th>0.0</th>\n",
       "      <th>All</th>\n",
       "    </tr>\n",
       "    <tr>\n",
       "      <th>True</th>\n",
       "      <th></th>\n",
       "      <th></th>\n",
       "    </tr>\n",
       "  </thead>\n",
       "  <tbody>\n",
       "    <tr>\n",
       "      <th>-1.0</th>\n",
       "      <td>901</td>\n",
       "      <td>901</td>\n",
       "    </tr>\n",
       "    <tr>\n",
       "      <th>0.0</th>\n",
       "      <td>196</td>\n",
       "      <td>196</td>\n",
       "    </tr>\n",
       "    <tr>\n",
       "      <th>1.0</th>\n",
       "      <td>36</td>\n",
       "      <td>36</td>\n",
       "    </tr>\n",
       "    <tr>\n",
       "      <th>2.0</th>\n",
       "      <td>41</td>\n",
       "      <td>41</td>\n",
       "    </tr>\n",
       "    <tr>\n",
       "      <th>All</th>\n",
       "      <td>1174</td>\n",
       "      <td>1174</td>\n",
       "    </tr>\n",
       "  </tbody>\n",
       "</table>\n",
       "</div>"
      ],
      "text/plain": [
       "Predicted   0.0   All\n",
       "True                 \n",
       "-1.0        901   901\n",
       "0.0         196   196\n",
       "1.0          36    36\n",
       "2.0          41    41\n",
       "All        1174  1174"
      ]
     },
     "execution_count": 44,
     "metadata": {},
     "output_type": "execute_result"
    }
   ],
   "source": [
    "pd.crosstab(np.array(Y_train), yhat_tfidf_rbf['Train Predictions'], rownames=['True'], colnames=['Predicted'], margins=True)"
   ]
  },
  {
   "cell_type": "code",
   "execution_count": 45,
   "metadata": {
    "ExecuteTime": {
     "end_time": "2020-05-08T00:19:00.298619Z",
     "start_time": "2020-05-08T00:19:00.147024Z"
    }
   },
   "outputs": [
    {
     "data": {
      "text/html": [
       "<div>\n",
       "<style scoped>\n",
       "    .dataframe tbody tr th:only-of-type {\n",
       "        vertical-align: middle;\n",
       "    }\n",
       "\n",
       "    .dataframe tbody tr th {\n",
       "        vertical-align: top;\n",
       "    }\n",
       "\n",
       "    .dataframe thead th {\n",
       "        text-align: right;\n",
       "    }\n",
       "</style>\n",
       "<table border=\"1\" class=\"dataframe\">\n",
       "  <thead>\n",
       "    <tr style=\"text-align: right;\">\n",
       "      <th>Predicted</th>\n",
       "      <th>0.0</th>\n",
       "      <th>All</th>\n",
       "    </tr>\n",
       "    <tr>\n",
       "      <th>True</th>\n",
       "      <th></th>\n",
       "      <th></th>\n",
       "    </tr>\n",
       "  </thead>\n",
       "  <tbody>\n",
       "    <tr>\n",
       "      <th>0</th>\n",
       "      <td>50</td>\n",
       "      <td>50</td>\n",
       "    </tr>\n",
       "    <tr>\n",
       "      <th>1</th>\n",
       "      <td>9</td>\n",
       "      <td>9</td>\n",
       "    </tr>\n",
       "    <tr>\n",
       "      <th>2</th>\n",
       "      <td>11</td>\n",
       "      <td>11</td>\n",
       "    </tr>\n",
       "    <tr>\n",
       "      <th>All</th>\n",
       "      <td>70</td>\n",
       "      <td>70</td>\n",
       "    </tr>\n",
       "  </tbody>\n",
       "</table>\n",
       "</div>"
      ],
      "text/plain": [
       "Predicted  0.0  All\n",
       "True               \n",
       "0           50   50\n",
       "1            9    9\n",
       "2           11   11\n",
       "All         70   70"
      ]
     },
     "execution_count": 45,
     "metadata": {},
     "output_type": "execute_result"
    }
   ],
   "source": [
    "pd.crosstab(Y_test, yhat_tfidf_rbf['Test Predictions'], rownames=['True'], colnames=['Predicted'], margins=True)"
   ]
  },
  {
   "cell_type": "code",
   "execution_count": 46,
   "metadata": {
    "ExecuteTime": {
     "end_time": "2020-05-08T00:19:00.339508Z",
     "start_time": "2020-05-08T00:19:00.304603Z"
    }
   },
   "outputs": [
    {
     "name": "stdout",
     "output_type": "stream",
     "text": [
      "              precision    recall  f1-score   support\n",
      "\n",
      "           0       0.71      1.00      0.83        50\n",
      "           1       0.00      0.00      0.00         9\n",
      "           2       0.00      0.00      0.00        11\n",
      "\n",
      "    accuracy                           0.71        70\n",
      "   macro avg       0.24      0.33      0.28        70\n",
      "weighted avg       0.51      0.71      0.60        70\n",
      "\n",
      "balanced accuracy 0.333\n"
     ]
    }
   ],
   "source": [
    "print(classification_report(Y_test, yhat_tfidf_rbf['Test Predictions'],zero_division=0))\n",
    "print('balanced accuracy', round(balanced_accuracy_score(Y_test, yhat_tfidf_rbf['Test Predictions']),3))"
   ]
  },
  {
   "cell_type": "markdown",
   "metadata": {},
   "source": [
    "## Embeddings"
   ]
  },
  {
   "cell_type": "markdown",
   "metadata": {},
   "source": [
    "### Word2Vec"
   ]
  },
  {
   "cell_type": "code",
   "execution_count": 47,
   "metadata": {
    "ExecuteTime": {
     "end_time": "2020-05-08T00:19:11.442769Z",
     "start_time": "2020-05-08T00:19:00.345494Z"
    }
   },
   "outputs": [],
   "source": [
    "nlp = spacy.load(\"en_core_web_lg\")"
   ]
  },
  {
   "cell_type": "code",
   "execution_count": 48,
   "metadata": {
    "ExecuteTime": {
     "end_time": "2020-05-08T00:27:58.606054Z",
     "start_time": "2020-05-08T00:19:11.442769Z"
    }
   },
   "outputs": [],
   "source": [
    "X_train_w2v = []\n",
    "for doc in train.BODY:\n",
    "    doc = nlp(doc)\n",
    "    X_train_w2v.append(doc.vector)\n",
    "\n",
    "#pd.DataFrame(X_train_w2v).head()"
   ]
  },
  {
   "cell_type": "code",
   "execution_count": 49,
   "metadata": {
    "ExecuteTime": {
     "end_time": "2020-05-08T00:28:15.197243Z",
     "start_time": "2020-05-08T00:27:58.606054Z"
    }
   },
   "outputs": [],
   "source": [
    "X_test_w2v = []\n",
    "for doc in test.BODY :\n",
    "    doc = nlp(doc)\n",
    "    X_test_w2v.append(doc.vector)"
   ]
  },
  {
   "cell_type": "code",
   "execution_count": 50,
   "metadata": {
    "ExecuteTime": {
     "end_time": "2020-05-08T00:28:15.232943Z",
     "start_time": "2020-05-08T00:28:15.197243Z"
    }
   },
   "outputs": [],
   "source": [
    "X_train_w2v = np.vstack(X_train_w2v)\n",
    "X_test_w2v = np.vstack(X_test_w2v)\n",
    "Y_train = train.SENTIMENT.tolist()\n",
    "Y_test = np.array(test.SENTIMENT.values)\n",
    "Y_test = Y_test.astype('int')"
   ]
  },
  {
   "cell_type": "code",
   "execution_count": 51,
   "metadata": {
    "ExecuteTime": {
     "end_time": "2020-05-08T00:28:15.243786Z",
     "start_time": "2020-05-08T00:28:15.232943Z"
    }
   },
   "outputs": [],
   "source": [
    "Y_cross = np.array(Y_train) "
   ]
  },
  {
   "cell_type": "code",
   "execution_count": 52,
   "metadata": {
    "ExecuteTime": {
     "end_time": "2020-05-08T00:28:15.261738Z",
     "start_time": "2020-05-08T00:28:15.247777Z"
    }
   },
   "outputs": [],
   "source": [
    "idx_lab = np.where(Y_cross!=-1)\n",
    "idx_unlab =  np.where(Y_cross==-1)\n",
    "\n",
    "Y_cross_lab = Y_cross[idx_lab]\n",
    "Y_cross_unlab = Y_cross[idx_unlab]\n",
    "\n",
    "X_cross_lab = X_train_w2v[idx_lab]\n",
    "X_cross_unlab = X_train_w2v[idx_unlab]"
   ]
  },
  {
   "cell_type": "markdown",
   "metadata": {},
   "source": [
    "#### Linear S3VM"
   ]
  },
  {
   "cell_type": "code",
   "execution_count": 53,
   "metadata": {
    "ExecuteTime": {
     "end_time": "2020-05-08T01:07:12.838913Z",
     "start_time": "2020-05-08T00:28:15.265728Z"
    }
   },
   "outputs": [],
   "source": [
    "w2v_CV_lin = gridCV_S3VM(X_cross_lab, X_cross_unlab, Y_cross_lab, lams, lamUs,  Sparse=False)"
   ]
  },
  {
   "cell_type": "code",
   "execution_count": 54,
   "metadata": {
    "ExecuteTime": {
     "end_time": "2020-05-08T01:07:12.895686Z",
     "start_time": "2020-05-08T01:07:12.838913Z"
    }
   },
   "outputs": [
    {
     "data": {
      "text/html": [
       "<div>\n",
       "<style scoped>\n",
       "    .dataframe tbody tr th:only-of-type {\n",
       "        vertical-align: middle;\n",
       "    }\n",
       "\n",
       "    .dataframe tbody tr th {\n",
       "        vertical-align: top;\n",
       "    }\n",
       "\n",
       "    .dataframe thead tr th {\n",
       "        text-align: left;\n",
       "    }\n",
       "</style>\n",
       "<table border=\"1\" class=\"dataframe\">\n",
       "  <thead>\n",
       "    <tr>\n",
       "      <th></th>\n",
       "      <th>Lam</th>\n",
       "      <th>LamU</th>\n",
       "      <th colspan=\"2\" halign=\"left\">Score</th>\n",
       "    </tr>\n",
       "    <tr>\n",
       "      <th></th>\n",
       "      <th></th>\n",
       "      <th></th>\n",
       "      <th>mean</th>\n",
       "      <th>std</th>\n",
       "    </tr>\n",
       "  </thead>\n",
       "  <tbody>\n",
       "    <tr>\n",
       "      <th>1</th>\n",
       "      <td>0.01</td>\n",
       "      <td>0.10</td>\n",
       "      <td>0.339560</td>\n",
       "      <td>0.010786</td>\n",
       "    </tr>\n",
       "    <tr>\n",
       "      <th>2</th>\n",
       "      <td>0.01</td>\n",
       "      <td>1.00</td>\n",
       "      <td>0.334458</td>\n",
       "      <td>0.015426</td>\n",
       "    </tr>\n",
       "    <tr>\n",
       "      <th>0</th>\n",
       "      <td>0.01</td>\n",
       "      <td>0.01</td>\n",
       "      <td>0.333333</td>\n",
       "      <td>0.000000</td>\n",
       "    </tr>\n",
       "    <tr>\n",
       "      <th>13</th>\n",
       "      <td>1.00</td>\n",
       "      <td>10.00</td>\n",
       "      <td>0.333333</td>\n",
       "      <td>0.000000</td>\n",
       "    </tr>\n",
       "    <tr>\n",
       "      <th>23</th>\n",
       "      <td>100.00</td>\n",
       "      <td>10.00</td>\n",
       "      <td>0.333333</td>\n",
       "      <td>0.000000</td>\n",
       "    </tr>\n",
       "    <tr>\n",
       "      <th>22</th>\n",
       "      <td>100.00</td>\n",
       "      <td>1.00</td>\n",
       "      <td>0.333333</td>\n",
       "      <td>0.000000</td>\n",
       "    </tr>\n",
       "    <tr>\n",
       "      <th>21</th>\n",
       "      <td>100.00</td>\n",
       "      <td>0.10</td>\n",
       "      <td>0.333333</td>\n",
       "      <td>0.000000</td>\n",
       "    </tr>\n",
       "    <tr>\n",
       "      <th>20</th>\n",
       "      <td>100.00</td>\n",
       "      <td>0.01</td>\n",
       "      <td>0.333333</td>\n",
       "      <td>0.000000</td>\n",
       "    </tr>\n",
       "    <tr>\n",
       "      <th>19</th>\n",
       "      <td>10.00</td>\n",
       "      <td>100.00</td>\n",
       "      <td>0.333333</td>\n",
       "      <td>0.000000</td>\n",
       "    </tr>\n",
       "    <tr>\n",
       "      <th>18</th>\n",
       "      <td>10.00</td>\n",
       "      <td>10.00</td>\n",
       "      <td>0.333333</td>\n",
       "      <td>0.000000</td>\n",
       "    </tr>\n",
       "  </tbody>\n",
       "</table>\n",
       "</div>"
      ],
      "text/plain": [
       "       Lam    LamU     Score          \n",
       "                        mean       std\n",
       "1     0.01    0.10  0.339560  0.010786\n",
       "2     0.01    1.00  0.334458  0.015426\n",
       "0     0.01    0.01  0.333333  0.000000\n",
       "13    1.00   10.00  0.333333  0.000000\n",
       "23  100.00   10.00  0.333333  0.000000\n",
       "22  100.00    1.00  0.333333  0.000000\n",
       "21  100.00    0.10  0.333333  0.000000\n",
       "20  100.00    0.01  0.333333  0.000000\n",
       "19   10.00  100.00  0.333333  0.000000\n",
       "18   10.00   10.00  0.333333  0.000000"
      ]
     },
     "execution_count": 54,
     "metadata": {},
     "output_type": "execute_result"
    }
   ],
   "source": [
    "w2v_results_lin = w2v_CV_lin.groupby(['Lam','LamU'], as_index=False).agg({'Score':['mean','std']})\n",
    "w2v_ordered_lin = w2v_results_lin.sort_values(by=[('Score', 'mean')], ascending=False)\n",
    "w2v_ordered_lin.head(10)"
   ]
  },
  {
   "cell_type": "code",
   "execution_count": 55,
   "metadata": {
    "ExecuteTime": {
     "end_time": "2020-05-08T01:07:12.911645Z",
     "start_time": "2020-05-08T01:07:12.900673Z"
    }
   },
   "outputs": [],
   "source": [
    "lam_opt_lin = w2v_ordered_lin.loc[0,'Lam']\n",
    "lamU_opt_lin = w2v_ordered_lin.loc[0,'LamU']"
   ]
  },
  {
   "cell_type": "code",
   "execution_count": 56,
   "metadata": {
    "ExecuteTime": {
     "end_time": "2020-05-08T01:07:39.923530Z",
     "start_time": "2020-05-08T01:07:12.916630Z"
    }
   },
   "outputs": [],
   "source": [
    "model_w2v_lin = ThreeClass_S3VM(lamU=lamU_opt_lin, lam=lam_opt_lin)\n",
    "yhat_w2v_lin = model_w2v_lin.fit_predict(X_train_w2v, Y_train, X_test_w2v)"
   ]
  },
  {
   "cell_type": "code",
   "execution_count": 57,
   "metadata": {
    "ExecuteTime": {
     "end_time": "2020-05-08T01:07:40.021712Z",
     "start_time": "2020-05-08T01:07:39.923530Z"
    }
   },
   "outputs": [
    {
     "data": {
      "text/html": [
       "<div>\n",
       "<style scoped>\n",
       "    .dataframe tbody tr th:only-of-type {\n",
       "        vertical-align: middle;\n",
       "    }\n",
       "\n",
       "    .dataframe tbody tr th {\n",
       "        vertical-align: top;\n",
       "    }\n",
       "\n",
       "    .dataframe thead th {\n",
       "        text-align: right;\n",
       "    }\n",
       "</style>\n",
       "<table border=\"1\" class=\"dataframe\">\n",
       "  <thead>\n",
       "    <tr style=\"text-align: right;\">\n",
       "      <th>Predicted</th>\n",
       "      <th>0.0</th>\n",
       "      <th>All</th>\n",
       "    </tr>\n",
       "    <tr>\n",
       "      <th>True</th>\n",
       "      <th></th>\n",
       "      <th></th>\n",
       "    </tr>\n",
       "  </thead>\n",
       "  <tbody>\n",
       "    <tr>\n",
       "      <th>-1.0</th>\n",
       "      <td>901</td>\n",
       "      <td>901</td>\n",
       "    </tr>\n",
       "    <tr>\n",
       "      <th>0.0</th>\n",
       "      <td>196</td>\n",
       "      <td>196</td>\n",
       "    </tr>\n",
       "    <tr>\n",
       "      <th>1.0</th>\n",
       "      <td>36</td>\n",
       "      <td>36</td>\n",
       "    </tr>\n",
       "    <tr>\n",
       "      <th>2.0</th>\n",
       "      <td>41</td>\n",
       "      <td>41</td>\n",
       "    </tr>\n",
       "    <tr>\n",
       "      <th>All</th>\n",
       "      <td>1174</td>\n",
       "      <td>1174</td>\n",
       "    </tr>\n",
       "  </tbody>\n",
       "</table>\n",
       "</div>"
      ],
      "text/plain": [
       "Predicted   0.0   All\n",
       "True                 \n",
       "-1.0        901   901\n",
       "0.0         196   196\n",
       "1.0          36    36\n",
       "2.0          41    41\n",
       "All        1174  1174"
      ]
     },
     "execution_count": 57,
     "metadata": {},
     "output_type": "execute_result"
    }
   ],
   "source": [
    "pd.crosstab(np.array(Y_train), yhat_w2v_lin['Train Predictions'], rownames=['True'], colnames=['Predicted'], margins=True)"
   ]
  },
  {
   "cell_type": "code",
   "execution_count": 58,
   "metadata": {
    "ExecuteTime": {
     "end_time": "2020-05-08T01:07:40.104488Z",
     "start_time": "2020-05-08T01:07:40.025699Z"
    }
   },
   "outputs": [
    {
     "data": {
      "text/html": [
       "<div>\n",
       "<style scoped>\n",
       "    .dataframe tbody tr th:only-of-type {\n",
       "        vertical-align: middle;\n",
       "    }\n",
       "\n",
       "    .dataframe tbody tr th {\n",
       "        vertical-align: top;\n",
       "    }\n",
       "\n",
       "    .dataframe thead th {\n",
       "        text-align: right;\n",
       "    }\n",
       "</style>\n",
       "<table border=\"1\" class=\"dataframe\">\n",
       "  <thead>\n",
       "    <tr style=\"text-align: right;\">\n",
       "      <th>Predicted</th>\n",
       "      <th>0.0</th>\n",
       "      <th>All</th>\n",
       "    </tr>\n",
       "    <tr>\n",
       "      <th>True</th>\n",
       "      <th></th>\n",
       "      <th></th>\n",
       "    </tr>\n",
       "  </thead>\n",
       "  <tbody>\n",
       "    <tr>\n",
       "      <th>0</th>\n",
       "      <td>50</td>\n",
       "      <td>50</td>\n",
       "    </tr>\n",
       "    <tr>\n",
       "      <th>1</th>\n",
       "      <td>9</td>\n",
       "      <td>9</td>\n",
       "    </tr>\n",
       "    <tr>\n",
       "      <th>2</th>\n",
       "      <td>11</td>\n",
       "      <td>11</td>\n",
       "    </tr>\n",
       "    <tr>\n",
       "      <th>All</th>\n",
       "      <td>70</td>\n",
       "      <td>70</td>\n",
       "    </tr>\n",
       "  </tbody>\n",
       "</table>\n",
       "</div>"
      ],
      "text/plain": [
       "Predicted  0.0  All\n",
       "True               \n",
       "0           50   50\n",
       "1            9    9\n",
       "2           11   11\n",
       "All         70   70"
      ]
     },
     "execution_count": 58,
     "metadata": {},
     "output_type": "execute_result"
    }
   ],
   "source": [
    "pd.crosstab(Y_test, yhat_w2v_lin['Test Predictions'], rownames=['True'], colnames=['Predicted'], margins=True)"
   ]
  },
  {
   "cell_type": "code",
   "execution_count": 59,
   "metadata": {
    "ExecuteTime": {
     "end_time": "2020-05-08T01:07:40.138414Z",
     "start_time": "2020-05-08T01:07:40.107481Z"
    }
   },
   "outputs": [
    {
     "name": "stdout",
     "output_type": "stream",
     "text": [
      "              precision    recall  f1-score   support\n",
      "\n",
      "           0       0.71      1.00      0.83        50\n",
      "           1       0.00      0.00      0.00         9\n",
      "           2       0.00      0.00      0.00        11\n",
      "\n",
      "    accuracy                           0.71        70\n",
      "   macro avg       0.24      0.33      0.28        70\n",
      "weighted avg       0.51      0.71      0.60        70\n",
      "\n",
      "balanced accuracy 0.333\n"
     ]
    }
   ],
   "source": [
    "print(classification_report(Y_test, yhat_w2v_lin['Test Predictions'], zero_division=0))\n",
    "print('balanced accuracy', round(balanced_accuracy_score(Y_test, yhat_w2v_lin['Test Predictions']),3))"
   ]
  },
  {
   "cell_type": "markdown",
   "metadata": {},
   "source": [
    "#### RBF S3VM"
   ]
  },
  {
   "cell_type": "code",
   "execution_count": 60,
   "metadata": {
    "ExecuteTime": {
     "end_time": "2020-05-08T01:46:37.586635Z",
     "start_time": "2020-05-08T01:07:40.141402Z"
    }
   },
   "outputs": [],
   "source": [
    "w2v_CV_rbf = gridCV_S3VM(X_cross_lab, X_cross_unlab, Y_cross_lab, lams, lamUs, sigmas, Sparse=False, k='RBF')"
   ]
  },
  {
   "cell_type": "code",
   "execution_count": 61,
   "metadata": {
    "ExecuteTime": {
     "end_time": "2020-05-08T01:46:37.657363Z",
     "start_time": "2020-05-08T01:46:37.586635Z"
    }
   },
   "outputs": [
    {
     "data": {
      "text/html": [
       "<div>\n",
       "<style scoped>\n",
       "    .dataframe tbody tr th:only-of-type {\n",
       "        vertical-align: middle;\n",
       "    }\n",
       "\n",
       "    .dataframe tbody tr th {\n",
       "        vertical-align: top;\n",
       "    }\n",
       "\n",
       "    .dataframe thead tr th {\n",
       "        text-align: left;\n",
       "    }\n",
       "</style>\n",
       "<table border=\"1\" class=\"dataframe\">\n",
       "  <thead>\n",
       "    <tr>\n",
       "      <th></th>\n",
       "      <th>Lam</th>\n",
       "      <th>LamU</th>\n",
       "      <th>Sigma</th>\n",
       "      <th colspan=\"2\" halign=\"left\">Score</th>\n",
       "    </tr>\n",
       "    <tr>\n",
       "      <th></th>\n",
       "      <th></th>\n",
       "      <th></th>\n",
       "      <th></th>\n",
       "      <th>mean</th>\n",
       "      <th>std</th>\n",
       "    </tr>\n",
       "  </thead>\n",
       "  <tbody>\n",
       "    <tr>\n",
       "      <th>1</th>\n",
       "      <td>0.01</td>\n",
       "      <td>0.10</td>\n",
       "      <td>1</td>\n",
       "      <td>0.339560</td>\n",
       "      <td>0.010786</td>\n",
       "    </tr>\n",
       "    <tr>\n",
       "      <th>2</th>\n",
       "      <td>0.01</td>\n",
       "      <td>1.00</td>\n",
       "      <td>1</td>\n",
       "      <td>0.334458</td>\n",
       "      <td>0.015426</td>\n",
       "    </tr>\n",
       "    <tr>\n",
       "      <th>0</th>\n",
       "      <td>0.01</td>\n",
       "      <td>0.01</td>\n",
       "      <td>1</td>\n",
       "      <td>0.333333</td>\n",
       "      <td>0.000000</td>\n",
       "    </tr>\n",
       "    <tr>\n",
       "      <th>13</th>\n",
       "      <td>1.00</td>\n",
       "      <td>10.00</td>\n",
       "      <td>1</td>\n",
       "      <td>0.333333</td>\n",
       "      <td>0.000000</td>\n",
       "    </tr>\n",
       "    <tr>\n",
       "      <th>23</th>\n",
       "      <td>100.00</td>\n",
       "      <td>10.00</td>\n",
       "      <td>1</td>\n",
       "      <td>0.333333</td>\n",
       "      <td>0.000000</td>\n",
       "    </tr>\n",
       "    <tr>\n",
       "      <th>22</th>\n",
       "      <td>100.00</td>\n",
       "      <td>1.00</td>\n",
       "      <td>1</td>\n",
       "      <td>0.333333</td>\n",
       "      <td>0.000000</td>\n",
       "    </tr>\n",
       "    <tr>\n",
       "      <th>21</th>\n",
       "      <td>100.00</td>\n",
       "      <td>0.10</td>\n",
       "      <td>1</td>\n",
       "      <td>0.333333</td>\n",
       "      <td>0.000000</td>\n",
       "    </tr>\n",
       "    <tr>\n",
       "      <th>20</th>\n",
       "      <td>100.00</td>\n",
       "      <td>0.01</td>\n",
       "      <td>1</td>\n",
       "      <td>0.333333</td>\n",
       "      <td>0.000000</td>\n",
       "    </tr>\n",
       "    <tr>\n",
       "      <th>19</th>\n",
       "      <td>10.00</td>\n",
       "      <td>100.00</td>\n",
       "      <td>1</td>\n",
       "      <td>0.333333</td>\n",
       "      <td>0.000000</td>\n",
       "    </tr>\n",
       "    <tr>\n",
       "      <th>18</th>\n",
       "      <td>10.00</td>\n",
       "      <td>10.00</td>\n",
       "      <td>1</td>\n",
       "      <td>0.333333</td>\n",
       "      <td>0.000000</td>\n",
       "    </tr>\n",
       "  </tbody>\n",
       "</table>\n",
       "</div>"
      ],
      "text/plain": [
       "       Lam    LamU Sigma     Score          \n",
       "                              mean       std\n",
       "1     0.01    0.10     1  0.339560  0.010786\n",
       "2     0.01    1.00     1  0.334458  0.015426\n",
       "0     0.01    0.01     1  0.333333  0.000000\n",
       "13    1.00   10.00     1  0.333333  0.000000\n",
       "23  100.00   10.00     1  0.333333  0.000000\n",
       "22  100.00    1.00     1  0.333333  0.000000\n",
       "21  100.00    0.10     1  0.333333  0.000000\n",
       "20  100.00    0.01     1  0.333333  0.000000\n",
       "19   10.00  100.00     1  0.333333  0.000000\n",
       "18   10.00   10.00     1  0.333333  0.000000"
      ]
     },
     "execution_count": 61,
     "metadata": {},
     "output_type": "execute_result"
    }
   ],
   "source": [
    "w2v_results_rbf = w2v_CV_rbf.groupby(['Lam','LamU', 'Sigma'], as_index=False).agg({'Score':['mean','std']})\n",
    "w2v_ordered_rbf = w2v_results_rbf.sort_values(by=[('Score', 'mean')], ascending=False)\n",
    "w2v_ordered_rbf.head(10)"
   ]
  },
  {
   "cell_type": "code",
   "execution_count": 62,
   "metadata": {
    "ExecuteTime": {
     "end_time": "2020-05-08T01:46:37.676308Z",
     "start_time": "2020-05-08T01:46:37.662346Z"
    }
   },
   "outputs": [],
   "source": [
    "lam_opt_rbf = w2v_ordered_rbf.loc[0,'Lam']\n",
    "lamU_opt_rbf = w2v_ordered_rbf.loc[0,'LamU']\n",
    "sigma_opt_rbf = w2v_ordered_rbf.loc[0,'Sigma']"
   ]
  },
  {
   "cell_type": "code",
   "execution_count": 63,
   "metadata": {
    "ExecuteTime": {
     "end_time": "2020-05-08T01:47:04.395465Z",
     "start_time": "2020-05-08T01:46:37.681295Z"
    }
   },
   "outputs": [],
   "source": [
    "model_w2v_rbf = ThreeClass_S3VM(lamU=lamU_opt_rbf, lam=lam_opt_rbf, sigma = sigma_opt_rbf,  kernel='RBF')\n",
    "yhat_w2v_rbf = model_w2v_rbf.fit_predict(X_train_w2v, Y_train, X_test_w2v)"
   ]
  },
  {
   "cell_type": "markdown",
   "metadata": {},
   "source": [
    "Training and Testing Confusion Matrices"
   ]
  },
  {
   "cell_type": "code",
   "execution_count": 64,
   "metadata": {
    "ExecuteTime": {
     "end_time": "2020-05-08T01:47:04.515443Z",
     "start_time": "2020-05-08T01:47:04.395465Z"
    }
   },
   "outputs": [
    {
     "data": {
      "text/html": [
       "<div>\n",
       "<style scoped>\n",
       "    .dataframe tbody tr th:only-of-type {\n",
       "        vertical-align: middle;\n",
       "    }\n",
       "\n",
       "    .dataframe tbody tr th {\n",
       "        vertical-align: top;\n",
       "    }\n",
       "\n",
       "    .dataframe thead th {\n",
       "        text-align: right;\n",
       "    }\n",
       "</style>\n",
       "<table border=\"1\" class=\"dataframe\">\n",
       "  <thead>\n",
       "    <tr style=\"text-align: right;\">\n",
       "      <th>Predicted</th>\n",
       "      <th>0.0</th>\n",
       "      <th>All</th>\n",
       "    </tr>\n",
       "    <tr>\n",
       "      <th>True</th>\n",
       "      <th></th>\n",
       "      <th></th>\n",
       "    </tr>\n",
       "  </thead>\n",
       "  <tbody>\n",
       "    <tr>\n",
       "      <th>-1.0</th>\n",
       "      <td>901</td>\n",
       "      <td>901</td>\n",
       "    </tr>\n",
       "    <tr>\n",
       "      <th>0.0</th>\n",
       "      <td>196</td>\n",
       "      <td>196</td>\n",
       "    </tr>\n",
       "    <tr>\n",
       "      <th>1.0</th>\n",
       "      <td>36</td>\n",
       "      <td>36</td>\n",
       "    </tr>\n",
       "    <tr>\n",
       "      <th>2.0</th>\n",
       "      <td>41</td>\n",
       "      <td>41</td>\n",
       "    </tr>\n",
       "    <tr>\n",
       "      <th>All</th>\n",
       "      <td>1174</td>\n",
       "      <td>1174</td>\n",
       "    </tr>\n",
       "  </tbody>\n",
       "</table>\n",
       "</div>"
      ],
      "text/plain": [
       "Predicted   0.0   All\n",
       "True                 \n",
       "-1.0        901   901\n",
       "0.0         196   196\n",
       "1.0          36    36\n",
       "2.0          41    41\n",
       "All        1174  1174"
      ]
     },
     "execution_count": 64,
     "metadata": {},
     "output_type": "execute_result"
    }
   ],
   "source": [
    "pd.crosstab(np.array(Y_train), yhat_w2v_rbf['Train Predictions'], rownames=['True'], colnames=['Predicted'], margins=True)"
   ]
  },
  {
   "cell_type": "code",
   "execution_count": 65,
   "metadata": {
    "ExecuteTime": {
     "end_time": "2020-05-08T01:47:04.593038Z",
     "start_time": "2020-05-08T01:47:04.515443Z"
    }
   },
   "outputs": [
    {
     "data": {
      "text/html": [
       "<div>\n",
       "<style scoped>\n",
       "    .dataframe tbody tr th:only-of-type {\n",
       "        vertical-align: middle;\n",
       "    }\n",
       "\n",
       "    .dataframe tbody tr th {\n",
       "        vertical-align: top;\n",
       "    }\n",
       "\n",
       "    .dataframe thead th {\n",
       "        text-align: right;\n",
       "    }\n",
       "</style>\n",
       "<table border=\"1\" class=\"dataframe\">\n",
       "  <thead>\n",
       "    <tr style=\"text-align: right;\">\n",
       "      <th>Predicted</th>\n",
       "      <th>0.0</th>\n",
       "      <th>All</th>\n",
       "    </tr>\n",
       "    <tr>\n",
       "      <th>True</th>\n",
       "      <th></th>\n",
       "      <th></th>\n",
       "    </tr>\n",
       "  </thead>\n",
       "  <tbody>\n",
       "    <tr>\n",
       "      <th>0</th>\n",
       "      <td>50</td>\n",
       "      <td>50</td>\n",
       "    </tr>\n",
       "    <tr>\n",
       "      <th>1</th>\n",
       "      <td>9</td>\n",
       "      <td>9</td>\n",
       "    </tr>\n",
       "    <tr>\n",
       "      <th>2</th>\n",
       "      <td>11</td>\n",
       "      <td>11</td>\n",
       "    </tr>\n",
       "    <tr>\n",
       "      <th>All</th>\n",
       "      <td>70</td>\n",
       "      <td>70</td>\n",
       "    </tr>\n",
       "  </tbody>\n",
       "</table>\n",
       "</div>"
      ],
      "text/plain": [
       "Predicted  0.0  All\n",
       "True               \n",
       "0           50   50\n",
       "1            9    9\n",
       "2           11   11\n",
       "All         70   70"
      ]
     },
     "execution_count": 65,
     "metadata": {},
     "output_type": "execute_result"
    }
   ],
   "source": [
    "pd.crosstab(Y_test, yhat_w2v_rbf['Test Predictions'], rownames=['True'], colnames=['Predicted'], margins=True)"
   ]
  },
  {
   "cell_type": "code",
   "execution_count": 66,
   "metadata": {
    "ExecuteTime": {
     "end_time": "2020-05-08T01:47:04.624952Z",
     "start_time": "2020-05-08T01:47:04.597029Z"
    }
   },
   "outputs": [
    {
     "name": "stdout",
     "output_type": "stream",
     "text": [
      "              precision    recall  f1-score   support\n",
      "\n",
      "           0       0.71      1.00      0.83        50\n",
      "           1       0.00      0.00      0.00         9\n",
      "           2       0.00      0.00      0.00        11\n",
      "\n",
      "    accuracy                           0.71        70\n",
      "   macro avg       0.24      0.33      0.28        70\n",
      "weighted avg       0.51      0.71      0.60        70\n",
      "\n",
      "balanced accuracy 0.333\n"
     ]
    }
   ],
   "source": [
    "print(classification_report(Y_test, yhat_w2v_rbf['Test Predictions'], zero_division=0))\n",
    "print('balanced accuracy', round(balanced_accuracy_score(Y_test, yhat_w2v_rbf['Test Predictions']),3))"
   ]
  },
  {
   "cell_type": "markdown",
   "metadata": {},
   "source": [
    "## Results Tables"
   ]
  },
  {
   "cell_type": "markdown",
   "metadata": {},
   "source": [
    "### Testing Results"
   ]
  },
  {
   "cell_type": "code",
   "execution_count": 67,
   "metadata": {
    "ExecuteTime": {
     "end_time": "2020-05-08T01:47:04.680803Z",
     "start_time": "2020-05-08T01:47:04.641908Z"
    }
   },
   "outputs": [],
   "source": [
    "cv_res = scores(Y_test, yhat_cv['Test Predictions'])\n",
    "tfidf_res_lin = scores(Y_test, yhat_tfidf_lin['Test Predictions'])\n",
    "tfidf_res_rbf = scores(Y_test, yhat_tfidf_rbf['Test Predictions'])\n",
    "w2v_res_lin = scores(Y_test, yhat_w2v_lin['Test Predictions'])\n",
    "w2v_res_rbf = scores(Y_test, yhat_w2v_rbf['Test Predictions'])"
   ]
  },
  {
   "cell_type": "code",
   "execution_count": 68,
   "metadata": {
    "ExecuteTime": {
     "end_time": "2020-05-08T01:47:04.699754Z",
     "start_time": "2020-05-08T01:47:04.689783Z"
    }
   },
   "outputs": [],
   "source": [
    "import tabulate"
   ]
  },
  {
   "cell_type": "code",
   "execution_count": 69,
   "metadata": {
    "ExecuteTime": {
     "end_time": "2020-05-08T01:47:04.739117Z",
     "start_time": "2020-05-08T01:47:04.701648Z"
    }
   },
   "outputs": [
    {
     "name": "stdout",
     "output_type": "stream",
     "text": [
      "method             accuracy    fscore    recall    precision    balanced_accuracy\n",
      "---------------  ----------  --------  --------  -----------  -------------------\n",
      "CountVectorizer      0.6571    0.6065    0.7084       0.5817               0.7084\n",
      "Linear TF-IDF        0.6857    0.5904    0.644        0.5689               0.644\n",
      "RBF TF-IDF           0.7143    0.2778    0.3333       0.2381               0.3333\n",
      "Linear Word2Vec      0.7143    0.2778    0.3333       0.2381               0.3333\n",
      "RBF Word2Vec         0.7143    0.2778    0.3333       0.2381               0.3333\n"
     ]
    }
   ],
   "source": [
    "names=[['CountVectorizer'], ['Linear TF-IDF'], ['RBF TF-IDF'], ['Linear Word2Vec'], ['RBF Word2Vec']]\n",
    "fields = ['method', 'accuracy', 'fscore', 'recall', 'precision', 'balanced_accuracy']\n",
    "table=[]\n",
    "table.append(names[0] + cv_res.values.tolist()[0])\n",
    "table.append(names[1] + tfidf_res_lin.values.tolist()[0])\n",
    "table.append(names[2] + tfidf_res_rbf.values.tolist()[0])\n",
    "table.append(names[3] + w2v_res_lin.values.tolist()[0])\n",
    "table.append(names[4] + w2v_res_rbf.values.tolist()[0])\n",
    "table.sort(key= lambda x: x[5], reverse=True)\n",
    "print(tabulate.tabulate(table, headers=fields))"
   ]
  },
  {
   "cell_type": "code",
   "execution_count": 70,
   "metadata": {
    "ExecuteTime": {
     "end_time": "2020-05-08T01:47:05.291654Z",
     "start_time": "2020-05-08T01:47:04.743105Z"
    }
   },
   "outputs": [
    {
     "ename": "NameError",
     "evalue": "name 'a' is not defined",
     "output_type": "error",
     "traceback": [
      "\u001b[1;31m---------------------------------------------------------------------------\u001b[0m",
      "\u001b[1;31mNameError\u001b[0m                                 Traceback (most recent call last)",
      "\u001b[1;32m<ipython-input-70-3f786850e387>\u001b[0m in \u001b[0;36m<module>\u001b[1;34m\u001b[0m\n\u001b[1;32m----> 1\u001b[1;33m \u001b[0ma\u001b[0m\u001b[1;33m\u001b[0m\u001b[1;33m\u001b[0m\u001b[0m\n\u001b[0m",
      "\u001b[1;31mNameError\u001b[0m: name 'a' is not defined"
     ]
    }
   ],
   "source": [
    "a"
   ]
  },
  {
   "cell_type": "code",
   "execution_count": null,
   "metadata": {
    "ExecuteTime": {
     "end_time": "2020-05-08T01:47:05.318585Z",
     "start_time": "2020-05-07T20:40:58.592Z"
    }
   },
   "outputs": [],
   "source": [
    "pd.set_option('mode.chained_assignment', None)\n",
    "train.loc[:,'SENTIMENT'] = yhat_tfidf['Train Predictions']\n",
    "test.loc[:,'SENTIMENT'] = yhat_tfidf['Test Predictions']"
   ]
  },
  {
   "cell_type": "code",
   "execution_count": null,
   "metadata": {
    "ExecuteTime": {
     "end_time": "2020-05-08T01:47:05.320605Z",
     "start_time": "2020-05-07T20:40:58.595Z"
    }
   },
   "outputs": [],
   "source": [
    "predictions_semi = pd.concat([train,test])\n",
    "predictions_semi.loc[predictions_semi.SENTIMENT == 2,'SENTIMENT'] = -1"
   ]
  },
  {
   "cell_type": "code",
   "execution_count": null,
   "metadata": {
    "ExecuteTime": {
     "end_time": "2020-05-08T01:47:05.321575Z",
     "start_time": "2020-05-07T20:40:58.598Z"
    }
   },
   "outputs": [],
   "source": [
    "predictions_semi.to_csv('pred_SEMI.csv')"
   ]
  },
  {
   "cell_type": "markdown",
   "metadata": {},
   "source": [
    "## Transduction"
   ]
  },
  {
   "cell_type": "code",
   "execution_count": null,
   "metadata": {
    "ExecuteTime": {
     "end_time": "2020-05-08T01:47:05.323581Z",
     "start_time": "2020-05-07T20:40:58.601Z"
    }
   },
   "outputs": [],
   "source": [
    "tfidf_vect = TfidfVectorizer(tokenizer=PREPROCESSING.process_lemmatizer, ngram_range=(1,2), min_df=0.05, max_features=1000)\n",
    "X = tfidf_vect.fit_transform(df.ARTICLE)\n",
    "X = X.tocsc()"
   ]
  },
  {
   "cell_type": "code",
   "execution_count": null,
   "metadata": {
    "ExecuteTime": {
     "end_time": "2020-05-08T01:47:05.325585Z",
     "start_time": "2020-05-07T20:40:58.604Z"
    }
   },
   "outputs": [],
   "source": [
    "Y_train = df.SENTIMENT.tolist()"
   ]
  },
  {
   "cell_type": "code",
   "execution_count": null,
   "metadata": {
    "ExecuteTime": {
     "end_time": "2020-05-08T01:47:05.327560Z",
     "start_time": "2020-05-07T20:40:58.607Z"
    }
   },
   "outputs": [],
   "source": [
    "model_transd = ThreeClass_TSVM(lamU=0.001 , lam=0.001)\n",
    "yhat_transd = model_tfidf.fit_predict(X, Y_train, X_test_tfidf)"
   ]
  },
  {
   "cell_type": "code",
   "execution_count": null,
   "metadata": {
    "ExecuteTime": {
     "end_time": "2020-05-08T01:47:05.329553Z",
     "start_time": "2020-05-07T20:40:58.611Z"
    }
   },
   "outputs": [],
   "source": [
    "pd.crosstab(np.array(Y_train), yhat_transd['Train Predictions'], rownames=['True'], colnames=['Predicted'], margins=True)"
   ]
  },
  {
   "cell_type": "code",
   "execution_count": null,
   "metadata": {
    "ExecuteTime": {
     "end_time": "2020-05-08T01:47:05.330551Z",
     "start_time": "2020-05-07T20:40:58.613Z"
    }
   },
   "outputs": [],
   "source": [
    "df.loc[:,'SENTIMENT'] = yhat_transd['Train Predictions']\n",
    "pred_transd = df\n",
    "pred_transd.loc[pred_transd.SENTIMENT == 2,'SENTIMENT'] = -1"
   ]
  },
  {
   "cell_type": "code",
   "execution_count": null,
   "metadata": {
    "ExecuteTime": {
     "end_time": "2020-05-08T01:47:05.332545Z",
     "start_time": "2020-05-07T20:40:58.616Z"
    }
   },
   "outputs": [],
   "source": [
    "pred_transd.to_csv('pred_TRANSD.csv')"
   ]
  }
 ],
 "metadata": {
  "kernelspec": {
   "display_name": "Python 3",
   "language": "python",
   "name": "python3"
  },
  "language_info": {
   "codemirror_mode": {
    "name": "ipython",
    "version": 3
   },
   "file_extension": ".py",
   "mimetype": "text/x-python",
   "name": "python",
   "nbconvert_exporter": "python",
   "pygments_lexer": "ipython3",
   "version": "3.7.3"
  },
  "toc": {
   "base_numbering": 1,
   "nav_menu": {},
   "number_sections": true,
   "sideBar": true,
   "skip_h1_title": true,
   "title_cell": "Table of Contents",
   "title_sidebar": "Contents",
   "toc_cell": false,
   "toc_position": {},
   "toc_section_display": true,
   "toc_window_display": true
  },
  "varInspector": {
   "cols": {
    "lenName": 16,
    "lenType": 16,
    "lenVar": 40
   },
   "kernels_config": {
    "python": {
     "delete_cmd_postfix": "",
     "delete_cmd_prefix": "del ",
     "library": "var_list.py",
     "varRefreshCmd": "print(var_dic_list())"
    },
    "r": {
     "delete_cmd_postfix": ") ",
     "delete_cmd_prefix": "rm(",
     "library": "var_list.r",
     "varRefreshCmd": "cat(var_dic_list()) "
    }
   },
   "position": {
    "height": "441.222px",
    "left": "-5.33333px",
    "right": "20px",
    "top": "265px",
    "width": "350px"
   },
   "types_to_exclude": [
    "module",
    "function",
    "builtin_function_or_method",
    "instance",
    "_Feature"
   ],
   "window_display": false
  }
 },
 "nbformat": 4,
 "nbformat_minor": 2
}

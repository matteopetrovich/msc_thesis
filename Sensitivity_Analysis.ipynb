{
 "cells": [
  {
   "cell_type": "markdown",
   "metadata": {},
   "source": [
    "# Models embedded with Sentiment Scores"
   ]
  },
  {
   "cell_type": "code",
   "execution_count": 1,
   "metadata": {
    "ExecuteTime": {
     "end_time": "2020-05-17T09:22:19.226954Z",
     "start_time": "2020-05-17T09:22:16.045898Z"
    }
   },
   "outputs": [],
   "source": [
    "import pandas as pd\n",
    "import numpy as np"
   ]
  },
  {
   "cell_type": "markdown",
   "metadata": {},
   "source": [
    "## Loading and merging the data"
   ]
  },
  {
   "cell_type": "markdown",
   "metadata": {},
   "source": [
    "### CoCo Index "
   ]
  },
  {
   "cell_type": "code",
   "execution_count": 2,
   "metadata": {
    "ExecuteTime": {
     "end_time": "2020-05-17T09:22:19.375922Z",
     "start_time": "2020-05-17T09:22:19.227985Z"
    }
   },
   "outputs": [
    {
     "data": {
      "text/html": [
       "<div>\n",
       "<style scoped>\n",
       "    .dataframe tbody tr th:only-of-type {\n",
       "        vertical-align: middle;\n",
       "    }\n",
       "\n",
       "    .dataframe tbody tr th {\n",
       "        vertical-align: top;\n",
       "    }\n",
       "\n",
       "    .dataframe thead th {\n",
       "        text-align: right;\n",
       "    }\n",
       "</style>\n",
       "<table border=\"1\" class=\"dataframe\">\n",
       "  <thead>\n",
       "    <tr style=\"text-align: right;\">\n",
       "      <th></th>\n",
       "      <th>Date</th>\n",
       "      <th>Coco</th>\n",
       "      <th>d_Coco</th>\n",
       "    </tr>\n",
       "  </thead>\n",
       "  <tbody>\n",
       "    <tr>\n",
       "      <th>1222</th>\n",
       "      <td>2014-06-04</td>\n",
       "      <td>119.260403</td>\n",
       "      <td>0.001599</td>\n",
       "    </tr>\n",
       "    <tr>\n",
       "      <th>673</th>\n",
       "      <td>2014-06-05</td>\n",
       "      <td>119.744212</td>\n",
       "      <td>0.004057</td>\n",
       "    </tr>\n",
       "    <tr>\n",
       "      <th>220</th>\n",
       "      <td>2014-06-06</td>\n",
       "      <td>120.607632</td>\n",
       "      <td>0.007211</td>\n",
       "    </tr>\n",
       "    <tr>\n",
       "      <th>271</th>\n",
       "      <td>2014-06-09</td>\n",
       "      <td>121.569545</td>\n",
       "      <td>0.007976</td>\n",
       "    </tr>\n",
       "    <tr>\n",
       "      <th>992</th>\n",
       "      <td>2014-06-10</td>\n",
       "      <td>121.921731</td>\n",
       "      <td>0.002897</td>\n",
       "    </tr>\n",
       "  </tbody>\n",
       "</table>\n",
       "</div>"
      ],
      "text/plain": [
       "            Date        Coco    d_Coco\n",
       "1222  2014-06-04  119.260403  0.001599\n",
       "673   2014-06-05  119.744212  0.004057\n",
       "220   2014-06-06  120.607632  0.007211\n",
       "271   2014-06-09  121.569545  0.007976\n",
       "992   2014-06-10  121.921731  0.002897"
      ]
     },
     "execution_count": 2,
     "metadata": {},
     "output_type": "execute_result"
    }
   ],
   "source": [
    "ts_data = pd.read_csv('CocoStudy.csv')\n",
    "coco_data = ts_data.sort_values('Date')\n",
    "coco_data = coco_data.drop(columns = ['Stock Index', 'Stock Returns', 'Bond Index', 'Bond Returns', 'Outlier Score'])\n",
    "coco_data = coco_data.rename(columns={'Coco Index': 'Coco'})\n",
    "coco_data = coco_data.rename(columns={'Coco Returns': 'd_Coco'})\n",
    "coco_data.head()"
   ]
  },
  {
   "cell_type": "markdown",
   "metadata": {},
   "source": [
    "### Euro Stoxx 50"
   ]
  },
  {
   "cell_type": "code",
   "execution_count": 3,
   "metadata": {
    "ExecuteTime": {
     "end_time": "2020-05-17T09:22:19.427248Z",
     "start_time": "2020-05-17T09:22:19.383222Z"
    }
   },
   "outputs": [],
   "source": [
    "es50_data = pd.read_csv('EuroStoxx50.csv')"
   ]
  },
  {
   "cell_type": "code",
   "execution_count": 4,
   "metadata": {
    "ExecuteTime": {
     "end_time": "2020-05-17T09:22:19.469852Z",
     "start_time": "2020-05-17T09:22:19.432604Z"
    }
   },
   "outputs": [],
   "source": [
    "es50_data['d_ES50'] = es50_data['Close'].pct_change(1)\n",
    "es50_data = es50_data[['Date', 'Close', 'd_ES50']]\n",
    "es50_data = es50_data.rename(columns={'Close': 'ES50'})"
   ]
  },
  {
   "cell_type": "code",
   "execution_count": 5,
   "metadata": {
    "ExecuteTime": {
     "end_time": "2020-05-17T09:22:19.485890Z",
     "start_time": "2020-05-17T09:22:19.472340Z"
    }
   },
   "outputs": [],
   "source": [
    "data_temp = pd.merge(coco_data, es50_data, how='inner', on = 'Date')"
   ]
  },
  {
   "cell_type": "markdown",
   "metadata": {},
   "source": [
    "### iTraxx"
   ]
  },
  {
   "cell_type": "code",
   "execution_count": 6,
   "metadata": {
    "ExecuteTime": {
     "end_time": "2020-05-17T09:22:19.525308Z",
     "start_time": "2020-05-17T09:22:19.489029Z"
    }
   },
   "outputs": [],
   "source": [
    "itraxx_data = pd.read_csv('iTraxx.csv')"
   ]
  },
  {
   "cell_type": "code",
   "execution_count": 7,
   "metadata": {
    "ExecuteTime": {
     "end_time": "2020-05-17T09:22:19.644303Z",
     "start_time": "2020-05-17T09:22:19.528885Z"
    }
   },
   "outputs": [],
   "source": [
    "from datetime import datetime\n",
    "itraxx_data['Date'] = itraxx_data['Date'].map(lambda x: datetime.strptime(x, '%b %d, %Y'))\n",
    "itraxx_data['d_iTraxx'] = itraxx_data['Price'].pct_change(1)"
   ]
  },
  {
   "cell_type": "code",
   "execution_count": 8,
   "metadata": {
    "ExecuteTime": {
     "end_time": "2020-05-17T09:22:19.671369Z",
     "start_time": "2020-05-17T09:22:19.654190Z"
    }
   },
   "outputs": [],
   "source": [
    "itraxx_data = itraxx_data[['Date', 'Price', 'd_iTraxx']]\n",
    "itraxx_data = itraxx_data.rename(columns={'Price': 'iTraxx'})"
   ]
  },
  {
   "cell_type": "code",
   "execution_count": 9,
   "metadata": {
    "ExecuteTime": {
     "end_time": "2020-05-17T09:22:19.707350Z",
     "start_time": "2020-05-17T09:22:19.679344Z"
    }
   },
   "outputs": [],
   "source": [
    "data_temp['Date'] = pd.to_datetime(data_temp['Date'])\n",
    "data_temp = pd.merge(data_temp, itraxx_data, how='inner', on = 'Date')"
   ]
  },
  {
   "cell_type": "markdown",
   "metadata": {},
   "source": [
    "### US 5 year Bonds Yields"
   ]
  },
  {
   "cell_type": "code",
   "execution_count": 10,
   "metadata": {
    "ExecuteTime": {
     "end_time": "2020-05-17T09:22:19.762779Z",
     "start_time": "2020-05-17T09:22:19.712005Z"
    }
   },
   "outputs": [],
   "source": [
    "r_data = pd.read_csv('US_5Year_Bond_Yield.csv')"
   ]
  },
  {
   "cell_type": "code",
   "execution_count": 11,
   "metadata": {
    "ExecuteTime": {
     "end_time": "2020-05-17T09:22:19.855371Z",
     "start_time": "2020-05-17T09:22:19.763775Z"
    }
   },
   "outputs": [],
   "source": [
    "from datetime import datetime\n",
    "r_data['Date'] = r_data['Date'].map(lambda x: datetime.strptime(x, '%b %d, %Y'))\n",
    "r_data['d_r'] = r_data['Price'].pct_change(1)"
   ]
  },
  {
   "cell_type": "code",
   "execution_count": 12,
   "metadata": {
    "ExecuteTime": {
     "end_time": "2020-05-17T09:22:19.874447Z",
     "start_time": "2020-05-17T09:22:19.860825Z"
    }
   },
   "outputs": [],
   "source": [
    "r_data = r_data[['Date', 'Price', 'd_r']]\n",
    "r_data = r_data.rename(columns={'Price': 'r'})"
   ]
  },
  {
   "cell_type": "code",
   "execution_count": 13,
   "metadata": {
    "ExecuteTime": {
     "end_time": "2020-05-17T09:22:19.908923Z",
     "start_time": "2020-05-17T09:22:19.879440Z"
    }
   },
   "outputs": [],
   "source": [
    "df = pd.merge(data_temp, r_data, how='inner', on = 'Date')"
   ]
  },
  {
   "cell_type": "code",
   "execution_count": 14,
   "metadata": {
    "ExecuteTime": {
     "end_time": "2020-05-17T09:22:19.939498Z",
     "start_time": "2020-05-17T09:22:19.913195Z"
    }
   },
   "outputs": [
    {
     "data": {
      "text/html": [
       "<div>\n",
       "<style scoped>\n",
       "    .dataframe tbody tr th:only-of-type {\n",
       "        vertical-align: middle;\n",
       "    }\n",
       "\n",
       "    .dataframe tbody tr th {\n",
       "        vertical-align: top;\n",
       "    }\n",
       "\n",
       "    .dataframe thead th {\n",
       "        text-align: right;\n",
       "    }\n",
       "</style>\n",
       "<table border=\"1\" class=\"dataframe\">\n",
       "  <thead>\n",
       "    <tr style=\"text-align: right;\">\n",
       "      <th></th>\n",
       "      <th>Date</th>\n",
       "      <th>Coco</th>\n",
       "      <th>d_Coco</th>\n",
       "      <th>ES50</th>\n",
       "      <th>d_ES50</th>\n",
       "      <th>iTraxx</th>\n",
       "      <th>d_iTraxx</th>\n",
       "      <th>r</th>\n",
       "      <th>d_r</th>\n",
       "    </tr>\n",
       "  </thead>\n",
       "  <tbody>\n",
       "    <tr>\n",
       "      <th>0</th>\n",
       "      <td>2014-06-04</td>\n",
       "      <td>119.260403</td>\n",
       "      <td>0.001599</td>\n",
       "      <td>3237.929932</td>\n",
       "      <td>-0.000960</td>\n",
       "      <td>115.74</td>\n",
       "      <td>-0.001897</td>\n",
       "      <td>1.644</td>\n",
       "      <td>0.011692</td>\n",
       "    </tr>\n",
       "    <tr>\n",
       "      <th>1</th>\n",
       "      <td>2014-06-05</td>\n",
       "      <td>119.744212</td>\n",
       "      <td>0.004057</td>\n",
       "      <td>3267.050049</td>\n",
       "      <td>0.008993</td>\n",
       "      <td>115.96</td>\n",
       "      <td>-0.000776</td>\n",
       "      <td>1.625</td>\n",
       "      <td>-0.014554</td>\n",
       "    </tr>\n",
       "    <tr>\n",
       "      <th>2</th>\n",
       "      <td>2014-06-06</td>\n",
       "      <td>120.607632</td>\n",
       "      <td>0.007211</td>\n",
       "      <td>3294.280029</td>\n",
       "      <td>0.008335</td>\n",
       "      <td>116.05</td>\n",
       "      <td>-0.001806</td>\n",
       "      <td>1.649</td>\n",
       "      <td>0.000607</td>\n",
       "    </tr>\n",
       "    <tr>\n",
       "      <th>3</th>\n",
       "      <td>2014-06-10</td>\n",
       "      <td>121.921731</td>\n",
       "      <td>0.002897</td>\n",
       "      <td>3313.800049</td>\n",
       "      <td>0.005925</td>\n",
       "      <td>116.20</td>\n",
       "      <td>0.000603</td>\n",
       "      <td>1.711</td>\n",
       "      <td>0.007063</td>\n",
       "    </tr>\n",
       "    <tr>\n",
       "      <th>4</th>\n",
       "      <td>2014-06-11</td>\n",
       "      <td>121.605514</td>\n",
       "      <td>-0.002594</td>\n",
       "      <td>3289.090088</td>\n",
       "      <td>-0.007457</td>\n",
       "      <td>116.13</td>\n",
       "      <td>0.000517</td>\n",
       "      <td>1.699</td>\n",
       "      <td>0.009507</td>\n",
       "    </tr>\n",
       "  </tbody>\n",
       "</table>\n",
       "</div>"
      ],
      "text/plain": [
       "        Date        Coco    d_Coco         ES50    d_ES50  iTraxx  d_iTraxx  \\\n",
       "0 2014-06-04  119.260403  0.001599  3237.929932 -0.000960  115.74 -0.001897   \n",
       "1 2014-06-05  119.744212  0.004057  3267.050049  0.008993  115.96 -0.000776   \n",
       "2 2014-06-06  120.607632  0.007211  3294.280029  0.008335  116.05 -0.001806   \n",
       "3 2014-06-10  121.921731  0.002897  3313.800049  0.005925  116.20  0.000603   \n",
       "4 2014-06-11  121.605514 -0.002594  3289.090088 -0.007457  116.13  0.000517   \n",
       "\n",
       "       r       d_r  \n",
       "0  1.644  0.011692  \n",
       "1  1.625 -0.014554  \n",
       "2  1.649  0.000607  \n",
       "3  1.711  0.007063  \n",
       "4  1.699  0.009507  "
      ]
     },
     "execution_count": 14,
     "metadata": {},
     "output_type": "execute_result"
    }
   ],
   "source": [
    "df.head()"
   ]
  },
  {
   "cell_type": "markdown",
   "metadata": {},
   "source": [
    "### Sentiment predictions"
   ]
  },
  {
   "cell_type": "code",
   "execution_count": 15,
   "metadata": {
    "ExecuteTime": {
     "end_time": "2020-05-17T09:22:20.591829Z",
     "start_time": "2020-05-17T09:22:19.944078Z"
    }
   },
   "outputs": [
    {
     "data": {
      "text/html": [
       "<div>\n",
       "<style scoped>\n",
       "    .dataframe tbody tr th:only-of-type {\n",
       "        vertical-align: middle;\n",
       "    }\n",
       "\n",
       "    .dataframe tbody tr th {\n",
       "        vertical-align: top;\n",
       "    }\n",
       "\n",
       "    .dataframe thead th {\n",
       "        text-align: right;\n",
       "    }\n",
       "</style>\n",
       "<table border=\"1\" class=\"dataframe\">\n",
       "  <thead>\n",
       "    <tr style=\"text-align: right;\">\n",
       "      <th></th>\n",
       "      <th>DATE</th>\n",
       "      <th>SENTIMENT</th>\n",
       "    </tr>\n",
       "  </thead>\n",
       "  <tbody>\n",
       "    <tr>\n",
       "      <th>1228</th>\n",
       "      <td>2004-10-18</td>\n",
       "      <td>1</td>\n",
       "    </tr>\n",
       "    <tr>\n",
       "      <th>1233</th>\n",
       "      <td>2009-10-30</td>\n",
       "      <td>0</td>\n",
       "    </tr>\n",
       "    <tr>\n",
       "      <th>1209</th>\n",
       "      <td>2009-11-06</td>\n",
       "      <td>-1</td>\n",
       "    </tr>\n",
       "    <tr>\n",
       "      <th>1215</th>\n",
       "      <td>2009-11-11</td>\n",
       "      <td>-1</td>\n",
       "    </tr>\n",
       "    <tr>\n",
       "      <th>321</th>\n",
       "      <td>2009-11-13</td>\n",
       "      <td>-1</td>\n",
       "    </tr>\n",
       "  </tbody>\n",
       "</table>\n",
       "</div>"
      ],
      "text/plain": [
       "           DATE  SENTIMENT\n",
       "1228 2004-10-18          1\n",
       "1233 2009-10-30          0\n",
       "1209 2009-11-06         -1\n",
       "1215 2009-11-11         -1\n",
       "321  2009-11-13         -1"
      ]
     },
     "execution_count": 15,
     "metadata": {},
     "output_type": "execute_result"
    }
   ],
   "source": [
    "#sentiment_data = pd.read_json('prediction_LIN.json')\n",
    "sentiment_data = pd.read_json('prediction_RBF.json')\n",
    "#sentiment_data = pd.read_csv('pred_SEMI.csv')\n",
    "#sentiment = pd.read_csv('pred_TRANSD.csv')\n",
    "\n",
    "sentiment_data = sentiment_data.sort_values('DATE')\n",
    "sentiment_data = sentiment_data[['DATE', 'SENTIMENT']]\n",
    "sentiment_data.head()"
   ]
  },
  {
   "cell_type": "code",
   "execution_count": 16,
   "metadata": {
    "ExecuteTime": {
     "end_time": "2020-05-17T09:22:20.610709Z",
     "start_time": "2020-05-17T09:22:20.596818Z"
    }
   },
   "outputs": [],
   "source": [
    "df.loc[:, 'Sentiment'] = np.zeros(df.shape[0])"
   ]
  },
  {
   "cell_type": "code",
   "execution_count": 17,
   "metadata": {
    "ExecuteTime": {
     "end_time": "2020-05-17T09:22:44.055765Z",
     "start_time": "2020-05-17T09:22:20.615416Z"
    },
    "scrolled": false
   },
   "outputs": [],
   "source": [
    "i = 0\n",
    "\n",
    "for date_return in df.Date:\n",
    "    j = 0\n",
    "    \n",
    "    for date_sent in sentiment_data.DATE:\n",
    "        if str(date_sent)==str(date_return):\n",
    "            df.loc[i, 'Sentiment'] += sentiment_data.loc[j, 'SENTIMENT']\n",
    "            \n",
    "        j+=1\n",
    "    i+=1"
   ]
  },
  {
   "cell_type": "code",
   "execution_count": 18,
   "metadata": {
    "ExecuteTime": {
     "end_time": "2020-05-17T09:22:44.071210Z",
     "start_time": "2020-05-17T09:22:44.057783Z"
    }
   },
   "outputs": [],
   "source": [
    "df['d_Sentiment'] = df['Sentiment'] - df['Sentiment'].shift()\n",
    "df['lag_Sentiment'] = df['Sentiment'].shift()\n",
    "df['d_ES50_squared'] = df['d_ES50']**2"
   ]
  },
  {
   "cell_type": "code",
   "execution_count": 19,
   "metadata": {
    "ExecuteTime": {
     "end_time": "2020-05-17T09:22:44.091418Z",
     "start_time": "2020-05-17T09:22:44.074186Z"
    }
   },
   "outputs": [],
   "source": [
    "df[['d_Sentiment']] = df['d_Sentiment'].apply(lambda x: x/100)"
   ]
  },
  {
   "cell_type": "code",
   "execution_count": 20,
   "metadata": {
    "ExecuteTime": {
     "end_time": "2020-05-17T09:22:44.132635Z",
     "start_time": "2020-05-17T09:22:44.094527Z"
    }
   },
   "outputs": [
    {
     "data": {
      "text/html": [
       "<div>\n",
       "<style scoped>\n",
       "    .dataframe tbody tr th:only-of-type {\n",
       "        vertical-align: middle;\n",
       "    }\n",
       "\n",
       "    .dataframe tbody tr th {\n",
       "        vertical-align: top;\n",
       "    }\n",
       "\n",
       "    .dataframe thead th {\n",
       "        text-align: right;\n",
       "    }\n",
       "</style>\n",
       "<table border=\"1\" class=\"dataframe\">\n",
       "  <thead>\n",
       "    <tr style=\"text-align: right;\">\n",
       "      <th></th>\n",
       "      <th>Date</th>\n",
       "      <th>Coco</th>\n",
       "      <th>d_Coco</th>\n",
       "      <th>ES50</th>\n",
       "      <th>d_ES50</th>\n",
       "      <th>iTraxx</th>\n",
       "      <th>d_iTraxx</th>\n",
       "      <th>r</th>\n",
       "      <th>d_r</th>\n",
       "      <th>Sentiment</th>\n",
       "      <th>d_Sentiment</th>\n",
       "      <th>lag_Sentiment</th>\n",
       "      <th>d_ES50_squared</th>\n",
       "    </tr>\n",
       "  </thead>\n",
       "  <tbody>\n",
       "    <tr>\n",
       "      <th>0</th>\n",
       "      <td>2014-06-04</td>\n",
       "      <td>119.260403</td>\n",
       "      <td>0.001599</td>\n",
       "      <td>3237.929932</td>\n",
       "      <td>-0.000960</td>\n",
       "      <td>115.74</td>\n",
       "      <td>-0.001897</td>\n",
       "      <td>1.644</td>\n",
       "      <td>0.011692</td>\n",
       "      <td>0.0</td>\n",
       "      <td>NaN</td>\n",
       "      <td>NaN</td>\n",
       "      <td>9.208351e-07</td>\n",
       "    </tr>\n",
       "    <tr>\n",
       "      <th>1</th>\n",
       "      <td>2014-06-05</td>\n",
       "      <td>119.744212</td>\n",
       "      <td>0.004057</td>\n",
       "      <td>3267.050049</td>\n",
       "      <td>0.008993</td>\n",
       "      <td>115.96</td>\n",
       "      <td>-0.000776</td>\n",
       "      <td>1.625</td>\n",
       "      <td>-0.014554</td>\n",
       "      <td>0.0</td>\n",
       "      <td>0.0</td>\n",
       "      <td>0.0</td>\n",
       "      <td>8.088190e-05</td>\n",
       "    </tr>\n",
       "    <tr>\n",
       "      <th>2</th>\n",
       "      <td>2014-06-06</td>\n",
       "      <td>120.607632</td>\n",
       "      <td>0.007211</td>\n",
       "      <td>3294.280029</td>\n",
       "      <td>0.008335</td>\n",
       "      <td>116.05</td>\n",
       "      <td>-0.001806</td>\n",
       "      <td>1.649</td>\n",
       "      <td>0.000607</td>\n",
       "      <td>0.0</td>\n",
       "      <td>0.0</td>\n",
       "      <td>0.0</td>\n",
       "      <td>6.946772e-05</td>\n",
       "    </tr>\n",
       "    <tr>\n",
       "      <th>3</th>\n",
       "      <td>2014-06-10</td>\n",
       "      <td>121.921731</td>\n",
       "      <td>0.002897</td>\n",
       "      <td>3313.800049</td>\n",
       "      <td>0.005925</td>\n",
       "      <td>116.20</td>\n",
       "      <td>0.000603</td>\n",
       "      <td>1.711</td>\n",
       "      <td>0.007063</td>\n",
       "      <td>0.0</td>\n",
       "      <td>0.0</td>\n",
       "      <td>0.0</td>\n",
       "      <td>3.511070e-05</td>\n",
       "    </tr>\n",
       "    <tr>\n",
       "      <th>4</th>\n",
       "      <td>2014-06-11</td>\n",
       "      <td>121.605514</td>\n",
       "      <td>-0.002594</td>\n",
       "      <td>3289.090088</td>\n",
       "      <td>-0.007457</td>\n",
       "      <td>116.13</td>\n",
       "      <td>0.000517</td>\n",
       "      <td>1.699</td>\n",
       "      <td>0.009507</td>\n",
       "      <td>0.0</td>\n",
       "      <td>0.0</td>\n",
       "      <td>0.0</td>\n",
       "      <td>5.560214e-05</td>\n",
       "    </tr>\n",
       "  </tbody>\n",
       "</table>\n",
       "</div>"
      ],
      "text/plain": [
       "        Date        Coco    d_Coco         ES50    d_ES50  iTraxx  d_iTraxx  \\\n",
       "0 2014-06-04  119.260403  0.001599  3237.929932 -0.000960  115.74 -0.001897   \n",
       "1 2014-06-05  119.744212  0.004057  3267.050049  0.008993  115.96 -0.000776   \n",
       "2 2014-06-06  120.607632  0.007211  3294.280029  0.008335  116.05 -0.001806   \n",
       "3 2014-06-10  121.921731  0.002897  3313.800049  0.005925  116.20  0.000603   \n",
       "4 2014-06-11  121.605514 -0.002594  3289.090088 -0.007457  116.13  0.000517   \n",
       "\n",
       "       r       d_r  Sentiment  d_Sentiment  lag_Sentiment  d_ES50_squared  \n",
       "0  1.644  0.011692        0.0          NaN            NaN    9.208351e-07  \n",
       "1  1.625 -0.014554        0.0          0.0            0.0    8.088190e-05  \n",
       "2  1.649  0.000607        0.0          0.0            0.0    6.946772e-05  \n",
       "3  1.711  0.007063        0.0          0.0            0.0    3.511070e-05  \n",
       "4  1.699  0.009507        0.0          0.0            0.0    5.560214e-05  "
      ]
     },
     "execution_count": 20,
     "metadata": {},
     "output_type": "execute_result"
    }
   ],
   "source": [
    "df.head()"
   ]
  },
  {
   "cell_type": "code",
   "execution_count": 21,
   "metadata": {
    "ExecuteTime": {
     "end_time": "2020-05-17T09:22:44.166650Z",
     "start_time": "2020-05-17T09:22:44.136247Z"
    }
   },
   "outputs": [
    {
     "data": {
      "text/html": [
       "<div>\n",
       "<style scoped>\n",
       "    .dataframe tbody tr th:only-of-type {\n",
       "        vertical-align: middle;\n",
       "    }\n",
       "\n",
       "    .dataframe tbody tr th {\n",
       "        vertical-align: top;\n",
       "    }\n",
       "\n",
       "    .dataframe thead th {\n",
       "        text-align: right;\n",
       "    }\n",
       "</style>\n",
       "<table border=\"1\" class=\"dataframe\">\n",
       "  <thead>\n",
       "    <tr style=\"text-align: right;\">\n",
       "      <th></th>\n",
       "      <th>Date</th>\n",
       "      <th>Coco</th>\n",
       "      <th>d_Coco</th>\n",
       "      <th>ES50</th>\n",
       "      <th>d_ES50</th>\n",
       "      <th>iTraxx</th>\n",
       "      <th>d_iTraxx</th>\n",
       "      <th>r</th>\n",
       "      <th>d_r</th>\n",
       "      <th>Sentiment</th>\n",
       "      <th>d_Sentiment</th>\n",
       "      <th>lag_Sentiment</th>\n",
       "      <th>d_ES50_squared</th>\n",
       "    </tr>\n",
       "  </thead>\n",
       "  <tbody>\n",
       "    <tr>\n",
       "      <th>1279</th>\n",
       "      <td>2019-08-05</td>\n",
       "      <td>182.816682</td>\n",
       "      <td>-0.009691</td>\n",
       "      <td>3310.929932</td>\n",
       "      <td>-0.019309</td>\n",
       "      <td>119.83</td>\n",
       "      <td>-0.001250</td>\n",
       "      <td>1.528</td>\n",
       "      <td>0.001311</td>\n",
       "      <td>0.0</td>\n",
       "      <td>0.00</td>\n",
       "      <td>0.0</td>\n",
       "      <td>0.000373</td>\n",
       "    </tr>\n",
       "    <tr>\n",
       "      <th>1280</th>\n",
       "      <td>2019-08-06</td>\n",
       "      <td>183.213285</td>\n",
       "      <td>0.002169</td>\n",
       "      <td>3291.659912</td>\n",
       "      <td>-0.005820</td>\n",
       "      <td>119.98</td>\n",
       "      <td>0.000334</td>\n",
       "      <td>1.526</td>\n",
       "      <td>-0.010376</td>\n",
       "      <td>-1.0</td>\n",
       "      <td>-0.01</td>\n",
       "      <td>0.0</td>\n",
       "      <td>0.000034</td>\n",
       "    </tr>\n",
       "    <tr>\n",
       "      <th>1281</th>\n",
       "      <td>2019-08-07</td>\n",
       "      <td>183.127889</td>\n",
       "      <td>-0.000466</td>\n",
       "      <td>3309.989990</td>\n",
       "      <td>0.005569</td>\n",
       "      <td>119.94</td>\n",
       "      <td>-0.001914</td>\n",
       "      <td>1.542</td>\n",
       "      <td>-0.001295</td>\n",
       "      <td>0.0</td>\n",
       "      <td>0.01</td>\n",
       "      <td>-1.0</td>\n",
       "      <td>0.000031</td>\n",
       "    </tr>\n",
       "    <tr>\n",
       "      <th>1282</th>\n",
       "      <td>2019-08-08</td>\n",
       "      <td>183.666437</td>\n",
       "      <td>0.002941</td>\n",
       "      <td>3375.379883</td>\n",
       "      <td>0.019755</td>\n",
       "      <td>120.17</td>\n",
       "      <td>0.001584</td>\n",
       "      <td>1.544</td>\n",
       "      <td>-0.022166</td>\n",
       "      <td>0.0</td>\n",
       "      <td>0.00</td>\n",
       "      <td>0.0</td>\n",
       "      <td>0.000390</td>\n",
       "    </tr>\n",
       "    <tr>\n",
       "      <th>1283</th>\n",
       "      <td>2019-08-09</td>\n",
       "      <td>183.355698</td>\n",
       "      <td>-0.001692</td>\n",
       "      <td>3333.739990</td>\n",
       "      <td>-0.012336</td>\n",
       "      <td>119.98</td>\n",
       "      <td>0.000751</td>\n",
       "      <td>1.579</td>\n",
       "      <td>0.000000</td>\n",
       "      <td>0.0</td>\n",
       "      <td>0.00</td>\n",
       "      <td>0.0</td>\n",
       "      <td>0.000152</td>\n",
       "    </tr>\n",
       "  </tbody>\n",
       "</table>\n",
       "</div>"
      ],
      "text/plain": [
       "           Date        Coco    d_Coco         ES50    d_ES50  iTraxx  \\\n",
       "1279 2019-08-05  182.816682 -0.009691  3310.929932 -0.019309  119.83   \n",
       "1280 2019-08-06  183.213285  0.002169  3291.659912 -0.005820  119.98   \n",
       "1281 2019-08-07  183.127889 -0.000466  3309.989990  0.005569  119.94   \n",
       "1282 2019-08-08  183.666437  0.002941  3375.379883  0.019755  120.17   \n",
       "1283 2019-08-09  183.355698 -0.001692  3333.739990 -0.012336  119.98   \n",
       "\n",
       "      d_iTraxx      r       d_r  Sentiment  d_Sentiment  lag_Sentiment  \\\n",
       "1279 -0.001250  1.528  0.001311        0.0         0.00            0.0   \n",
       "1280  0.000334  1.526 -0.010376       -1.0        -0.01            0.0   \n",
       "1281 -0.001914  1.542 -0.001295        0.0         0.01           -1.0   \n",
       "1282  0.001584  1.544 -0.022166        0.0         0.00            0.0   \n",
       "1283  0.000751  1.579  0.000000        0.0         0.00            0.0   \n",
       "\n",
       "      d_ES50_squared  \n",
       "1279        0.000373  \n",
       "1280        0.000034  \n",
       "1281        0.000031  \n",
       "1282        0.000390  \n",
       "1283        0.000152  "
      ]
     },
     "execution_count": 21,
     "metadata": {},
     "output_type": "execute_result"
    }
   ],
   "source": [
    "df.tail()"
   ]
  },
  {
   "cell_type": "code",
   "execution_count": 22,
   "metadata": {
    "ExecuteTime": {
     "end_time": "2020-05-17T09:22:44.181567Z",
     "start_time": "2020-05-17T09:22:44.170329Z"
    }
   },
   "outputs": [],
   "source": [
    "df = df.dropna()"
   ]
  },
  {
   "cell_type": "code",
   "execution_count": 29,
   "metadata": {
    "ExecuteTime": {
     "end_time": "2020-05-17T09:26:49.681444Z",
     "start_time": "2020-05-17T09:26:49.603613Z"
    }
   },
   "outputs": [],
   "source": [
    "df.to_csv('regression_data.csv')"
   ]
  },
  {
   "cell_type": "markdown",
   "metadata": {},
   "source": [
    "## Linear Regression"
   ]
  },
  {
   "cell_type": "code",
   "execution_count": 23,
   "metadata": {
    "ExecuteTime": {
     "end_time": "2020-05-17T09:22:45.660798Z",
     "start_time": "2020-05-17T09:22:44.195753Z"
    }
   },
   "outputs": [],
   "source": [
    "import statsmodels.formula.api as smf"
   ]
  },
  {
   "cell_type": "code",
   "execution_count": 24,
   "metadata": {
    "ExecuteTime": {
     "end_time": "2020-05-17T09:22:45.864183Z",
     "start_time": "2020-05-17T09:22:45.671073Z"
    }
   },
   "outputs": [
    {
     "name": "stdout",
     "output_type": "stream",
     "text": [
      "                            OLS Regression Results                            \n",
      "==============================================================================\n",
      "Dep. Variable:                 d_Coco   R-squared:                       0.338\n",
      "Model:                            OLS   Adj. R-squared:                  0.335\n",
      "Method:                 Least Squares   F-statistic:                     127.4\n",
      "Date:                Sun, 17 May 2020   Prob (F-statistic):          4.16e-109\n",
      "Time:                        11:22:45   Log-Likelihood:                 5114.5\n",
      "No. Observations:                1254   AIC:                        -1.022e+04\n",
      "Df Residuals:                    1248   BIC:                        -1.019e+04\n",
      "Df Model:                           5                                         \n",
      "Covariance Type:            nonrobust                                         \n",
      "==================================================================================\n",
      "                     coef    std err          t      P>|t|      [0.025      0.975]\n",
      "----------------------------------------------------------------------------------\n",
      "Intercept          0.0004      0.000      2.964      0.003       0.000       0.001\n",
      "d_ES50             0.2548      0.011     24.265      0.000       0.234       0.275\n",
      "d_ES50_squared    -0.7023      0.365     -1.922      0.055      -1.419       0.015\n",
      "d_iTraxx          -0.0112      0.105     -0.107      0.915      -0.217       0.195\n",
      "d_r                0.0007      0.005      0.137      0.891      -0.009       0.010\n",
      "d_Sentiment        0.0899      0.053      1.709      0.088      -0.013       0.193\n",
      "==============================================================================\n",
      "Omnibus:                      154.657   Durbin-Watson:                   1.850\n",
      "Prob(Omnibus):                  0.000   Jarque-Bera (JB):             1390.463\n",
      "Skew:                          -0.171   Prob(JB):                    1.16e-302\n",
      "Kurtosis:                       8.147   Cond. No.                     3.15e+03\n",
      "==============================================================================\n",
      "\n",
      "Warnings:\n",
      "[1] Standard Errors assume that the covariance matrix of the errors is correctly specified.\n",
      "[2] The condition number is large, 3.15e+03. This might indicate that there are\n",
      "strong multicollinearity or other numerical problems.\n"
     ]
    }
   ],
   "source": [
    "mod = smf.ols('d_Coco ~  d_ES50 + d_ES50_squared + d_iTraxx + d_r  + d_Sentiment ', data=df).fit()\n",
    "print(mod.summary())"
   ]
  },
  {
   "cell_type": "code",
   "execution_count": 25,
   "metadata": {
    "ExecuteTime": {
     "end_time": "2020-05-17T09:22:45.973879Z",
     "start_time": "2020-05-17T09:22:45.871225Z"
    }
   },
   "outputs": [
    {
     "name": "stdout",
     "output_type": "stream",
     "text": [
      "                            OLS Regression Results                            \n",
      "==============================================================================\n",
      "Dep. Variable:                 d_Coco   R-squared:                       0.338\n",
      "Model:                            OLS   Adj. R-squared:                  0.335\n",
      "Method:                 Least Squares   F-statistic:                     127.4\n",
      "Date:                Sun, 17 May 2020   Prob (F-statistic):          4.16e-109\n",
      "Time:                        11:22:45   Log-Likelihood:                 5114.5\n",
      "No. Observations:                1254   AIC:                        -1.022e+04\n",
      "Df Residuals:                    1248   BIC:                        -1.019e+04\n",
      "Df Model:                           5                                         \n",
      "Covariance Type:            nonrobust                                         \n",
      "==================================================================================\n",
      "                     coef    std err          t      P>|t|      [0.025      0.975]\n",
      "----------------------------------------------------------------------------------\n",
      "Intercept          0.0004      0.000      2.964      0.003       0.000       0.001\n",
      "d_ES50             0.2548      0.011     24.265      0.000       0.234       0.275\n",
      "d_ES50_squared    -0.7023      0.365     -1.922      0.055      -1.419       0.015\n",
      "d_iTraxx          -0.0112      0.105     -0.107      0.915      -0.217       0.195\n",
      "d_r                0.0007      0.005      0.137      0.891      -0.009       0.010\n",
      "d_Sentiment        0.0899      0.053      1.709      0.088      -0.013       0.193\n",
      "==============================================================================\n",
      "Omnibus:                      154.657   Durbin-Watson:                   1.850\n",
      "Prob(Omnibus):                  0.000   Jarque-Bera (JB):             1390.463\n",
      "Skew:                          -0.171   Prob(JB):                    1.16e-302\n",
      "Kurtosis:                       8.147   Cond. No.                     3.15e+03\n",
      "==============================================================================\n",
      "\n",
      "Warnings:\n",
      "[1] Standard Errors assume that the covariance matrix of the errors is correctly specified.\n",
      "[2] The condition number is large, 3.15e+03. This might indicate that there are\n",
      "strong multicollinearity or other numerical problems.\n"
     ]
    }
   ],
   "source": [
    "mod = smf.ols('d_Coco ~  d_ES50 + d_ES50_squared + d_iTraxx + d_r  + d_Sentiment ', data=df).fit()\n",
    "print(mod.summary())"
   ]
  },
  {
   "cell_type": "markdown",
   "metadata": {},
   "source": [
    "## Granger Causality"
   ]
  },
  {
   "cell_type": "code",
   "execution_count": 26,
   "metadata": {
    "ExecuteTime": {
     "end_time": "2020-05-17T09:22:46.174271Z",
     "start_time": "2020-05-17T09:22:45.977334Z"
    }
   },
   "outputs": [],
   "source": [
    "from statsmodels.tsa.stattools import grangercausalitytests"
   ]
  },
  {
   "cell_type": "markdown",
   "metadata": {},
   "source": [
    "Does Sentiment granger cause CoCo?"
   ]
  },
  {
   "cell_type": "code",
   "execution_count": 27,
   "metadata": {
    "ExecuteTime": {
     "end_time": "2020-05-17T09:22:46.225638Z",
     "start_time": "2020-05-17T09:22:46.177958Z"
    }
   },
   "outputs": [
    {
     "name": "stdout",
     "output_type": "stream",
     "text": [
      "\n",
      "Granger Causality\n",
      "number of lags (no zero) 1\n",
      "ssr based F test:         F=0.2832  , p=0.5947  , df_denom=1250, df_num=1\n",
      "ssr based chi2 test:   chi2=0.2839  , p=0.5941  , df=1\n",
      "likelihood ratio test: chi2=0.2839  , p=0.5942  , df=1\n",
      "parameter F test:         F=0.2832  , p=0.5947  , df_denom=1250, df_num=1\n",
      "\n",
      "Granger Causality\n",
      "number of lags (no zero) 2\n",
      "ssr based F test:         F=0.9728  , p=0.3783  , df_denom=1247, df_num=2\n",
      "ssr based chi2 test:   chi2=1.9535  , p=0.3765  , df=2\n",
      "likelihood ratio test: chi2=1.9519  , p=0.3768  , df=2\n",
      "parameter F test:         F=0.9728  , p=0.3783  , df_denom=1247, df_num=2\n",
      "\n",
      "Granger Causality\n",
      "number of lags (no zero) 3\n",
      "ssr based F test:         F=0.7446  , p=0.5255  , df_denom=1244, df_num=3\n",
      "ssr based chi2 test:   chi2=2.2463  , p=0.5229  , df=3\n",
      "likelihood ratio test: chi2=2.2443  , p=0.5233  , df=3\n",
      "parameter F test:         F=0.7446  , p=0.5255  , df_denom=1244, df_num=3\n"
     ]
    }
   ],
   "source": [
    "granger_data = df[[ 'd_Coco', 'd_Sentiment']]\n",
    "gtest = grangercausalitytests(granger_data, 3)"
   ]
  },
  {
   "cell_type": "markdown",
   "metadata": {
    "ExecuteTime": {
     "end_time": "2020-05-09T16:34:28.729996Z",
     "start_time": "2020-05-09T16:34:28.717171Z"
    }
   },
   "source": [
    "***\n",
    "Does CoCo granger cause Sentiment?"
   ]
  },
  {
   "cell_type": "code",
   "execution_count": 28,
   "metadata": {
    "ExecuteTime": {
     "end_time": "2020-05-17T09:22:46.275323Z",
     "start_time": "2020-05-17T09:22:46.229917Z"
    }
   },
   "outputs": [
    {
     "name": "stdout",
     "output_type": "stream",
     "text": [
      "\n",
      "Granger Causality\n",
      "number of lags (no zero) 1\n",
      "ssr based F test:         F=0.0950  , p=0.7579  , df_denom=1250, df_num=1\n",
      "ssr based chi2 test:   chi2=0.0953  , p=0.7576  , df=1\n",
      "likelihood ratio test: chi2=0.0953  , p=0.7576  , df=1\n",
      "parameter F test:         F=0.0950  , p=0.7579  , df_denom=1250, df_num=1\n",
      "\n",
      "Granger Causality\n",
      "number of lags (no zero) 2\n",
      "ssr based F test:         F=0.2209  , p=0.8018  , df_denom=1247, df_num=2\n",
      "ssr based chi2 test:   chi2=0.4435  , p=0.8011  , df=2\n",
      "likelihood ratio test: chi2=0.4435  , p=0.8011  , df=2\n",
      "parameter F test:         F=0.2209  , p=0.8018  , df_denom=1247, df_num=2\n",
      "\n",
      "Granger Causality\n",
      "number of lags (no zero) 3\n",
      "ssr based F test:         F=1.5970  , p=0.1883  , df_denom=1244, df_num=3\n",
      "ssr based chi2 test:   chi2=4.8179  , p=0.1856  , df=3\n",
      "likelihood ratio test: chi2=4.8086  , p=0.1864  , df=3\n",
      "parameter F test:         F=1.5970  , p=0.1883  , df_denom=1244, df_num=3\n"
     ]
    }
   ],
   "source": [
    "granger_data = df[[ 'd_Sentiment', 'd_Coco']]\n",
    "gtest = grangercausalitytests(granger_data, 3)"
   ]
  },
  {
   "cell_type": "markdown",
   "metadata": {},
   "source": [
    "## Final Remarks"
   ]
  },
  {
   "cell_type": "markdown",
   "metadata": {},
   "source": [
    "Coefficient for Sentiment is significant at 10%. Ganger causality suggest that time series of sentiment is not useful in predicting the time series of CoCo returns"
   ]
  }
 ],
 "metadata": {
  "kernelspec": {
   "display_name": "Python 3",
   "language": "python",
   "name": "python3"
  },
  "language_info": {
   "codemirror_mode": {
    "name": "ipython",
    "version": 3
   },
   "file_extension": ".py",
   "mimetype": "text/x-python",
   "name": "python",
   "nbconvert_exporter": "python",
   "pygments_lexer": "ipython3",
   "version": "3.7.3"
  },
  "toc": {
   "base_numbering": 1,
   "nav_menu": {},
   "number_sections": true,
   "sideBar": true,
   "skip_h1_title": true,
   "title_cell": "Table of Contents",
   "title_sidebar": "Contents",
   "toc_cell": false,
   "toc_position": {},
   "toc_section_display": true,
   "toc_window_display": true
  },
  "varInspector": {
   "cols": {
    "lenName": 16,
    "lenType": 16,
    "lenVar": 40
   },
   "kernels_config": {
    "python": {
     "delete_cmd_postfix": "",
     "delete_cmd_prefix": "del ",
     "library": "var_list.py",
     "varRefreshCmd": "print(var_dic_list())"
    },
    "r": {
     "delete_cmd_postfix": ") ",
     "delete_cmd_prefix": "rm(",
     "library": "var_list.r",
     "varRefreshCmd": "cat(var_dic_list()) "
    }
   },
   "types_to_exclude": [
    "module",
    "function",
    "builtin_function_or_method",
    "instance",
    "_Feature"
   ],
   "window_display": false
  }
 },
 "nbformat": 4,
 "nbformat_minor": 2
}
